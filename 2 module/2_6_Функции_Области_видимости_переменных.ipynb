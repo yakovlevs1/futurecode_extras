{
 "cells": [
  {
   "cell_type": "markdown",
   "metadata": {
    "id": "AKZH17mHgLMz"
   },
   "source": [
    "# Занятие 2.5"
   ]
  },
  {
   "cell_type": "markdown",
   "metadata": {
    "id": "V4njW26kU2d7"
   },
   "source": [
    "Часто в программах требуется использовать какую-то часть кода несколько раз. В таком случае удобно использовать **функции**. \n",
    "\n",
    "У функции есть имя и список аргументов, которые она принимает. \n",
    "\n",
    "Описать функцию в Python можно так:\n",
    "\n",
    "    def имя_функции(аргумент1, аргумент2, ...):\n",
    "        тело функции\n",
    "\n",
    "\n"
   ]
  },
  {
   "cell_type": "markdown",
   "metadata": {
    "id": "elDVB71ejXas"
   },
   "source": [
    "При выборе имени функции действуют те же правила, что и для переменных: имя может содержать строчные буквы английского алфавита, цифры и знаки подчеркивания. Под аргументами функции понимают переменные, которые будут использоваться в теле функции. Само тело функции - это фрагмент кода, который решает определенную задачу, а затем возвращает результат с помощью оператора `return`. При возврате значения, функция прекращает свою работу, а интерпретатор продолжает работу основной программы, подставив на место вызова функции возвращенное значение."
   ]
  },
  {
   "cell_type": "markdown",
   "metadata": {
    "id": "dnw9o5zXft0b"
   },
   "source": [
    "## Пример 1. \n",
    "Напишем функцию, которая проверяет, является ли число чётным:\n",
    "\n"
   ]
  },
  {
   "cell_type": "code",
   "execution_count": null,
   "metadata": {
    "colab": {
     "base_uri": "https://localhost:8080/"
    },
    "id": "8RVXb02LPsmU",
    "outputId": "485ce8fc-6ab1-4eff-f603-3d67b548bdc7"
   },
   "outputs": [
    {
     "name": "stdout",
     "output_type": "stream",
     "text": [
      "14 - чётное\n",
      "11 - нечётное\n"
     ]
    }
   ],
   "source": [
    "def even_odd(x):\n",
    "    if x % 2 == 0:\n",
    "        return f'{x} - чётное'\n",
    "    else:\n",
    "        return f'{x} - нечётное'\n",
    "\n",
    "\n",
    "print(even_odd(14))\n",
    "print(even_odd(11))\n"
   ]
  },
  {
   "cell_type": "markdown",
   "metadata": {
    "id": "7kxSfw0qkHb1"
   },
   "source": [
    "В функциях можно использовать несколько операторов `return`. \n",
    "\n",
    "Пример можно записать иначе, использовав вместо нескольких точек возврата значения флага `result`:"
   ]
  },
  {
   "cell_type": "code",
   "execution_count": null,
   "metadata": {
    "colab": {
     "base_uri": "https://localhost:8080/"
    },
    "id": "hpStqGErkboD",
    "outputId": "769a11dd-30cf-4b92-e827-cdc9fd0caf7d"
   },
   "outputs": [
    {
     "name": "stdout",
     "output_type": "stream",
     "text": [
      "14 - чётное\n",
      "11 - нечётное\n"
     ]
    }
   ],
   "source": [
    "def even_odd(x):\n",
    "    if x % 2 == 0:\n",
    "        result = f'{x} - чётное'\n",
    "    else:\n",
    "        result = f'{x} - нечётное'\n",
    "    return result\n",
    "\n",
    "\n",
    "print(even_odd(14))\n",
    "print(even_odd(11))\n"
   ]
  },
  {
   "cell_type": "markdown",
   "metadata": {
    "id": "yxz5eoj0lHn0"
   },
   "source": [
    "Функция в Python всегда возвращает результат, даже если в ней нет `return` или `return` записан без ничего. Тогда в место вызова функции будет возвращен `None` — специальный тип данных в Python, значение которого можно перевести с английского, как \"ничего\". "
   ]
  },
  {
   "cell_type": "markdown",
   "metadata": {
    "id": "dvcdNH8HrlDQ"
   },
   "source": [
    "Рассмотрим пример.\n",
    "При попытке вывести значение переменной `numbers` в основной программе получаем сообщение `\"name 'numbers' is not defined\"`"
   ]
  },
  {
   "cell_type": "code",
   "execution_count": null,
   "metadata": {
    "colab": {
     "base_uri": "https://localhost:8080/",
     "height": 219
    },
    "id": "pMKu9kBxrz9u",
    "outputId": "c02a3b5f-4bc6-4c0e-a4c3-4f767c31bd9d"
   },
   "outputs": [
    {
     "name": "stdout",
     "output_type": "stream",
     "text": [
      "True\n"
     ]
    },
    {
     "ename": "NameError",
     "evalue": "ignored",
     "output_type": "error",
     "traceback": [
      "\u001b[0;31m---------------------------------------------------------------------------\u001b[0m",
      "\u001b[0;31mNameError\u001b[0m                                 Traceback (most recent call last)",
      "\u001b[0;32m<ipython-input-2-56e51c033878>\u001b[0m in \u001b[0;36m<module>\u001b[0;34m\u001b[0m\n\u001b[1;32m      8\u001b[0m \u001b[0mprint\u001b[0m\u001b[0;34m(\u001b[0m\u001b[0monly_even\u001b[0m\u001b[0;34m(\u001b[0m\u001b[0mmy_list\u001b[0m\u001b[0;34m)\u001b[0m\u001b[0;34m)\u001b[0m\u001b[0;34m\u001b[0m\u001b[0;34m\u001b[0m\u001b[0m\n\u001b[1;32m      9\u001b[0m \u001b[0;31m# попробуем вывести значение переменной numbers в основной программе\u001b[0m\u001b[0;34m\u001b[0m\u001b[0;34m\u001b[0m\u001b[0;34m\u001b[0m\u001b[0m\n\u001b[0;32m---> 10\u001b[0;31m \u001b[0mprint\u001b[0m\u001b[0;34m(\u001b[0m\u001b[0mnumbers\u001b[0m\u001b[0;34m)\u001b[0m\u001b[0;34m\u001b[0m\u001b[0;34m\u001b[0m\u001b[0m\n\u001b[0m",
      "\u001b[0;31mNameError\u001b[0m: name 'numbers' is not defined"
     ]
    }
   ],
   "source": [
    "def only_even(numbers):\n",
    "    for i in numbers:\n",
    "        if i % 2 == 0:\n",
    "            return True\n",
    "    return False\n",
    "\n",
    "\n",
    "my_list = [1, 2, 3, 4, 5]\n",
    "print(only_even(my_list))\n",
    "# попробуем вывести значение переменной numbers в основной программе\n",
    "print(numbers)\n"
   ]
  },
  {
   "cell_type": "markdown",
   "metadata": {
    "id": "WQqBQ_kOsol8"
   },
   "source": [
    "Появление ошибки связано с тем, что аргумент функции `numbers` недоступен вне этой функции, он является **локальной переменной** и существует только во время выполнения функции и доступен только внутри неё. Иначе говорят, что аргумент функции находится в локальной области видимости функции.\n",
    "\n",
    "Кроме локальной, существует **глобальная область видимости**. Переменные, созданные вне функций, то есть в основном коде программе, находятся в глобальной области видимости. Это означает, что к ним можно получить доступ в любой части программы. "
   ]
  },
  {
   "cell_type": "code",
   "execution_count": null,
   "metadata": {
    "colab": {
     "base_uri": "https://localhost:8080/"
    },
    "id": "6v-86Zvzuncm",
    "outputId": "f83d3527-8c30-4df5-eda3-5ade8a7dfb1f"
   },
   "outputs": [
    {
     "name": "stdout",
     "output_type": "stream",
     "text": [
      "False\n"
     ]
    }
   ],
   "source": [
    "def my_list(s):\n",
    "    return s == string\n",
    "\n",
    "\n",
    "string = \"Python\"\n",
    "print(my_list(\"С++\"))\n"
   ]
  },
  {
   "cell_type": "markdown",
   "metadata": {
    "id": "NLOsx-YAvanA"
   },
   "source": [
    "Использование внутри функции внешних переменных (из глобальной области видимости) имеет некоторое особенности: изменение значения локальной переменной (если это разрешено типом данных) действует на внешнюю переменную, а присваивание нового значения создаёт локальную переменную функции.\n"
   ]
  },
  {
   "cell_type": "code",
   "execution_count": 5,
   "metadata": {
    "colab": {
     "base_uri": "https://localhost:8080/"
    },
    "id": "Wnjnhf0Avl0-",
    "outputId": "84761129-fe42-48e9-a95a-c315e3d6b0e3"
   },
   "outputs": [
    {
     "name": "stdout",
     "output_type": "stream",
     "text": [
      "[1, 2]\n"
     ]
    }
   ],
   "source": [
    "def sample():\n",
    "    del my_list[-1]\n",
    "\n",
    "\n",
    "my_list = [1, 2, 3, 4]\n",
    "sample()\n",
    "sample()\n",
    "print(my_list)  # на экран будет выведен измененный список\n"
   ]
  },
  {
   "cell_type": "markdown",
   "metadata": {
    "id": "0Abi963Iw35a"
   },
   "source": [
    "При попытке записать новое значение во внешнюю переменную (не важно — изменяемого или неизменяемого типа), внутри функции будет создана локальная переменная с тем же именем, что и у внешней:"
   ]
  },
  {
   "cell_type": "code",
   "execution_count": 6,
   "metadata": {
    "colab": {
     "base_uri": "https://localhost:8080/"
    },
    "id": "WkqLmJBew7Xj",
    "outputId": "0dac3279-2e2b-4f38-fc33-2495c64b110d"
   },
   "outputs": [
    {
     "name": "stdout",
     "output_type": "stream",
     "text": [
      "[1, 2, 3, 4]\n"
     ]
    }
   ],
   "source": [
    "def sample():\n",
    "    my_list = [10, 9, 8]\n",
    "\n",
    "\n",
    "my_list = [1, 2, 3, 4]\n",
    "sample()\n",
    "print(my_list)\n"
   ]
  },
  {
   "cell_type": "markdown",
   "metadata": {
    "id": "MvZB4JmYxTy5"
   },
   "source": [
    "Если в функции необходимо менять значения переменных из глобальной области видимости путём операции присваивания, то необходимо в теле функции сделать эти переменные глобальными с помощью ключевого слова `global`. Тогда в функции не будут создаваться локальные переменные с такими же именами, а значение поменяется в глобальной переменной:"
   ]
  },
  {
   "cell_type": "code",
   "execution_count": 7,
   "metadata": {
    "colab": {
     "base_uri": "https://localhost:8080/"
    },
    "id": "AM5s3tQ1xiqu",
    "outputId": "8857dfb4-6b0a-4607-ba92-69e67415da92"
   },
   "outputs": [
    {
     "name": "stdout",
     "output_type": "stream",
     "text": [
      "2\n",
      "4\n",
      "8\n"
     ]
    }
   ],
   "source": [
    "def multy():\n",
    "    global x\n",
    "    x *= 2\n",
    "    print(x)\n",
    "\n",
    "\n",
    "x = 1\n",
    "multy()\n",
    "multy()\n",
    "multy()\n"
   ]
  },
  {
   "cell_type": "markdown",
   "metadata": {
    "id": "L0Yvw3RkyBEI"
   },
   "source": [
    "Будьте осторожны! Использовать глобальные переменные можно только в случае, если это действительно необходимо, и написать программу без них сложнее или невозможно."
   ]
  },
  {
   "cell_type": "markdown",
   "metadata": {
    "id": "7IBlsF5xk0X7"
   },
   "source": [
    "### Пример 1\n",
    "Опишем функцию, которая возвращает факториал числа"
   ]
  },
  {
   "cell_type": "code",
   "execution_count": 1,
   "metadata": {
    "colab": {
     "base_uri": "https://localhost:8080/"
    },
    "id": "xLgNBmDOiAi2",
    "outputId": "6ce72201-5aac-4b23-fdc4-001c45cf8b48"
   },
   "outputs": [
    {
     "name": "stdout",
     "output_type": "stream",
     "text": [
      "2\n",
      "24\n",
      "6689502913449127057588118054090372586752746333138029810295671352301633557244962989366874165271984981308157637893214090552534408589408121859898481114389650005964960521256960000000000000000000000000000\n"
     ]
    }
   ],
   "source": [
    "# функция, вычисляющая факториал\n",
    "def factorial(n):\n",
    "    f = 1\n",
    "    for i in range(2, n+1):\n",
    "        f *= i\n",
    "    return f\n",
    "\n",
    "\n",
    "print(factorial(2))\n",
    "print(factorial(4))\n",
    "print(factorial(120))\n"
   ]
  },
  {
   "cell_type": "code",
   "execution_count": 3,
   "metadata": {
    "colab": {
     "base_uri": "https://localhost:8080/"
    },
    "id": "GOpu-rngiAi5",
    "outputId": "ffe40c98-4bab-4445-fd30-e5daa2efabfc"
   },
   "outputs": [
    {
     "name": "stdout",
     "output_type": "stream",
     "text": [
      "30414093201713378043612608166064768844377641568960512000000000720\n"
     ]
    }
   ],
   "source": [
    "print(factorial(50) + factorial(6))\n"
   ]
  },
  {
   "cell_type": "markdown",
   "metadata": {
    "id": "iGelo0W-V3YT"
   },
   "source": [
    "## Пример 2. \n",
    "Опишем функцию, которая возвращает сумму двух последних цифр числа."
   ]
  },
  {
   "cell_type": "code",
   "execution_count": 5,
   "metadata": {
    "colab": {
     "base_uri": "https://localhost:8080/"
    },
    "id": "D7Brb8PhSkJ9",
    "outputId": "7adae727-4116-4b52-ce5f-b35bf4fa8e35"
   },
   "outputs": [
    {
     "name": "stdout",
     "output_type": "stream",
     "text": [
      "13\n"
     ]
    }
   ],
   "source": [
    "def sum_number(a):\n",
    "    ans = a // 10 % 10 + a % 10\n",
    "    return ans\n",
    "\n",
    "\n",
    "n = int(input())\n",
    "print(sum_number(n))\n"
   ]
  },
  {
   "cell_type": "markdown",
   "metadata": {
    "id": "kBlqHmcJKqVK"
   },
   "source": [
    "### Пример 3\n",
    "\n",
    "Опишем функцию, удваивающую вхождение введенного символа в тексте."
   ]
  },
  {
   "cell_type": "code",
   "execution_count": null,
   "metadata": {
    "colab": {
     "base_uri": "https://localhost:8080/"
    },
    "id": "3Hq2_j-fS1Zu",
    "outputId": "34cdd143-fd3f-45ea-cc4b-d7e9c23bf0a0"
   },
   "outputs": [
    {
     "name": "stdout",
     "output_type": "stream",
     "text": [
      "Python\n",
      "o\n",
      "Pythoon\n"
     ]
    }
   ],
   "source": [
    "def duble(string, symbol):\n",
    "    return string.replace(symbol, symbol*2)\n",
    "\n",
    "\n",
    "s = input()\n",
    "c = input()\n",
    "print(duble(s, c))\n"
   ]
  },
  {
   "cell_type": "code",
   "execution_count": null,
   "metadata": {},
   "outputs": [],
   "source": []
  }
 ],
 "metadata": {
  "colab": {
   "provenance": []
  },
  "kernelspec": {
   "display_name": "Python 3 (ipykernel)",
   "language": "python",
   "name": "python3"
  },
  "language_info": {
   "codemirror_mode": {
    "name": "ipython",
    "version": 3
   },
   "file_extension": ".py",
   "mimetype": "text/x-python",
   "name": "python",
   "nbconvert_exporter": "python",
   "pygments_lexer": "ipython3",
   "version": "3.11.0"
  },
  "latex_envs": {
   "LaTeX_envs_menu_present": true,
   "autoclose": false,
   "autocomplete": true,
   "bibliofile": "biblio.bib",
   "cite_by": "apalike",
   "current_citInitial": 1,
   "eqLabelWithNumbers": true,
   "eqNumInitial": 1,
   "hotkeys": {
    "equation": "Ctrl-E",
    "itemize": "Ctrl-I"
   },
   "labels_anchors": false,
   "latex_user_defs": false,
   "report_style_numbering": false,
   "user_envs_cfg": false
  },
  "vscode": {
   "interpreter": {
    "hash": "248ca1dad35692e79aec6395a5eb0b8e20af0de2c141374eb97c620612f26743"
   }
  }
 },
 "nbformat": 4,
 "nbformat_minor": 1
}
