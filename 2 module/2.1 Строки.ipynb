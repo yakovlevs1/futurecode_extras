{
 "cells": [
  {
   "cell_type": "markdown",
   "metadata": {
    "id": "Uv3hEz58KW-E"
   },
   "source": [
    "## **Урок 2.1 Строки. Срезы. Методы строк**\n"
   ]
  },
  {
   "cell_type": "code",
   "execution_count": 9,
   "metadata": {
    "ExecuteTime": {
     "end_time": "2023-01-26T13:12:35.078271Z",
     "start_time": "2023-01-26T13:12:35.075229Z"
    }
   },
   "outputs": [
    {
     "name": "stdout",
     "output_type": "stream",
     "text": [
      "94371238761237\n",
      "[1, 2374, 93485794, '94371238761237', [29347, 'gdghdigh'], 4]\n"
     ]
    }
   ],
   "source": [
    "a = [1, 2374, 93485794, \"94371238761237\", [29347, 'gdghdigh']]#list\n",
    "a.append(4)\n",
    "\n",
    "print(a[3])\n",
    "print(a)"
   ]
  },
  {
   "cell_type": "markdown",
   "metadata": {
    "id": "tDClBvR-Kggw"
   },
   "source": [
    "### **1. Строки в Python**"
   ]
  },
  {
   "cell_type": "markdown",
   "metadata": {
    "id": "hpT00LAL6EXb"
   },
   "source": [
    "Строка состоит из последовательности символов:\n",
    "\n",
    "'Текст в виде строки. Можно использовать цифры и другие символы, но не всякие.'\n",
    "\n",
    "или так:\n",
    "\n",
    "\"1 + 2 = 3 - my text.\"\n",
    "\n",
    "Тип строки str.\n",
    "В языке Python нет отдельного символьного типа. Символ — это просто строка длины 1.\n",
    "\n",
    "Можно преобразовать число в строку: str(5)\n"
   ]
  },
  {
   "cell_type": "code",
   "execution_count": 64,
   "metadata": {
    "ExecuteTime": {
     "end_time": "2023-01-25T14:41:47.391787Z",
     "start_time": "2023-01-25T14:41:47.389669Z"
    }
   },
   "outputs": [
    {
     "name": "stdout",
     "output_type": "stream",
     "text": [
      "<class 'str'>\n",
      "<class 'str'>\n"
     ]
    }
   ],
   "source": [
    "my_str = '1 + 2 = 3 - my text'\n",
    "print(type(my_str))\n",
    "print(type(my_str[6]))"
   ]
  },
  {
   "cell_type": "code",
   "execution_count": 10,
   "metadata": {
    "ExecuteTime": {
     "end_time": "2023-01-26T13:14:50.728563Z",
     "start_time": "2023-01-26T13:14:50.726072Z"
    },
    "colab": {
     "base_uri": "https://localhost:8080/"
    },
    "id": "vYPDBJoKq2f-",
    "outputId": "9c688907-5001-436f-c4d0-f94a419336ea"
   },
   "outputs": [
    {
     "name": "stdout",
     "output_type": "stream",
     "text": [
      "19\n"
     ]
    }
   ],
   "source": [
    "# Длина строки \n",
    "my_str = '1 + 2 = 3 - my text'\n",
    "print(len(my_str))"
   ]
  },
  {
   "cell_type": "markdown",
   "metadata": {
    "id": "xDfKLYgwNDA0"
   },
   "source": [
    "### **2. Индексация строк**"
   ]
  },
  {
   "cell_type": "markdown",
   "metadata": {
    "id": "B8T_sm7WNAev"
   },
   "source": [
    "По индексу можно получить соответствующий ему символ строки. Для этого нужно после самой строки написать в квадратных скобках индекс символа.\n",
    "\n",
    "### Обращение к элементу строки my_str[i]"
   ]
  },
  {
   "cell_type": "code",
   "execution_count": 2,
   "metadata": {
    "ExecuteTime": {
     "end_time": "2023-01-24T06:37:34.815660Z",
     "start_time": "2023-01-24T06:37:34.812308Z"
    },
    "id": "XuI5BtniLe1I",
    "outputId": "e49e4c14-a869-4a99-b848-e8e1398e6826"
   },
   "outputs": [
    {
     "name": "stdout",
     "output_type": "stream",
     "text": [
      "п\n",
      "в\n"
     ]
    }
   ],
   "source": [
    "word = 'привет'\n",
    "print(word[0])\n",
    "print(word[3])"
   ]
  },
  {
   "cell_type": "markdown",
   "metadata": {
    "id": "1rru3g_iLe1K"
   },
   "source": [
    "Если попытаться получить букву, номера которой нет, Python выдаст ошибку"
   ]
  },
  {
   "cell_type": "code",
   "execution_count": 3,
   "metadata": {
    "ExecuteTime": {
     "end_time": "2023-01-24T06:37:36.294710Z",
     "start_time": "2023-01-24T06:37:36.221928Z"
    },
    "id": "4Xt_MRwRLe1K"
   },
   "outputs": [
    {
     "ename": "IndexError",
     "evalue": "string index out of range",
     "output_type": "error",
     "traceback": [
      "\u001b[1;31m---------------------------------------------------------------------------\u001b[0m",
      "\u001b[1;31mIndexError\u001b[0m                                Traceback (most recent call last)",
      "Cell \u001b[1;32mIn [3], line 1\u001b[0m\n\u001b[1;32m----> 1\u001b[0m \u001b[38;5;28mprint\u001b[39m(\u001b[43mword\u001b[49m\u001b[43m[\u001b[49m\u001b[38;5;241;43m6\u001b[39;49m\u001b[43m]\u001b[49m)\n",
      "\u001b[1;31mIndexError\u001b[0m: string index out of range"
     ]
    }
   ],
   "source": [
    "print(word[6])"
   ]
  },
  {
   "cell_type": "markdown",
   "metadata": {
    "id": "gdJbRxEnLe1L"
   },
   "source": [
    "В квадратных скобках можно указывать не только фиксированное число, но и считать его с клавиатуры или получить в результате арифметического действия."
   ]
  },
  {
   "cell_type": "code",
   "execution_count": 7,
   "metadata": {
    "ExecuteTime": {
     "end_time": "2023-01-25T12:13:30.115602Z",
     "start_time": "2023-01-25T12:13:24.903268Z"
    },
    "id": "Si9XHtFULe1L",
    "outputId": "cbc7e6d9-1615-4886-f331-b4c12a8e1437"
   },
   "outputs": [
    {
     "name": "stdout",
     "output_type": "stream",
     "text": [
      "3\n",
      "в\n"
     ]
    }
   ],
   "source": [
    "word = 'привет'\n",
    "print(word[int(input())])"
   ]
  },
  {
   "cell_type": "markdown",
   "metadata": {
    "id": "GlIQjoiYLe1M"
   },
   "source": [
    "<b>Отрицательные индексы</b>\n",
    "\n",
    "В Python разрешены отрицательные индексы: word[-1] означает последний символ строки word, word[-2] — предпоследний и т д."
   ]
  },
  {
   "cell_type": "code",
   "execution_count": 11,
   "metadata": {
    "ExecuteTime": {
     "end_time": "2023-01-26T13:18:28.972603Z",
     "start_time": "2023-01-26T13:18:28.969748Z"
    }
   },
   "outputs": [
    {
     "name": "stdout",
     "output_type": "stream",
     "text": [
      "!\n",
      "!\n"
     ]
    }
   ],
   "source": [
    "word = 'Привет, Андрей!'\n",
    "print(word[len(word)-1])\n",
    "print(word[-1])"
   ]
  },
  {
   "cell_type": "markdown",
   "metadata": {
    "id": "Fnj2OD86Le1M"
   },
   "source": [
    "### Важно! "
   ]
  },
  {
   "cell_type": "code",
   "execution_count": 14,
   "metadata": {
    "ExecuteTime": {
     "end_time": "2023-01-25T12:17:55.233166Z",
     "start_time": "2023-01-25T12:17:55.230283Z"
    }
   },
   "outputs": [
    {
     "name": "stdout",
     "output_type": "stream",
     "text": [
      "[5827, 4375958, 943857534]\n",
      "[2, 4375958, 943857534]\n"
     ]
    }
   ],
   "source": [
    "a = [5827, 4375958, 943857534]\n",
    "print(a)\n",
    "a[0] = 2\n",
    "print(a)"
   ]
  },
  {
   "cell_type": "markdown",
   "metadata": {
    "id": "xG7KsWmSLe1M"
   },
   "source": [
    "Так как в Python строки - это неизменяемый тип данных, изменить отдельный символ строки невозможно:"
   ]
  },
  {
   "cell_type": "code",
   "execution_count": 1,
   "metadata": {
    "ExecuteTime": {
     "end_time": "2023-02-02T13:30:48.605387Z",
     "start_time": "2023-02-02T13:30:48.525370Z"
    },
    "id": "O_DVOGGRLe1M",
    "outputId": "ae365fed-7070-4265-e62b-89a7517d53ce"
   },
   "outputs": [
    {
     "ename": "TypeError",
     "evalue": "'str' object does not support item assignment",
     "output_type": "error",
     "traceback": [
      "\u001b[1;31m---------------------------------------------------------------------------\u001b[0m",
      "\u001b[1;31mTypeError\u001b[0m                                 Traceback (most recent call last)",
      "Cell \u001b[1;32mIn [1], line 2\u001b[0m\n\u001b[0;32m      1\u001b[0m word \u001b[38;5;241m=\u001b[39m \u001b[38;5;124m'\u001b[39m\u001b[38;5;124mмалоко\u001b[39m\u001b[38;5;124m'\u001b[39m\n\u001b[1;32m----> 2\u001b[0m \u001b[43mword\u001b[49m\u001b[43m[\u001b[49m\u001b[38;5;241;43m1\u001b[39;49m\u001b[43m]\u001b[49m \u001b[38;5;241m=\u001b[39m \u001b[38;5;124m'\u001b[39m\u001b[38;5;124mо\u001b[39m\u001b[38;5;124m'\u001b[39m\n\u001b[0;32m      3\u001b[0m \u001b[38;5;28mprint\u001b[39m(word)\n",
      "\u001b[1;31mTypeError\u001b[0m: 'str' object does not support item assignment"
     ]
    }
   ],
   "source": [
    "word = 'малоко'\n",
    "word[1] = 'о'\n",
    "print(word)"
   ]
  },
  {
   "cell_type": "markdown",
   "metadata": {
    "id": "TBxjCHf6Le1N"
   },
   "source": [
    "### **3. Перебор элементов строки**"
   ]
  },
  {
   "cell_type": "markdown",
   "metadata": {
    "id": "KIhbtN1uLe1N"
   },
   "source": [
    "Оператор <b>in</b> позволяет проверить наличие подстроки в строке, а также итерировать по строке."
   ]
  },
  {
   "cell_type": "code",
   "execution_count": 16,
   "metadata": {
    "ExecuteTime": {
     "end_time": "2023-01-25T12:19:07.159765Z",
     "start_time": "2023-01-25T12:19:07.157178Z"
    },
    "id": "G8K4w0KpLe1N",
    "outputId": "fa3107b5-9895-454b-a44b-8baccc6ffcce",
    "scrolled": true
   },
   "outputs": [
    {
     "name": "stdout",
     "output_type": "stream",
     "text": [
      "True\n"
     ]
    }
   ],
   "source": [
    "print('3.14' in 'Число Пи = 3.1415926')"
   ]
  },
  {
   "cell_type": "code",
   "execution_count": 17,
   "metadata": {
    "ExecuteTime": {
     "end_time": "2023-01-25T12:21:43.942595Z",
     "start_time": "2023-01-25T12:21:43.939819Z"
    },
    "id": "7lbWvoo6Le1N",
    "outputId": "aa03eb45-2909-4a8c-d8d3-cd57daafe171"
   },
   "outputs": [
    {
     "name": "stdout",
     "output_type": "stream",
     "text": [
      "3\n"
     ]
    }
   ],
   "source": [
    "text = 'Лень — главное достоинство программиста. (Larry Wall)'\n",
    "vowels = 0\n",
    "for i in text:\n",
    "    if i in ['a', 'e', 'i', 'o', 'u', 'y']:\n",
    "        vowels += 1\n",
    "print(vowels)"
   ]
  },
  {
   "cell_type": "markdown",
   "metadata": {
    "id": "RmzV1GTCLe1N"
   },
   "source": [
    "Так как символы в строке пронумерован, можно перебирать их с помощью for .. in ..range()"
   ]
  },
  {
   "cell_type": "code",
   "execution_count": 8,
   "metadata": {
    "ExecuteTime": {
     "end_time": "2023-01-24T06:37:59.096878Z",
     "start_time": "2023-01-24T06:37:59.093875Z"
    },
    "id": "f7wBNLpFLe1O",
    "outputId": "606530dd-e532-44c2-e3f6-9150eb97c42f"
   },
   "outputs": [
    {
     "name": "stdout",
     "output_type": "stream",
     "text": [
      "3\n"
     ]
    }
   ],
   "source": [
    "text = 'Лень — главное достоинство программиста. (Larry Wall)'\n",
    "vowels = 0\n",
    "for i in range(len(text)): # 0, ..., n-1\n",
    "    if text[i] in 'aeiouy':\n",
    "        vowels += 1\n",
    "print(vowels)"
   ]
  },
  {
   "cell_type": "markdown",
   "metadata": {
    "id": "y1k27lS8qs71"
   },
   "source": [
    "### **4. Юникод. Хранение текстов в памяти компьютера**"
   ]
  },
  {
   "cell_type": "markdown",
   "metadata": {
    "id": "5DWEtaDFqs71"
   },
   "source": [
    "Поскольку компьютер умеет хранить только двоичные числа, для записи нечисловой информации используются кодовые таблицы -  ASCII, Unicod и др."
   ]
  },
  {
   "cell_type": "markdown",
   "metadata": {
    "id": "6-mOoTWtqs71"
   },
   "source": [
    "Изначально в таблице каждому символу был поставлен в соответствие 7-битный код, что позволяло идентифицировать 128 различных символов. \n",
    "\n",
    "Этого хватало на латинские буквы обоих регистров, знаки препинания и спецсимволы — например, перевод строки или разрыв страницы. Позже код расширили до 1 байта, что позволяло хранить уже 256 различных значений: в таблицу помещались буквы второго алфавита (например, кириллица) и дополнительные графические элементы (псевдографика).\n",
    "\n",
    "В некоторых относительно низкоуровневых языках (например, в С) можно в любой момент перейти от представления строки в памяти к последовательности байтов, начинающейся по какому-либо адресу.\n",
    "\n",
    "Сейчас однобайтные кодировки отошли на второй план, уступив место <b>Юникоду</b>."
   ]
  },
  {
   "cell_type": "markdown",
   "metadata": {
    "id": "vu-cofWiqs72"
   },
   "source": [
    "Юникод содержит соответствия между числом и каким-либо знаком, причем количество знаков может быть любым. Это позволяет одновременно использовать любые символы любых алфавитов и дополнительные графические элементы. Кроме того, в Юникоде каждый символ, помимо кода, имеет некоторые свойства: например, буква это или цифра. Это позволяет более гибко работать с текстами.\n",
    "\n",
    "В Юникод все время добавляются новые элементы, а сам размер этой таблицы не ограничен и будет только расти, поэтому сейчас при хранении в памяти одного юникод-символа может потребоваться от 1 до 8 байт. Отсутствие ограничений привело к тому, что стали появляться символы на все случаи жизни. Например, такой:)"
   ]
  },
  {
   "cell_type": "code",
   "execution_count": 18,
   "metadata": {
    "ExecuteTime": {
     "end_time": "2023-01-25T12:25:53.351971Z",
     "start_time": "2023-01-25T12:25:53.349128Z"
    },
    "id": "jxC4pEf0qs72",
    "outputId": "357e3e59-91f3-4d3d-ac28-b31b27d045d5"
   },
   "outputs": [
    {
     "name": "stdout",
     "output_type": "stream",
     "text": [
      "☃\n"
     ]
    }
   ],
   "source": [
    "print('\\u2603')"
   ]
  },
  {
   "cell_type": "markdown",
   "metadata": {
    "id": "4BWoQ1-nqs72"
   },
   "source": [
    "### Функции ord и chr"
   ]
  },
  {
   "cell_type": "markdown",
   "metadata": {
    "id": "2y_2FPPHqs72"
   },
   "source": [
    "<ul>\n",
    "    <li> <b>ord</b> - возвращает код символа(от order — «порядок»).</li>\n",
    "    <li> <b>chr</b> - возвращает по коду соответствующий ему символ.</li>\n",
    "</ul>"
   ]
  },
  {
   "cell_type": "code",
   "execution_count": 10,
   "metadata": {
    "ExecuteTime": {
     "end_time": "2023-01-24T06:38:05.925022Z",
     "start_time": "2023-01-24T06:38:05.922345Z"
    },
    "id": "EeKEPhiNqs72",
    "outputId": "3c4d1b21-f96d-43e2-88ca-fdb63a03a0f5"
   },
   "outputs": [
    {
     "name": "stdout",
     "output_type": "stream",
     "text": [
      "A B C D E F G H I J K L M N O P Q R S T U V W X Y Z "
     ]
    }
   ],
   "source": [
    "for i in range(26):\n",
    "    print(chr(ord('A') + i), end=' ')"
   ]
  },
  {
   "cell_type": "markdown",
   "metadata": {
    "id": "R9udXqIaqs73"
   },
   "source": [
    "### **5. Конвертация типов**"
   ]
  },
  {
   "cell_type": "markdown",
   "metadata": {
    "id": "AWnuHmAYqs73"
   },
   "source": [
    "К строкам можно применить конвертацию типов. Например, мы можем преобразовать вещественное число в переменную типа str:\n"
   ]
  },
  {
   "cell_type": "code",
   "execution_count": 67,
   "metadata": {
    "ExecuteTime": {
     "end_time": "2023-01-25T14:56:15.252260Z",
     "start_time": "2023-01-25T14:56:15.248878Z"
    },
    "id": "nuO7UxJ1qs73",
    "outputId": "38c1d308-b67d-48e1-ed2c-a2374aacfd70"
   },
   "outputs": [
    {
     "name": "stdout",
     "output_type": "stream",
     "text": [
      "<class 'str'>\n",
      "999.01\n",
      "999.01\n"
     ]
    }
   ],
   "source": [
    "num = 999.01\n",
    "num_string = str(num)\n",
    "print(type(num_string))\n",
    "print(num_string)\n",
    "print(num)"
   ]
  },
  {
   "cell_type": "markdown",
   "metadata": {
    "id": "NIw_zXIKqs73"
   },
   "source": [
    "### **6. Срезы**"
   ]
  },
  {
   "cell_type": "markdown",
   "metadata": {
    "id": "UGRKKRtMqs73"
   },
   "source": [
    "Кроме перебора элементов с помощью цикла for ..in ..range() взять отдельный ее кусок, символы с нечетными номерами и т.д. можно с помощью срезов (slice)."
   ]
  },
  {
   "cell_type": "markdown",
   "metadata": {
    "id": "SIh85F9Vqs73"
   },
   "source": [
    "<b>Срез строки</b>\n",
    "\n",
    "В самом простом варианте срез строки — ее кусок от одного индекса включительно и до другого не включительно (как для range). То есть это новая, более короткая строка.\n",
    "\n",
    "Срез записывается с помощью квадратных скобок, в которых указывается начальный и конечный индекс, разделенные двоеточием."
   ]
  },
  {
   "cell_type": "code",
   "execution_count": 14,
   "metadata": {
    "ExecuteTime": {
     "end_time": "2023-01-26T13:34:59.296908Z",
     "start_time": "2023-01-26T13:34:59.294507Z"
    },
    "id": "vBZgHvBfqs74",
    "outputId": "88f7c803-de87-454f-cb44-328075603f46"
   },
   "outputs": [
    {
     "name": "stdout",
     "output_type": "stream",
     "text": [
      "Hello\n",
      "world\n"
     ]
    }
   ],
   "source": [
    "text = 'Hello, world!'\n",
    "print(text[0:5])\n",
    "print(text[7:12])"
   ]
  },
  {
   "cell_type": "markdown",
   "metadata": {
    "id": "VybmgSPlqs74"
   },
   "source": [
    "Если не указан начальный индекс, срез берется от начала (от 0). Если не указан конечный индекс, срез берется до конца строки. "
   ]
  },
  {
   "cell_type": "code",
   "execution_count": 13,
   "metadata": {
    "ExecuteTime": {
     "end_time": "2023-01-24T06:38:10.712206Z",
     "start_time": "2023-01-24T06:38:10.709925Z"
    },
    "id": "yErv3wefqs74",
    "outputId": "38a92e5f-2942-44b6-cdb5-0237e0cda87b"
   },
   "outputs": [
    {
     "name": "stdout",
     "output_type": "stream",
     "text": [
      "Hello\n",
      "world!\n"
     ]
    }
   ],
   "source": [
    "text = 'Hello, world!'\n",
    "print(text[:5]) # range(n) 0, ..., n-1\n",
    "print(text[7:])"
   ]
  },
  {
   "cell_type": "markdown",
   "metadata": {
    "id": "aQjjq49Eqs74"
   },
   "source": [
    "Разрешены отрицательные индексы для отсчета с конца списка. "
   ]
  },
  {
   "cell_type": "code",
   "execution_count": 16,
   "metadata": {
    "ExecuteTime": {
     "end_time": "2023-01-26T13:38:04.756811Z",
     "start_time": "2023-01-26T13:38:04.754049Z"
    },
    "id": "gxq4mR-tqs74",
    "outputId": "cdc5dd51-b60d-415a-ac6d-bbf1c74ef657"
   },
   "outputs": [
    {
     "name": "stdout",
     "output_type": "stream",
     "text": [
      "Иванов\n"
     ]
    }
   ],
   "source": [
    "name = 'Иванов И. И.'\n",
    "print(name[:-6])"
   ]
  },
  {
   "cell_type": "markdown",
   "metadata": {
    "id": "eArWjL1Nqs75"
   },
   "source": [
    "Как и для <b>range</b>, в параметры среза можно добавить третье число — шаг обхода. Этот параметр не является обязательным и записывается через второе двоеточие. "
   ]
  },
  {
   "cell_type": "markdown",
   "metadata": {
    "id": "7S21D7-7qs75"
   },
   "source": [
    "Шаг может быть и <b>отрицательным</b> — для прохода по строке в обратном порядке. Если в этом случае не указать начальный и конечный индекс среза, ими станут последний и первый индексы строки соответственно (а не наоборот, как при положительном шаге):"
   ]
  },
  {
   "cell_type": "code",
   "execution_count": 24,
   "metadata": {
    "ExecuteTime": {
     "end_time": "2023-01-25T12:37:37.823076Z",
     "start_time": "2023-01-25T12:37:37.820074Z"
    },
    "id": "AYJlpMHlqs75",
    "outputId": "23213616-fbe6-4371-df7e-4cc39101833c"
   },
   "outputs": [
    {
     "name": "stdout",
     "output_type": "stream",
     "text": [
      "ABCDEFGHIJKLMNOPQRSTUVWXYZ\n",
      "ZYXWVUTSRQPONMLKJIHGFEDCBA\n"
     ]
    }
   ],
   "source": [
    "text = 'ABCDEFGHIJKLMNOPQRSTUVWXYZ'\n",
    "print(text)\n",
    "text = text[::-1]\n",
    "print(text)"
   ]
  },
  {
   "cell_type": "markdown",
   "metadata": {
    "id": "rJ2GbS29ury1"
   },
   "source": [
    "### Пример 1.\n",
    "Из строки '1234567890abcdefghij' выделить каждый второй символ, начиная с 3-го (нумерация с 0) и до 17-го (не включая)."
   ]
  },
  {
   "cell_type": "code",
   "execution_count": 21,
   "metadata": {
    "ExecuteTime": {
     "end_time": "2023-01-26T13:44:38.169854Z",
     "start_time": "2023-01-26T13:44:38.166878Z"
    },
    "colab": {
     "base_uri": "https://localhost:8080/",
     "height": 35
    },
    "id": "N0tjxuOOuvEb",
    "outputId": "dfa7173e-abf9-4c9a-c562-8fffcf239822"
   },
   "outputs": [
    {
     "data": {
      "text/plain": [
       "'3579a'"
      ]
     },
     "execution_count": 21,
     "metadata": {},
     "output_type": "execute_result"
    }
   ],
   "source": [
    "my_str = '01234567890abcdefghij'\n",
    "my_str[3:12:2]"
   ]
  },
  {
   "cell_type": "markdown",
   "metadata": {
    "id": "QwoEomL_vIad"
   },
   "source": [
    "### Пример 2.\n",
    "Из строки '1234567890abcdefghij' выделим все символы до 15-го (не включая)."
   ]
  },
  {
   "cell_type": "code",
   "execution_count": 17,
   "metadata": {
    "ExecuteTime": {
     "end_time": "2023-01-24T06:38:18.614942Z",
     "start_time": "2023-01-24T06:38:18.612173Z"
    },
    "colab": {
     "base_uri": "https://localhost:8080/",
     "height": 35
    },
    "id": "b5T4SEEpvS2A",
    "outputId": "da888740-6430-465d-fe4e-c1404712ed9d"
   },
   "outputs": [
    {
     "data": {
      "text/plain": [
       "'1234567890abcde'"
      ]
     },
     "execution_count": 17,
     "metadata": {},
     "output_type": "execute_result"
    }
   ],
   "source": [
    "my_str[:15]"
   ]
  },
  {
   "cell_type": "markdown",
   "metadata": {
    "id": "V4987spwvYtO"
   },
   "source": [
    "### Пример 3.\n",
    "Из строки '1234567890abcdefghij' выделим все символы, начиная с 15-го."
   ]
  },
  {
   "cell_type": "code",
   "execution_count": 18,
   "metadata": {
    "ExecuteTime": {
     "end_time": "2023-01-24T06:38:20.339399Z",
     "start_time": "2023-01-24T06:38:20.336501Z"
    },
    "colab": {
     "base_uri": "https://localhost:8080/",
     "height": 35
    },
    "id": "rEzJqBS1vbCf",
    "outputId": "9e522c7a-3ac9-457a-dd1d-377141df24da"
   },
   "outputs": [
    {
     "data": {
      "text/plain": [
       "'fghij'"
      ]
     },
     "execution_count": 18,
     "metadata": {},
     "output_type": "execute_result"
    }
   ],
   "source": [
    "my_str[15:]"
   ]
  },
  {
   "cell_type": "markdown",
   "metadata": {
    "id": "GTCTYKd9vipm"
   },
   "source": [
    "### Пример 4. \n",
    "Из строки '1234567890abcdefghij' выделим все символы с четными номерами (нумерация с 0, считаем 0 четным числом). Приходится явно указывать знаки ':'"
   ]
  },
  {
   "cell_type": "code",
   "execution_count": 19,
   "metadata": {
    "ExecuteTime": {
     "end_time": "2023-01-24T06:38:22.641711Z",
     "start_time": "2023-01-24T06:38:22.639482Z"
    },
    "colab": {
     "base_uri": "https://localhost:8080/",
     "height": 35
    },
    "id": "JT9dBfddvkgV",
    "outputId": "19e0bd68-0595-4a95-9d8b-d6a040ac5d39"
   },
   "outputs": [
    {
     "data": {
      "text/plain": [
       "'13579acegi'"
      ]
     },
     "execution_count": 19,
     "metadata": {},
     "output_type": "execute_result"
    }
   ],
   "source": [
    "my_str[::2]"
   ]
  },
  {
   "cell_type": "markdown",
   "metadata": {
    "id": "pXl7HvnyyAJL"
   },
   "source": [
    "### Пример 5.\n",
    "Выведем на экран через пробел все возможные последовательные 10 символов строки."
   ]
  },
  {
   "cell_type": "code",
   "execution_count": 26,
   "metadata": {
    "ExecuteTime": {
     "end_time": "2023-01-26T13:52:28.712865Z",
     "start_time": "2023-01-26T13:52:28.710427Z"
    },
    "colab": {
     "base_uri": "https://localhost:8080/"
    },
    "id": "oyQLNo87yGZK",
    "outputId": "c5227924-d7aa-4aaf-d760-36d6ae31a8ad"
   },
   "outputs": [
    {
     "name": "stdout",
     "output_type": "stream",
     "text": [
      "0123456789\n",
      "1234567890\n",
      "234567890a\n",
      "34567890ab\n",
      "4567890abc\n",
      "567890abcd\n",
      "67890abcde\n",
      "7890abcdef\n",
      "890abcdefg\n",
      "90abcdefgh\n",
      "0abcdefghi\n",
      "abcdefghij\n"
     ]
    }
   ],
   "source": [
    "for i in range(len(my_str) - 9):\n",
    "    print(my_str[i:i + 10], end='\\n')"
   ]
  },
  {
   "cell_type": "markdown",
   "metadata": {
    "id": "o7SAZ9vD2DH2"
   },
   "source": [
    "## Методы строк:\n",
    "https://docs.python.org/3/library/stdtypes.html#string-methods\n",
    "\n",
    "### find \n",
    "ищет подстроку в строке. В случае нахождения - возвращает первое вхождение, под которым была найдена подстрока. В случае если подстрока не найдена - возвращает -1. Значение подстроки чувствительно к регистру. Можно задать облать поиска внутри строки, передав вторым и третьим аргументом значения начала среза для поиска и конца среза для поиска.\n",
    "\n",
    "Если нужно искать от некоторой позиции до конца строки, то указывается только второй аргумент!\n",
    "\n",
    "'This is Python. Python is my favorite language to work with'.find('is', 5, 10) ищет первое вхождение строки  is в строке Python is my favorite language to work with начиная с пятого символа и до десятого, не включая десятый, возвращает номер первого символа строки is в строке, т.е. 5. Если не задавать область поиска, то получится 2.\n",
    "Существует и брат близнец метода find - rfind. Работает он так же, но с одним отличаем - он возвращает последнее вхождение под которым была найдена подстрока.\n",
    "'This is Python. Python is my favorite language to work with'.rfind('is'). Возвращает 23.\n",
    "\n",
    "### replace \n",
    "заменяет одну строку на другую. Первым параметром - то что заменяем, а вторым то на что заменяем, исходная строка не изменяется. \n",
    "\n",
    "Если третьим аргументом передано число, то выполняется только такое число замен.\n",
    "\n",
    "Например,\n",
    "\n",
    "'This is Python. Python is my favorite language to work with'.replace('is', '0') возвращает \n",
    "'Th0 0 Python. Python 0 my favorite language to work with', а если указать, что нужно выполнить только одну замену, т.е. 'This is Python. Python is my favorite language to work with'.replace('is', '0', 1), то получим 'Th0 is Python. Python is my favorite language to work with'.\n",
    "\n",
    "### split\n",
    "разбирает строку, по указанному разделителю sep (необязательный аргумент метода split, по умолчанию пробел) и возвращает результат списком. Можно задать максимальное число разбиений.\n",
    "\n",
    "### isdigit\n",
    "возвращает True, если все символы строки цифры, причем строка не пустая, иначе возвращает False.\n",
    "\n",
    "Например, '12345'.isdigit() True, '1e'.isdigit() False.\n",
    "\n",
    "### isalpha\n",
    "возвращает True, если все символы строки буквы, причем строка не пустая, иначе возвращает False.\n",
    "\n",
    "Например, 'absd'.isalpha() True, '1e'.isalpha() False.\n",
    "\n",
    "### upper\n",
    "работает с регистром строк, возвращает исходную строку в верхнем регистре, исходная строка не изменяется.\n",
    "### lower\n",
    "работает с регистром строк, возвращает исходную строку в нижнем регистре, исходная строка не изменяется.\n",
    "### capitalize \n",
    "переводит первый символ строки в верхний регистр, а все остальные - в нижний.\n",
    "\n",
    "### count\n",
    "подсчитывает количество вхождений одной строки в другую строку. Простейшая форма вызова 'Abracadabra'.count('a') возвращает число вхождений строки 'a' внутри строки 'Abracadabra'.  Подсчитывает только непересекающиеся вхождения, например: 'Abracadabra'.count('a') возвращает 4\n",
    "При указании трех параметров 'Abracadabra'.count('a', 4, 10), будет выполнен подсчет числа вхождений строки 'a' в срезе [4:10] строки 'Abracadabra'\n",
    "\n",
    "## Пример 1. find\n",
    "\n",
    "Вводится строка из букв и цифр, программа выводит на экран позиции цифр в строке.\n"
   ]
  },
  {
   "cell_type": "code",
   "execution_count": 29,
   "metadata": {
    "ExecuteTime": {
     "end_time": "2023-01-26T13:59:35.714033Z",
     "start_time": "2023-01-26T13:59:34.330130Z"
    }
   },
   "outputs": [
    {
     "name": "stdout",
     "output_type": "stream",
     "text": [
      "102741928739172319\n",
      "4\n"
     ]
    }
   ],
   "source": [
    "a = input()\n",
    "b = int(a)\n",
    "count = 0\n",
    "for i in range(len(a)):\n",
    "    if b % 10 == 1:\n",
    "        count += 1\n",
    "    b //= 10\n",
    "print(count)"
   ]
  },
  {
   "cell_type": "code",
   "execution_count": 32,
   "metadata": {
    "ExecuteTime": {
     "end_time": "2023-01-26T14:00:36.086360Z",
     "start_time": "2023-01-26T14:00:32.485919Z"
    }
   },
   "outputs": [
    {
     "name": "stdout",
     "output_type": "stream",
     "text": [
      "1232123123123131212123333312321\n",
      "8\n"
     ]
    }
   ],
   "source": [
    "s = input()\n",
    "print(s.count('12'))"
   ]
  },
  {
   "cell_type": "code",
   "execution_count": 1,
   "metadata": {
    "colab": {
     "base_uri": "https://localhost:8080/"
    },
    "id": "RFw6yiPz2ow_",
    "outputId": "5fec19e6-f997-4375-c330-784ee8713174"
   },
   "outputs": [
    {
     "name": "stdout",
     "output_type": "stream",
     "text": [
      "abra123cadabra876\n",
      "0 : -1\n",
      "1 : 4\n",
      "2 : 5\n",
      "3 : 6\n",
      "4 : -1\n",
      "5 : -1\n",
      "6 : 16\n",
      "7 : 15\n",
      "8 : 14\n",
      "9 : -1\n"
     ]
    }
   ],
   "source": [
    "s = input()\n",
    "for i in range(10):\n",
    "    print(i, ':',s.find(str(i)))"
   ]
  },
  {
   "cell_type": "markdown",
   "metadata": {
    "id": "xkdbV0xF_W9l"
   },
   "source": [
    "Программа вывела -1 для цифр, которые не встретились во введенной строке. Перепишем, чтобы отсутствующие цифры не выводились:"
   ]
  },
  {
   "cell_type": "code",
   "execution_count": 3,
   "metadata": {
    "colab": {
     "base_uri": "https://localhost:8080/"
    },
    "id": "Yv3EMrkB_NeC",
    "outputId": "dfefce36-eeb9-4a54-c7d6-eef66fc944ad"
   },
   "outputs": [
    {
     "name": "stdout",
     "output_type": "stream",
     "text": [
      "abra123cadabra123\n",
      "1 : 4\n",
      "2 : 5\n",
      "3 : 6\n"
     ]
    }
   ],
   "source": [
    "s = input()\n",
    "for i in range(10):\n",
    "    number = s.find(str(i))\n",
    "    if number != -1:\n",
    "        print(i, ':', number)"
   ]
  },
  {
   "cell_type": "markdown",
   "metadata": {
    "id": "F-r0HvAM_7_l"
   },
   "source": [
    "Можно заметить, что метод find для цифр 1, 2, 3 нашел только первое вхождение, так как поиск прекращается, как только найден нужный символ.\n",
    "\n",
    "Рекомендуется использовать find только в том случае, если нужно определить позицию символа. Если требуется только узнать, есть ли такой символ в строке, нужно пользоваться in"
   ]
  },
  {
   "cell_type": "code",
   "execution_count": 4,
   "metadata": {
    "colab": {
     "base_uri": "https://localhost:8080/"
    },
    "id": "eXdlCAlKAOef",
    "outputId": "c1ab2e53-b89e-48de-d1c5-b390eeb9eab1"
   },
   "outputs": [
    {
     "name": "stdout",
     "output_type": "stream",
     "text": [
      "abra123cadabra123\n",
      "1 2 3 "
     ]
    }
   ],
   "source": [
    "s = input()\n",
    "for i in range(10):\n",
    "    if str(i) in s:\n",
    "        print(i, end=' ')"
   ]
  },
  {
   "cell_type": "code",
   "execution_count": null,
   "metadata": {
    "id": "Z5ZmqU91_jA-"
   },
   "outputs": [],
   "source": []
  },
  {
   "cell_type": "markdown",
   "metadata": {
    "id": "9AGiJVBFQjIa"
   },
   "source": [
    "Можно искать только в части строки:"
   ]
  },
  {
   "cell_type": "code",
   "execution_count": 6,
   "metadata": {
    "colab": {
     "base_uri": "https://localhost:8080/"
    },
    "id": "b1e2EOAzQphi",
    "outputId": "23352e57-85a9-42f3-908e-c82591de7916"
   },
   "outputs": [
    {
     "data": {
      "text/plain": [
       "7"
      ]
     },
     "execution_count": 6,
     "metadata": {},
     "output_type": "execute_result"
    }
   ],
   "source": [
    "s.find('cadabra', 5, -1)"
   ]
  },
  {
   "cell_type": "markdown",
   "metadata": {
    "id": "iGelo0W-V3YT"
   },
   "source": [
    "## Пример 2. replace\n",
    "Вводится строка из букв и цифр, программа заменяет цифры на точки и выводит на экран результат."
   ]
  },
  {
   "cell_type": "code",
   "execution_count": 7,
   "metadata": {
    "colab": {
     "base_uri": "https://localhost:8080/"
    },
    "id": "zC-uG1-gWST7",
    "outputId": "3fe65758-d659-4ccf-9fef-cc1f37ed81d2"
   },
   "outputs": [
    {
     "name": "stdout",
     "output_type": "stream",
     "text": [
      "abra123cadabra123\n",
      "abra...cadabra...\n"
     ]
    }
   ],
   "source": [
    "s = input()\n",
    "for i in range(10):\n",
    "    s = s.replace(str(i), '.')\n",
    "print(s)    "
   ]
  },
  {
   "cell_type": "markdown",
   "metadata": {
    "id": "wNGLyuLTGc18"
   },
   "source": [
    "## Пример 3. replace\n",
    "Вводится строка из букв и цифр, программа заменяет первое вхождение каждой цифры на соответствующее цифре число точек и выводит на экран результат."
   ]
  },
  {
   "cell_type": "code",
   "execution_count": 9,
   "metadata": {
    "colab": {
     "base_uri": "https://localhost:8080/"
    },
    "id": "cu7vurUdG5fl",
    "outputId": "36d6001d-6eef-416f-9781-bdd4be2031be"
   },
   "outputs": [
    {
     "name": "stdout",
     "output_type": "stream",
     "text": [
      "abra1cadabra2авра3кадавра4\n",
      "abra.cadabra..авра...кадавра....\n"
     ]
    }
   ],
   "source": [
    "s = input()\n",
    "for i in range(10):\n",
    "    s = s.replace(str(i), '.' * i, 1)\n",
    "print(s)  "
   ]
  },
  {
   "cell_type": "markdown",
   "metadata": {
    "id": "b5WYqmyEdSm_"
   },
   "source": [
    "## Пример 4. split\n",
    "Представить в виде списка строк текст: 'One;two;three;four;five'  Разделители строк ';'"
   ]
  },
  {
   "cell_type": "code",
   "execution_count": 10,
   "metadata": {
    "colab": {
     "base_uri": "https://localhost:8080/"
    },
    "id": "h_--R0nfeG9R",
    "outputId": "9525fa9b-647a-408c-d731-6c4716e6b9e0"
   },
   "outputs": [
    {
     "data": {
      "text/plain": [
       "['One', 'two', 'three', 'four', 'five']"
      ]
     },
     "execution_count": 10,
     "metadata": {},
     "output_type": "execute_result"
    }
   ],
   "source": [
    "'One;two;three;four;five'.split(sep=';')"
   ]
  },
  {
   "cell_type": "markdown",
   "metadata": {
    "id": "6MrqWgZmeWGv"
   },
   "source": [
    "Зададим максимальное число разбиений 2.\n"
   ]
  },
  {
   "cell_type": "code",
   "execution_count": 12,
   "metadata": {
    "colab": {
     "base_uri": "https://localhost:8080/"
    },
    "id": "QaZN0mVeees_",
    "outputId": "aa6936a6-9047-4df3-8c5b-5dcbdbfbdd2e"
   },
   "outputs": [
    {
     "data": {
      "text/plain": [
       "['One', 'two', 'three;four;five']"
      ]
     },
     "execution_count": 12,
     "metadata": {},
     "output_type": "execute_result"
    }
   ],
   "source": [
    "'One;two;three;four;five'.split(sep=';', maxsplit=2)"
   ]
  },
  {
   "cell_type": "markdown",
   "metadata": {
    "id": "tMuCHw9PewAI"
   },
   "source": [
    "## Пример 5. isdigit, isalpha, upper, capitalize\n",
    "По строке 'One1two2three3four4five5' построим две новые строки, первая состоит только из букв строки, записанных в верхнем регистре, а вторая строка состоит из цифр. "
   ]
  },
  {
   "cell_type": "code",
   "execution_count": 54,
   "metadata": {
    "ExecuteTime": {
     "end_time": "2023-01-24T08:50:28.173314Z",
     "start_time": "2023-01-24T08:50:28.170926Z"
    },
    "colab": {
     "base_uri": "https://localhost:8080/"
    },
    "id": "8hwIMsNRfZqo",
    "outputId": "301a42c7-0025-464c-88ad-92ae0423eff6"
   },
   "outputs": [
    {
     "name": "stdout",
     "output_type": "stream",
     "text": [
      "ONE1TWO2THREE3FOUR4FIVE5\n",
      "ONETWOTHREEFOURFIVE 12345\n"
     ]
    }
   ],
   "source": [
    "s = 'One1two2three3four4five5'.upper()\n",
    "print(s)\n",
    "first = ''\n",
    "second = ''\n",
    "for i in s:\n",
    "    if i.isalpha():\n",
    "        first += i \n",
    "    elif i.isdigit():\n",
    "        second += i\n",
    "print(first, second)"
   ]
  },
  {
   "cell_type": "code",
   "execution_count": 1,
   "metadata": {
    "ExecuteTime": {
     "end_time": "2023-01-26T15:13:55.665819Z",
     "start_time": "2023-01-26T15:13:53.053940Z"
    }
   },
   "outputs": [
    {
     "name": "stdout",
     "output_type": "stream",
     "text": [
      "dfnglkdnglknd\n",
      "123\n"
     ]
    },
    {
     "ename": "NameError",
     "evalue": "name 'x' is not defined",
     "output_type": "error",
     "traceback": [
      "\u001b[1;31m---------------------------------------------------------------------------\u001b[0m",
      "\u001b[1;31mNameError\u001b[0m                                 Traceback (most recent call last)",
      "Cell \u001b[1;32mIn [1], line 4\u001b[0m\n\u001b[0;32m      2\u001b[0m b \u001b[38;5;241m=\u001b[39m \u001b[38;5;28mint\u001b[39m(\u001b[38;5;28minput\u001b[39m())\n\u001b[0;32m      3\u001b[0m \u001b[38;5;28;01mif\u001b[39;00m (b \u001b[38;5;241m-\u001b[39m \u001b[38;5;28mlen\u001b[39m(a)) \u001b[38;5;241m%\u001b[39m \u001b[38;5;241m2\u001b[39m \u001b[38;5;241m==\u001b[39m \u001b[38;5;241m0\u001b[39m:\n\u001b[1;32m----> 4\u001b[0m     a \u001b[38;5;241m=\u001b[39m a[\u001b[38;5;241m0\u001b[39m] \u001b[38;5;241m*\u001b[39m (\u001b[43mx\u001b[49m \u001b[38;5;241m/\u001b[39m\u001b[38;5;241m/\u001b[39m \u001b[38;5;241m2\u001b[39m) \u001b[38;5;241m+\u001b[39m a \u001b[38;5;241m+\u001b[39m a[\u001b[38;5;241m-\u001b[39m\u001b[38;5;241m1\u001b[39m] \u001b[38;5;241m*\u001b[39m (x \u001b[38;5;241m/\u001b[39m\u001b[38;5;241m/\u001b[39m \u001b[38;5;241m2\u001b[39m)\n\u001b[0;32m      5\u001b[0m \u001b[38;5;28;01melse\u001b[39;00m:\n\u001b[0;32m      6\u001b[0m     a \u001b[38;5;241m=\u001b[39m a[\u001b[38;5;241m0\u001b[39m] \u001b[38;5;241m*\u001b[39m (x \u001b[38;5;241m/\u001b[39m\u001b[38;5;241m/\u001b[39m \u001b[38;5;241m2\u001b[39m) \u001b[38;5;241m+\u001b[39m a \u001b[38;5;241m+\u001b[39m a[\u001b[38;5;241m-\u001b[39m\u001b[38;5;241m1\u001b[39m] \u001b[38;5;241m*\u001b[39m (x \u001b[38;5;241m/\u001b[39m\u001b[38;5;241m/\u001b[39m \u001b[38;5;241m2\u001b[39m)\n",
      "\u001b[1;31mNameError\u001b[0m: name 'x' is not defined"
     ]
    }
   ],
   "source": [
    "a = input()\n",
    "b = int(input())\n",
    "if (b - len(a)) % 2 == 0:\n",
    "    a = a[0] * (x // 2) + a + a[-1] * (x // 2)\n",
    "else:\n",
    "    a = a[0] * (x // 2) + a + a[-1] * (x // 2)\n",
    "    a = a + '.'\n",
    "print(a)"
   ]
  },
  {
   "cell_type": "code",
   "execution_count": null,
   "metadata": {},
   "outputs": [],
   "source": []
  }
 ],
 "metadata": {
  "colab": {
   "provenance": []
  },
  "kernelspec": {
   "display_name": "Python 3 (ipykernel)",
   "language": "python",
   "name": "python3"
  },
  "language_info": {
   "codemirror_mode": {
    "name": "ipython",
    "version": 3
   },
   "file_extension": ".py",
   "mimetype": "text/x-python",
   "name": "python",
   "nbconvert_exporter": "python",
   "pygments_lexer": "ipython3",
   "version": "3.11.0"
  },
  "latex_envs": {
   "LaTeX_envs_menu_present": true,
   "autoclose": false,
   "autocomplete": true,
   "bibliofile": "biblio.bib",
   "cite_by": "apalike",
   "current_citInitial": 1,
   "eqLabelWithNumbers": true,
   "eqNumInitial": 1,
   "hotkeys": {
    "equation": "Ctrl-E",
    "itemize": "Ctrl-I"
   },
   "labels_anchors": false,
   "latex_user_defs": false,
   "report_style_numbering": false,
   "user_envs_cfg": false
  }
 },
 "nbformat": 4,
 "nbformat_minor": 1
}
