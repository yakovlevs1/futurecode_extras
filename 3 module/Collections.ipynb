{
 "cells": [
  {
   "attachments": {},
   "cell_type": "markdown",
   "metadata": {},
   "source": [
    "# Коллекции и с чем их едят.\n",
    "\n",
    "Мы уже знакомы с несколькими видами коллекций - списками (`list`), кортежами (`tuple`), строками (`str`), диапазонами (`range`).\n",
    "\n",
    "Сегодня мы познакомимся еще с двумя видами - множеством (`set`) и словарём (`dict`). \n",
    "\n",
    "Если к этому списку добавить коллекции из стандартной библиотеки (например, `deque`, `defaultdict` и `OrderedDict`), а еще и популярные коллекции из других библиотек (вспомнить тот же `NumPy`), то кажется, что познакомиться со всем этим разнообразием - непосильная задача. Благо сам `Python` устанавливает некоторую иерархию среди всех коллекций и для понимания бывает полезно разобраться в ней."
   ]
  },
  {
   "attachments": {},
   "cell_type": "markdown",
   "metadata": {},
   "source": [
    "### Примечание. \n",
    "\n",
    "Дальнейшие определения основаны на \"утиной типизации\" (`duck typing` - https://en.wikipedia.org/wiki/Duck_typing), которую `Python` успешно поддерживает. \n",
    "\n",
    "В программировании это приложение \"утиного теста\" (duck test):\n",
    " > If it looks like a duck, swims like a duck, and quacks like a duck, then it probably is a duck.\n",
    "\n",
    "См. документацию: https://docs.python.org/3/glossary.html#term-duck-typing"
   ]
  },
  {
   "attachments": {},
   "cell_type": "markdown",
   "metadata": {},
   "source": [
    "### Контейнер (`Container`)."
   ]
  },
  {
   "attachments": {},
   "cell_type": "markdown",
   "metadata": {},
   "source": [
    "Объект считается контейнером (`Container`), если у него можно спросить, содержит ли он произвольный элемент `x`. \n",
    "\n",
    "*Обычно*, для проверки этого мы можем использовать оператор `in`:\n",
    "\n",
    "Если `x in A` исполняется корректно и возвращает значение типа `bool`, то `A` - *обычно* является контейнером.\n",
    "\n",
    " > Вообще говоря, это не совсем так. \n",
    " >\n",
    " > Для любого *итерируемого* объекта мы тоже можем использовать `in` корректно, но не все итерируемые объекты являются контейнерами. Важная разница между контейнерами и некоторыми итерируемыми объектами заключается в том, что при итерациях контейнеры возвращают существующие значения, а генераторы и файлы (`file`) создают новые объекты каждый раз. \n",
    " >\n",
    " > Необходимое условие для того, чтобы назвать объект контейнером - у него должен быть перегружен метод `__contains__` (именно это и позволяет использовать `in` слева от этого объекта)\n",
    " >\n",
    " > Это означает, что условие `isinstance(A, collections.abc.Container)` гарантирует нам, что `A` поддерживает оператор `in`.\n",
    " > \n",
    " > Подробнее см. https://stackoverflow.com/a/11576019\n",
    " \n",
    "Пример, показывающий, что объект, явно не являющийся контейнером, может поддерживать оператор `in`:"
   ]
  },
  {
   "cell_type": "code",
   "execution_count": 58,
   "metadata": {},
   "outputs": [
    {
     "name": "stdout",
     "output_type": "stream",
     "text": [
      "False\n",
      "True\n"
     ]
    }
   ],
   "source": [
    "import collections\n",
    "import random\n",
    "\n",
    "x = iter(lambda: random.choice(range(6)), 0)\n",
    "print(isinstance(x, collections.abc.Container))\n",
    "print(2 in x)\n"
   ]
  },
  {
   "attachments": {},
   "cell_type": "markdown",
   "metadata": {},
   "source": [
    "### Итерируемый объект (`Iterable`)."
   ]
  },
  {
   "attachments": {},
   "cell_type": "markdown",
   "metadata": {},
   "source": [
    "Понятие итерируемости тесно связано с итераторами, но про них разговор пройдет сильно позже.\n",
    "\n",
    "Объект считается итерируемым (`iterable`), если:\n",
    "\n",
    " - **По нему можно пробежаться в цикле (`iterate over`) - если `for x in A: ...` может быть корректно исполнено, значит `A` - итерируемый объект.**\n",
    "\n",
    " - К нему можно применить `iter()` и вернётся *итератор*.\n",
    "    \n",
    " - У него есть метод `__iter__`, возвращающий новый *итератор* или у него есть метод `__getitem__` для обращения по индексу.\n",
    "\n",
    " Документация: https://docs.python.org/dev/glossary.html#term-iterable\n",
    "\n",
    " Подробнее про итерируемость, итераторы и итерации: https://stackoverflow.com/questions/9884132/what-are-iterator-iterable-and-iteration\n"
   ]
  },
  {
   "attachments": {},
   "cell_type": "markdown",
   "metadata": {},
   "source": [
    "### Объект ограниченной длины (`Sized`)."
   ]
  },
  {
   "attachments": {},
   "cell_type": "markdown",
   "metadata": {},
   "source": [
    "Объект считается `Sized`, если у него можно спросить количество элементов функцией `len()`.\n",
    "\n",
    "Немного конкретнее, если `len(A)` выполняется без ошибок и возвращает целое неотрицательное число, то `A` - `Sized` объект.\n",
    "\n",
    "`len(A)` корректно выполняется, если у класса, к которому относится `A` (пере)определен магический метод `__len__`"
   ]
  },
  {
   "attachments": {},
   "cell_type": "markdown",
   "metadata": {},
   "source": [
    "Теперь можем перейти к сути разговора - к коллекциям."
   ]
  },
  {
   "attachments": {},
   "cell_type": "markdown",
   "metadata": {},
   "source": [
    "## Коллекции (`Collections`)."
   ]
  },
  {
   "attachments": {},
   "cell_type": "markdown",
   "metadata": {},
   "source": [
    "Коллекция - объект, который одновременно является *контейнером*, *итерируемым объектом* и *объектом ограниченной длинны*.\n",
    "\n",
    "Разработчики языка python смотрят на эту иерархию понятий как на иерархию классов, где абстрактный класс `Collection` наследуется от всех трех выше обозначенных абстрактных классов: `Container`, `Iterable` и `Sized`.\n",
    "\n",
    "![Картинка](https://fadeevlecturer.github.io/python_lectures/_images/collections_venn.svg)\n",
    "![Alt text](https://fadeevlecturer.github.io/python_lectures/_images/collections_hierarchy.svg)"
   ]
  },
  {
   "cell_type": "code",
   "execution_count": 59,
   "metadata": {},
   "outputs": [
    {
     "name": "stdout",
     "output_type": "stream",
     "text": [
      "True\n",
      "True\n",
      "True\n"
     ]
    }
   ],
   "source": [
    "from collections.abc import Collection, Container, Iterable, Sized\n",
    "\n",
    "print(issubclass(Collection, Container))\n",
    "print(issubclass(Collection, Iterable))\n",
    "print(issubclass(Collection, Sized))\n"
   ]
  },
  {
   "attachments": {},
   "cell_type": "markdown",
   "metadata": {},
   "source": [
    "![Alt text](https://fadeevlecturer.github.io/python_lectures/_images/sequence_vs_mapping.svg)"
   ]
  },
  {
   "attachments": {},
   "cell_type": "markdown",
   "metadata": {},
   "source": [
    "#### А дальше что?\n",
    "\n",
    "Дальнейшая классификация коллекций обычно производится по способу получения доступа к элементам. \n",
    "\n",
    "По такому принципу предлагаю выделить три основных класса (хотя существуют не только они) — последовательности (`Sequence`), отображения (`Mapping`) и множества (`Set`).\n",
    "\n",
    "Кроме того, все коллекции можно разделить на два вида - изменяемые (`Mutable`) и не изменяемые (`Immutable`).\n",
    "\n"
   ]
  },
  {
   "attachments": {},
   "cell_type": "markdown",
   "metadata": {},
   "source": [
    "## `Sequence`"
   ]
  },
  {
   "attachments": {},
   "cell_type": "markdown",
   "metadata": {},
   "source": [
    "Определение - https://docs.python.org/dev/glossary.html#term-sequence\n",
    "\n",
    "**Коллекция является последовательностью, если элементы этой коллекции упорядоченны. Следствием этого свойства является возможность индексации последовательности по порядковому номеру элемента (по смещению, по целочисленному индексу), т.е. у любой последовательности можно спросить её i-й элемент.**\n",
    "\n",
    "То, с чем мы уже привыкли работать - `list`, `str`, `tuple`, `range` - все они являются *последовательностями*.\n",
    "\n",
    "Именно это и объясняет схожий интерфейс взаимодействия с ними (вспоминаем оператор квадратных скобок, слайсы (`slices`), конкатенацию и различные методы, которые едины для них всех (хотя `range` немного отличается, на нём не всё работает))\n",
    "\n",
    "Всё вышеперечисленное хорошо нам знакомо, так что не будем повторяться. Для того, чтобы освежить в памяти что-либо, рекомендую:\n",
    "\n",
    "https://fadeevlecturer.github.io/python_lectures/notebooks/python/sequences.html"
   ]
  },
  {
   "attachments": {},
   "cell_type": "markdown",
   "metadata": {},
   "source": [
    "## `Set` и `frozenset`"
   ]
  },
  {
   "attachments": {},
   "cell_type": "markdown",
   "metadata": {},
   "source": [
    "\"Set\" на русский язык переводится как \"множество\" и в `Python` по всем своим параметрам является дискретным множеством с точки зрения математики.\n",
    "\n",
    "`frozenset` - это неизменяемая (`immutable`) версия обычных `set`'ов, так что далее речь пойдет только про обычные. Любые операции, изменяющие само множество, очевидно, работать с `frozenset` не будут, но всё остальное остается верным.\n",
    "\n",
    "`Set` - это ***неупорядоченная*** коллекция ***различных*** хэшируемых (`hashable`) элементов. \n",
    "\n",
    "Неупорядоченность означает, что `set`'ы никак не запоминают порядок хранения или добавления элементов, а также не допускают обращения по индексу, слайсов и другого `sequence-like` поведения."
   ]
  },
  {
   "cell_type": "code",
   "execution_count": 5,
   "metadata": {},
   "outputs": [
    {
     "name": "stdout",
     "output_type": "stream",
     "text": [
      "{20242343234234, 10, 3350845}\n"
     ]
    }
   ],
   "source": [
    "# \"Хаотичный\" порядок элементов\n",
    "s = set()\n",
    "s.add(10)\n",
    "s.add(20242343234234)\n",
    "s.add(3350845)\n",
    "print(s)\n"
   ]
  },
  {
   "attachments": {},
   "cell_type": "markdown",
   "metadata": {},
   "source": [
    "Элементы `set` уникальны. Два одинаковых элемента не могут храниться в одном `set`."
   ]
  },
  {
   "cell_type": "code",
   "execution_count": 18,
   "metadata": {},
   "outputs": [
    {
     "name": "stdout",
     "output_type": "stream",
     "text": [
      "{50, 20, 40, 10, 30}\n"
     ]
    }
   ],
   "source": [
    "# Элементы уникальны. Добавлении копии не изменяет множество.\n",
    "s = {10, 20, 30, 40, 50}\n",
    "s.add(10)\n",
    "print(s)\n"
   ]
  },
  {
   "attachments": {},
   "cell_type": "markdown",
   "metadata": {},
   "source": [
    "### Что можно делать с множествами?\n",
    "\n",
    "https://docs.python.org/3/library/stdtypes.html#set"
   ]
  },
  {
   "attachments": {},
   "cell_type": "markdown",
   "metadata": {},
   "source": [
    "#### Очевидно, создавать."
   ]
  },
  {
   "cell_type": "code",
   "execution_count": 29,
   "metadata": {},
   "outputs": [
    {
     "name": "stdout",
     "output_type": "stream",
     "text": [
      "{10}\n"
     ]
    }
   ],
   "source": [
    "# Способ первый - создать пустое множество и добавить что-то впоследствии\n",
    "set_first = set()\n",
    "set_first.add(10)\n",
    "print(set_first)\n"
   ]
  },
  {
   "cell_type": "code",
   "execution_count": 30,
   "metadata": {},
   "outputs": [
    {
     "name": "stdout",
     "output_type": "stream",
     "text": [
      "{'dog', 'rat', 'cat', 'banana', 'synchrophasotron'}\n"
     ]
    }
   ],
   "source": [
    "# Способ второй - ручками задать (заметьте, при создании можно задать несколько копий одного элемента, но в итоге в set окажется только одна копия)\n",
    "set_second = {\"cat\", \"dog\", \"cat\", \"rat\", \"banana\", \"synchrophasotron\"}\n",
    "print(set_second)\n"
   ]
  },
  {
   "cell_type": "code",
   "execution_count": 18,
   "metadata": {},
   "outputs": [
    {
     "name": "stdout",
     "output_type": "stream",
     "text": [
      "{'n', 'a', 'v', 'o', 'i', 'A', 'r', 't'}\n"
     ]
    }
   ],
   "source": [
    "# Способ третий - использовать конструктор класса set от чего-то iterable\n",
    "set_third = set(\"Antananarivo\")\n",
    "print(set_third)\n"
   ]
  },
  {
   "cell_type": "code",
   "execution_count": 19,
   "metadata": {},
   "outputs": [
    {
     "name": "stdout",
     "output_type": "stream",
     "text": [
      "{'яяя', 'ккк', 'ююю', 'ффф', 'ддд', 'ллл', 'ййй', 'эээ', 'ёёё', 'ааа'}\n"
     ]
    }
   ],
   "source": [
    "# Способ четвертый - set comprehention\n",
    "set_fourth = {letter.lower() * 3 for letter in \"Эйяфьядлайёкюдль\" if letter != \"ь\"}\n",
    "print(set_fourth)\n"
   ]
  },
  {
   "attachments": {},
   "cell_type": "markdown",
   "metadata": {},
   "source": [
    "#### Изменять."
   ]
  },
  {
   "attachments": {},
   "cell_type": "markdown",
   "metadata": {},
   "source": [
    "Начнем с обычных изменений:\n",
    "\n",
    " - `s.add(elem)` добавляет элемент в множество. Не делает ничего, если элемент с таким же значением уже есть\n",
    " - `s.pop()` удаляет и возвращает случайный элемент.\n",
    " - `s.discard(elem)` удаляет элемент со значением `elem`. Не делает ничего, если такого элемента нет. У него есть брат-близнец `remove`, который при удалении значения, не имеющегося во множестве, выдает ошибку.\n",
    " - `s.clear()` удаляет ВСЕ элементы множества."
   ]
  },
  {
   "attachments": {},
   "cell_type": "markdown",
   "metadata": {},
   "source": [
    "Далее операции над множествами:\n",
    "\n",
    "Обратите внимание, что есть два варианта использовать одни и те же операции. Разница в них лишь в том, что методы поддерживают своими аргументами любые `iterable` объекты, в отличие от операторов.\n",
    "\n",
    " - Пересечение \n",
    " \n",
    "       `a.intersection(b, c)` или `a & b & c`\n",
    " - Объединение \n",
    "\n",
    "       `a.union(b, c)` или `a | b | c`\n",
    " - Разность \n",
    "\n",
    "       `a.difference(b, c)` или `a - b - c`\n",
    "\n",
    " - Симметричная разница \n",
    "\n",
    "       `a.symmetric_difference(b)` или `a ^ b`\n",
    "\n"
   ]
  },
  {
   "attachments": {},
   "cell_type": "markdown",
   "metadata": {},
   "source": [
    "![Alt text](https://habrastorage.org/r/w1560/files/8dc/1ae/16d/8dc1ae16db9c4432938a8e79b97eefe3.png)"
   ]
  },
  {
   "cell_type": "code",
   "execution_count": 49,
   "metadata": {},
   "outputs": [
    {
     "name": "stdout",
     "output_type": "stream",
     "text": [
      "{3, '^_^'}\n"
     ]
    }
   ],
   "source": [
    "# Нахождение пересечения всех трех множеств:\n",
    "a = {1, 3, 4, \"z\", \"^_^\"}\n",
    "b = {3, \"x\", \"z\", \"^_^\"}\n",
    "c = {3, \"T_T\", \"0_0\", \"-_-\", \"^_^\", \":):\"}\n",
    "\n",
    "intersection_abc = a.intersection(b, c)\n",
    "print(intersection_abc)\n"
   ]
  },
  {
   "cell_type": "code",
   "execution_count": 50,
   "metadata": {},
   "outputs": [
    {
     "name": "stdout",
     "output_type": "stream",
     "text": [
      "{1, 'T_T', 3, 4, 'x', ':):', '-_-', '0_0', '^_^', 'z'}\n"
     ]
    }
   ],
   "source": [
    "# Нахождение объединения всех трех множеств:\n",
    "a = {1, 3, 4, \"z\", \"^_^\"}\n",
    "b = {3, \"x\", \"z\", \"^_^\"}\n",
    "c = {3, \"T_T\", \"0_0\", \"-_-\", \"^_^\", \":):\"}\n",
    "union_abc = a.union(b, c)\n",
    "print(union_abc)\n"
   ]
  },
  {
   "cell_type": "code",
   "execution_count": 51,
   "metadata": {},
   "outputs": [
    {
     "name": "stdout",
     "output_type": "stream",
     "text": [
      "{'T_T', ':):', '-_-', '0_0'}\n"
     ]
    }
   ],
   "source": [
    "# Нахождение разности между множеством c и двумя другими:\n",
    "a = {1, 3, 4, \"z\", \"^_^\"}\n",
    "b = {3, \"x\", \"z\", \"^_^\"}\n",
    "c = {3, \"T_T\", \"0_0\", \"-_-\", \"^_^\", \":):\"}\n",
    "difference_abc = c.difference(a, b)\n",
    "print(difference_abc)\n"
   ]
  },
  {
   "cell_type": "code",
   "execution_count": 52,
   "metadata": {},
   "outputs": [
    {
     "name": "stdout",
     "output_type": "stream",
     "text": [
      "{1, 4, ':):', '0_0', 'T_T', '-_-', 'z'}\n"
     ]
    }
   ],
   "source": [
    "# Нахождение симметричной разницы c и a:\n",
    "a = {1, 3, 4, \"z\", \"^_^\"}\n",
    "b = {3, \"x\", \"z\", \"^_^\"}\n",
    "c = {3, \"T_T\", \"0_0\", \"-_-\", \"^_^\", \":):\"}\n",
    "symmetric_diff = c.symmetric_difference(a)\n",
    "print(symmetric_diff)\n"
   ]
  },
  {
   "attachments": {},
   "cell_type": "markdown",
   "metadata": {},
   "source": [
    "Существуют еще `_update` версии тех же операций, они обновляют исходное множество (на который используется метод) вместо того, чтобы возвращать новое множество."
   ]
  },
  {
   "attachments": {},
   "cell_type": "markdown",
   "metadata": {},
   "source": [
    "## `Dict`"
   ]
  },
  {
   "attachments": {},
   "cell_type": "markdown",
   "metadata": {},
   "source": [
    "Полностью копирует материал https://fadeevlecturer.github.io/python_lectures/notebooks/python/dictionaries.html, так что кому удобнее - читайте в браузере.\n",
    "\n",
    "Документация: https://docs.python.org/3/library/stdtypes.html#mapping-types-dict"
   ]
  },
  {
   "attachments": {},
   "cell_type": "markdown",
   "metadata": {},
   "source": [
    "Новый тип контейнера - [dict](https://docs.python.org/3/library/stdtypes.html#mapping-types-dict) (словарь, отображение, хэш-таблица), который, как и любой другой контейнер, хранит в себе элементы, но в отличие от ранее рассмотренных контейнеров, словари **не** являются последовательностями (`sequences`), т.е. элементы словаря не упорядочены и к ним нельзя обращаться по индексу. \n",
    "\n",
    "Словари в `python` **изменяемы**.\n",
    "\n",
    "### Хэш-таблицы \n",
    "\n",
    "По сути дела словари в `python` реализуют [хеш-таблицу](https://ru.wikipedia.org/wiki/%D0%A5%D0%B5%D1%88-%D1%82%D0%B0%D0%B1%D0%BB%D0%B8%D1%86%D0%B0) --- распространенную во многих языках программирования структуру данных. Наиболее близкий аналог к словарям из `python` в `C/C++` --- [std::unordered_map](https://en.cppreference.com/w/cpp/container/unordered_map). Хеш-таблицы хранят пары (`ключ`, `значение`) (`key`, `value`) и позволяют выполнять следующие три операции:\n",
    "1) добавлять элемент по ключу;\n",
    "2) удалять элемент по ключу;\n",
    "3) искать элемент по ключу.\n",
    "\n",
    "При хорошей реализации все эти три операции работают очень быстро и даже более того, скорость их работы практически не зависит от количества хранимых элементов. В `python` словари являются чуть ли не самой ключевой структурой данных --- на них много завязано. Поэтому они сильно оптимизированы под скорость, но за это приходиться платить сравнительно большими накладными расходами по памяти. \n"
   ]
  },
  {
   "attachments": {},
   "cell_type": "markdown",
   "metadata": {},
   "source": [
    "### `Hash`"
   ]
  },
  {
   "attachments": {},
   "cell_type": "markdown",
   "metadata": {},
   "source": [
    "Работа хеш-таблицы опирается на хеш-функцию. \n",
    "\n",
    "*Хеш-функция* — функция, которая на вход принимает произвольный ключ и возвращает целое число в диапазоне $[0, ..., M]$:\n",
    "\n",
    "$ h: K \\rightarrow \\lfloor 0, ..., M\\rfloor $\n",
    "\n",
    "где $K$ - множество ключей, $M$ - максимальное значение хеш-функции\n",
    "\n",
    "Пусть $(k, v)$ — пара (ключ, значение). Идея заключается в том, чтобы хранить все такие пары в обычном массиве $A$ размера $M+1$, где индекс ячейки массива для данной пары $(k, v)$ определяется значением хеш-функции $h(k)$ от ключа $k$:\n",
    "\n",
    "$A \\lfloor h(k)\\rfloor = (k, v)$\n",
    "\n",
    "Такая конструкция позволяет искать пару (ключ, значение) по ключу за время индексации массива $A$ плюс время вычисления хеш-функции $h(k)$. Индексация сплошного массива по смещению — очень быстрая операция, а скорость вычисления значения хеш-функции — одно из ключевых требований к хорошей хеш-функции.\n",
    "\n",
    "В реальности может найтись два таких ключа $k_1$ и $k_2$, что значение хеш-функций на них совпадут: $h(k_1) = h(k_2)$. Такое явление называют *коллизией*, для разрешения которых разработано множество методов. Время поиска ключа в таблице замедляется, если встречаются коллизии. В связи с этим минимизация количества коллизий — ещё одно ключевое требование к хорошим хеш-функциям.\n",
    "\n",
    "\n",
    " - хеш-таблицы хранят пары (ключ, значение);\n",
    "\n",
    " - для их работы необходима возможность вычислять значение хеш-функции от ключей, т.е. ключи должны быть хэшируемы (`hashable`);\n",
    "\n",
    " - кроме того, ключи в хеш-таблице должны быть уникальными;\n",
    "\n",
    " - хеш-таблицы позволяют очень быстро искать, добавлять и удалять пары (ключ, значение) по ключу."
   ]
  },
  {
   "attachments": {},
   "cell_type": "markdown",
   "metadata": {},
   "source": [
    "### Создание словарей\n",
    "\n",
    "Как и в случае всех предыдущих контейнеров, создавать словари можно множеством разных способов.\n",
    "- Используя фигурные скобки \"`{}`\" и помещая внутри пары `ключ`: `значение`,  отделяя ключ от значения символом двоеточия \"`:`\", и разделяя пары друг от друга запятыми \"`,`\":"
   ]
  },
  {
   "cell_type": "code",
   "execution_count": 20,
   "metadata": {},
   "outputs": [
    {
     "name": "stdout",
     "output_type": "stream",
     "text": [
      "{'language': 'python', 'version': 3.11, 'room': 309}\n"
     ]
    }
   ],
   "source": [
    "my_first_dict = {\n",
    "    \"language\": \"python\", \n",
    "    \"version\": 3.11, \n",
    "    \"room\": 309\n",
    "}\n",
    "print(my_first_dict)\n"
   ]
  },
  {
   "attachments": {},
   "cell_type": "markdown",
   "id": "1f62bce4",
   "metadata": {},
   "source": [
    "- Используя конструктор [dict](https://docs.python.org/3/library/functions.html#func-dict):"
   ]
  },
  {
   "cell_type": "code",
   "execution_count": 54,
   "metadata": {},
   "outputs": [
    {
     "name": "stdout",
     "output_type": "stream",
     "text": [
      "{'foo': 100, 'bar': 200} {'foo': 100, 'bar': 200}\n"
     ]
    }
   ],
   "source": [
    "a_dict_from_iterable = dict(\n",
    "    [(\"foo\", 100), (\"bar\", 200)]\n",
    ")  # словарь из списка пар (key, value)\n",
    "a_dict_from_kwargs = dict(foo=100, bar=200)  # используя именованные аргументы\n",
    "print(a_dict_from_iterable, a_dict_from_kwargs)\n"
   ]
  },
  {
   "attachments": {},
   "cell_type": "markdown",
   "metadata": {},
   "source": [
    "- пустой словарь можно создать, используя пустую пару фигурных скобок \"`{}`\" или ничего не передав конструктору `dict`:"
   ]
  },
  {
   "cell_type": "code",
   "execution_count": 55,
   "metadata": {},
   "outputs": [
    {
     "name": "stdout",
     "output_type": "stream",
     "text": [
      "{} {}\n"
     ]
    }
   ],
   "source": [
    "an_empty_dict = dict()\n",
    "another_empty_dict = {}\n",
    "print(an_empty_dict, another_empty_dict)\n"
   ]
  },
  {
   "attachments": {},
   "cell_type": "markdown",
   "id": "9066a2e8",
   "metadata": {},
   "source": [
    "- Используя `dict comprehensions`: "
   ]
  },
  {
   "cell_type": "code",
   "execution_count": 56,
   "metadata": {},
   "outputs": [
    {
     "name": "stdout",
     "output_type": "stream",
     "text": [
      "{0: 0, 1: 1, 2: 4, 3: 9, 4: 16, 5: 25, 6: 36, 7: 49, 8: 64, 9: 81}\n"
     ]
    }
   ],
   "source": [
    "squares = {x: x**2 for x in range(10)}\n",
    "print(squares)\n"
   ]
  },
  {
   "attachments": {},
   "cell_type": "markdown",
   "id": "bc70a54b",
   "metadata": {},
   "source": [
    "### Добавление, поиск и удаление по ключу в `dict`\n",
    "\n",
    "Добавление, удаление и поиск значений по ключу разберем реализовав словарем ... англо-русский словарь названий цифр. Ниже создаётся такой словарь. "
   ]
  },
  {
   "cell_type": "code",
   "execution_count": 22,
   "id": "9203bc3d",
   "metadata": {},
   "outputs": [
    {
     "name": "stdout",
     "output_type": "stream",
     "text": [
      "{'one': 'один', 'two': 'два', 'three': 'три', 'fou': 'четыре', 'five': 'пят', 'six': 'шесть', 'seven': 'семь', 'eight': 'восемь', 'nine': 'девять'}\n"
     ]
    }
   ],
   "source": [
    "eng_to_ru = {\n",
    "    \"one\": \"один\",\n",
    "    \"two\": \"два\",\n",
    "    \"three\": \"три\",\n",
    "    \"fou\": \"четыре\",\n",
    "    \"five\": \"пят\",\n",
    "    \"six\": \"шесть\",\n",
    "    \"seven\": \"семь\",\n",
    "    \"eight\": \"восемь\",\n",
    "    \"nine\": \"девять\",\n",
    "}\n",
    "print(eng_to_ru)\n"
   ]
  },
  {
   "attachments": {},
   "cell_type": "markdown",
   "id": "4aee4eb8",
   "metadata": {},
   "source": [
    "Английское название цифры выступает в качестве ключа в нашем словаре, а его перевод выступает в качестве значения. Это позволяет нам по английскому варианту (ключу) быстро найти русский вариант (значение). \n",
    "\n",
    "Если `d` --- словарь, а `key` --- ключ, то для получения значения по этому ключу используется синтаксис\n",
    "```python\n",
    "d[key]\n",
    "```"
   ]
  },
  {
   "cell_type": "code",
   "execution_count": 59,
   "metadata": {},
   "outputs": [
    {
     "name": "stdout",
     "output_type": "stream",
     "text": [
      "один\n",
      "семь\n"
     ]
    }
   ],
   "source": [
    "print(eng_to_ru[\"one\"])\n",
    "print(eng_to_ru[\"seven\"])\n"
   ]
  },
  {
   "attachments": {},
   "cell_type": "markdown",
   "id": "c0327c14",
   "metadata": {},
   "source": [
    "Код выше находит русскоязычные варианты слов \"one\" и \"seven\" в словаре, передавая их в качестве ключа.\n",
    "\n",
    "Искать таким синтаксисом можно только по существующим ключам. Например, попробуем спросить у словаря перевод слова \"four\"."
   ]
  },
  {
   "cell_type": "code",
   "execution_count": 60,
   "metadata": {},
   "outputs": [
    {
     "ename": "KeyError",
     "evalue": "'four'",
     "output_type": "error",
     "traceback": [
      "\u001b[1;31m---------------------------------------------------------------------------\u001b[0m",
      "\u001b[1;31mKeyError\u001b[0m                                  Traceback (most recent call last)",
      "Cell \u001b[1;32mIn[60], line 1\u001b[0m\n\u001b[1;32m----> 1\u001b[0m \u001b[39mprint\u001b[39m(eng_to_ru[\u001b[39m\"\u001b[39;49m\u001b[39mfour\u001b[39;49m\u001b[39m\"\u001b[39;49m])\n",
      "\u001b[1;31mKeyError\u001b[0m: 'four'"
     ]
    }
   ],
   "source": [
    "print(eng_to_ru[\"four\"])\n"
   ]
  },
  {
   "attachments": {},
   "cell_type": "markdown",
   "id": "f9284553",
   "metadata": {},
   "source": [
    "Возникла ошибка [KeyError](https://docs.python.org/3/library/exceptions.html#KeyError), сигнализирующая об отсутствии переданного ключа в словаре. Она возникла, т.к. при заполнении словаря была совершена опечатка: вместо ключа \"four\" был введен ключ \"fou\". \n",
    "\n",
    "Эту ошибку можно исправить, т.к. словари изменяемы:\n",
    "- в словаре можно изменять значение для уже существующего **ключа**; \n",
    "- добавлять новую пару (`ключ`, `значение`);\n",
    "- удалять пару (`ключ`, `значение`) по **ключу**. \n",
    "\n",
    "Используем эти возможности для исправления опечаток в словаре. Для начала обратим внимание, что по ключу \"five\" находится значение \"пят\", а не \"пять\"."
   ]
  },
  {
   "cell_type": "code",
   "execution_count": 61,
   "metadata": {},
   "outputs": [
    {
     "name": "stdout",
     "output_type": "stream",
     "text": [
      "пят\n"
     ]
    }
   ],
   "source": [
    "print(eng_to_ru[\"five\"])\n"
   ]
  },
  {
   "attachments": {},
   "cell_type": "markdown",
   "id": "146a5224",
   "metadata": {},
   "source": [
    "Чтобы изменить значение по ключу, достаточно присвоить по этому ключу новое значение, т.е. если `d` --- словарь, `key` --- ключ, по которому требуется заменить старое значение на новое значение `new_value`, то используется синтаксис\n",
    "```python\n",
    "d[key] = new_value\n",
    "```\n",
    "\n",
    "Воспользуемся этим синтаксисом, чтобы исправить опечатку по ключу \"five\"."
   ]
  },
  {
   "cell_type": "code",
   "execution_count": 62,
   "metadata": {},
   "outputs": [
    {
     "name": "stdout",
     "output_type": "stream",
     "text": [
      "{'one': 'один', 'two': 'два', 'three': 'три', 'fou': 'четыре', 'five': 'пять', 'six': 'шесть', 'seven': 'семь', 'eight': 'восемь', 'nine': 'девять'}\n"
     ]
    }
   ],
   "source": [
    "eng_to_ru[\"five\"] = \"пять\"\n",
    "print(eng_to_ru)\n"
   ]
  },
  {
   "attachments": {},
   "cell_type": "markdown",
   "id": "e8d925ff",
   "metadata": {},
   "source": [
    "Видим, что значение по ключу \"five\" удалось успешно изменить на \"пять\". Осталась ещё опечатка в ключе `four`. \n",
    "\n",
    "Словари не предусматривают операции редактирования ключа напрямую. Тем не менее можно добиться схожего эффекта за два шага:\n",
    "1. удалить пару (`ключ`, `значение`) по неверному ключу.\n",
    "2. добавить пару (`ключ`, `значение`) по исправленному ключу.\n",
    "\n",
    "```{note}\n",
    "На ключи намеренно накладывают требование неизменяемости, чтобы исключить возможности ключа изменения ключа в словаре по разделяемой ссылке.\n",
    "```\n",
    "\n",
    "Чтобы удалить пару (`ключ`, `значение`) из словаря `d` по ключу `key` используется синтаксис\n",
    "```python\n",
    "del d[key]\n",
    "```\n",
    "\n",
    "Применим этот синтаксис для того, чтобы удалить ключ `fou` из словаря. Здесь удобно также продемонстрировать, что хоть словари и не являются последовательностью, но их длину, т.е. количество ключей (или количество значение) можно спросить функцией `len`."
   ]
  },
  {
   "cell_type": "code",
   "execution_count": 63,
   "metadata": {},
   "outputs": [
    {
     "name": "stdout",
     "output_type": "stream",
     "text": [
      "9\n",
      "8\n",
      "{'one': 'один', 'two': 'два', 'three': 'три', 'five': 'пять', 'six': 'шесть', 'seven': 'семь', 'eight': 'восемь', 'nine': 'девять'}\n"
     ]
    }
   ],
   "source": [
    "print(len(eng_to_ru))\n",
    "del eng_to_ru[\"fou\"]\n",
    "print(len((eng_to_ru)))\n",
    "print(eng_to_ru)\n"
   ]
  },
  {
   "attachments": {},
   "cell_type": "markdown",
   "id": "201ea29b",
   "metadata": {},
   "source": [
    "По изменению количества элементов и по содержимому словаря видно, что успешно удалось удалить пару (\"fou\", \"четыре\").\n",
    "\n",
    "Чтобы добавить в словарь значение по новому ключу используется тот же синтаксис, что и для изменения значения по уже существующему ключу, т.е. если `d` --- словарь и требуется добавить пару (`new_key`, `new_value`), то используется синтаксис\n",
    "```python\n",
    "d[new_key] = new_value\n",
    "```\n",
    "И теперь добавим значение `\"четыре\"` по верному ключу `\"four\"`."
   ]
  },
  {
   "cell_type": "code",
   "execution_count": 64,
   "metadata": {},
   "outputs": [
    {
     "name": "stdout",
     "output_type": "stream",
     "text": [
      "{'one': 'один', 'two': 'два', 'three': 'три', 'five': 'пять', 'six': 'шесть', 'seven': 'семь', 'eight': 'восемь', 'nine': 'девять', 'four': 'четыре'}\n"
     ]
    }
   ],
   "source": [
    "eng_to_ru[\"four\"] = \"четыре\"\n",
    "print(eng_to_ru)\n"
   ]
  },
  {
   "attachments": {},
   "cell_type": "markdown",
   "id": "3cc3df3b",
   "metadata": {},
   "source": [
    "## Методы словаря"
   ]
  },
  {
   "attachments": {},
   "cell_type": "markdown",
   "id": "04fc5236",
   "metadata": {},
   "source": [
    "Как и у списков, у словарей есть множество методов для работы с ними. Во-первых, можно проверять наличие ключа словаря, тем же синтаксисом, что проверяется наличие элемента в последовательностях, т.е. вычисление выражения\n",
    "```python\n",
    "key in d\n",
    "```\n",
    "вернет `True`, если в словаре `d` есть ключ `key`, и значение `False` иначе."
   ]
  },
  {
   "cell_type": "code",
   "execution_count": 65,
   "metadata": {},
   "outputs": [
    {
     "name": "stdout",
     "output_type": "stream",
     "text": [
      "True\n"
     ]
    }
   ],
   "source": [
    "print(\"one\" in eng_to_ru)\n"
   ]
  },
  {
   "attachments": {},
   "cell_type": "markdown",
   "id": "219d9cf1",
   "metadata": {},
   "source": [
    "Однако если вам хочется проверить наличие ключа, только потому что вы не уверены, что такой ключ будет присутствовать в словаре и избегаете возбуждение исключения `KeyError`, то лучше использовать метод [get](https://docs.python.org/3/library/stdtypes.html#dict.get), который возвращает значение по ключу, если таковой присутствует и возвращает заданное значение по умолчанию, если ключ отсутствует. "
   ]
  },
  {
   "cell_type": "code",
   "execution_count": 66,
   "metadata": {},
   "outputs": [
    {
     "name": "stdout",
     "output_type": "stream",
     "text": [
      "один\n",
      "Перевод не известен!\n"
     ]
    }
   ],
   "source": [
    "print(eng_to_ru.get(\"one\", \"Перевод не известен!\"))\n",
    "print(eng_to_ru.get(\"eleven\", \"Перевод не известен!\"))\n"
   ]
  },
  {
   "attachments": {},
   "cell_type": "markdown",
   "id": "f2017ef7",
   "metadata": {},
   "source": [
    "Есть очень похожий метод [pop](https://docs.python.org/3/library/stdtypes.html#dict.pop), который работает точно также, но если ключ в словаре присутствует, то пара извлекается из словаря и вызывающему коду возвращается значение из этой пары."
   ]
  },
  {
   "cell_type": "code",
   "execution_count": 67,
   "metadata": {},
   "outputs": [
    {
     "name": "stdout",
     "output_type": "stream",
     "text": [
      "{'one': 'один', 'two': 'два', 'three': 'три', 'five': 'пять', 'six': 'шесть', 'seven': 'семь', 'eight': 'восемь', 'nine': 'девять', 'four': 'четыре', 'zero': 'ноль'}\n",
      "ноль\n",
      "{'one': 'один', 'two': 'два', 'three': 'три', 'five': 'пять', 'six': 'шесть', 'seven': 'семь', 'eight': 'восемь', 'nine': 'девять', 'four': 'четыре'}\n"
     ]
    }
   ],
   "source": [
    "eng_to_ru[\"zero\"] = \"ноль\"\n",
    "print(eng_to_ru)\n",
    "print(eng_to_ru.pop(\"zero\", \"Перевод не известен!\"))\n",
    "print(eng_to_ru)\n"
   ]
  },
  {
   "attachments": {},
   "cell_type": "markdown",
   "id": "fa771a82",
   "metadata": {},
   "source": [
    "### Итерация по словарю\n",
    "\n",
    "По словарю можно итерироваться разными способами. Если указать в цикле `for` сам словарь, то итерация будет производиться по его ключам."
   ]
  },
  {
   "cell_type": "code",
   "execution_count": 23,
   "metadata": {},
   "outputs": [
    {
     "name": "stdout",
     "output_type": "stream",
     "text": [
      "one two three fou five six seven eight nine "
     ]
    }
   ],
   "source": [
    "for _ in eng_to_ru:\n",
    "    print(_, end=\" \")\n"
   ]
  },
  {
   "attachments": {},
   "cell_type": "markdown",
   "id": "505c8a98",
   "metadata": {},
   "source": [
    "Если требуются не ключи, а только значения, то удобно использовать метод [values](https://docs.python.org/3/library/stdtypes.html#dict.values)."
   ]
  },
  {
   "cell_type": "code",
   "execution_count": 69,
   "metadata": {},
   "outputs": [
    {
     "name": "stdout",
     "output_type": "stream",
     "text": [
      "один два три пять шесть семь восемь девять четыре "
     ]
    }
   ],
   "source": [
    "for value in eng_to_ru.values():\n",
    "    print(value, end=\" \")\n"
   ]
  },
  {
   "attachments": {},
   "cell_type": "markdown",
   "id": "2bc7ca4a",
   "metadata": {},
   "source": [
    "Если требуются и ключи и значения, то оптимальнее всего воспользоваться методом [items](https://docs.python.org/3/library/stdtypes.html#dict.values), который итерируется сразу по парам (`ключ`, `значение`)."
   ]
  },
  {
   "cell_type": "code",
   "execution_count": 70,
   "metadata": {},
   "outputs": [
    {
     "name": "stdout",
     "output_type": "stream",
     "text": [
      "one    => один\n",
      "two    => два\n",
      "three  => три\n",
      "five   => пять\n",
      "six    => шесть\n",
      "seven  => семь\n",
      "eight  => восемь\n",
      "nine   => девять\n",
      "four   => четыре\n"
     ]
    }
   ],
   "source": [
    "for key, value in eng_to_ru.items():\n",
    "    print(f\"{key:6} => {value}\")\n"
   ]
  },
  {
   "attachments": {},
   "cell_type": "markdown",
   "metadata": {},
   "source": [
    "В ходе написания всего этого, были использованы материалы (aka \"читайте там подробнее\"):\n",
    "\n",
    " - Скопипастил всё про словари у замечательного автора: https://fadeevlecturer.github.io/python_lectures/notebooks/python/dictionaries.html\n",
    " \n"
   ]
  },
  {
   "attachments": {},
   "cell_type": "markdown",
   "metadata": {},
   "source": []
  }
 ],
 "metadata": {
  "kernelspec": {
   "display_name": "Python 3.11.0 64-bit",
   "language": "python",
   "name": "python3"
  },
  "language_info": {
   "codemirror_mode": {
    "name": "ipython",
    "version": 3
   },
   "file_extension": ".py",
   "mimetype": "text/x-python",
   "name": "python",
   "nbconvert_exporter": "python",
   "pygments_lexer": "ipython3",
   "version": "3.11.3"
  },
  "orig_nbformat": 4,
  "vscode": {
   "interpreter": {
    "hash": "248ca1dad35692e79aec6395a5eb0b8e20af0de2c141374eb97c620612f26743"
   }
  }
 },
 "nbformat": 4,
 "nbformat_minor": 2
}
