{
 "cells": [
  {
   "attachments": {},
   "cell_type": "markdown",
   "metadata": {},
   "source": [
    "# Ошибки случаются или работа с исключениями.\n"
   ]
  },
  {
   "attachments": {},
   "cell_type": "markdown",
   "metadata": {},
   "source": [
    "\n",
    "## 0. Мотивация\n"
   ]
  },
  {
   "attachments": {},
   "cell_type": "markdown",
   "metadata": {},
   "source": [
    "\n",
    "Пока мы пишем и исполняем код, мы так или иначе будем натыкаться на ошибки. Это нормально. Другой вопрос, хотят ли другие люди видеть ошибки во время исполнения нашего кода и как они хотят их видеть?\n",
    "\n",
    "Давайте представим, что мы пишем любой код для не-программистов. Внезапно что-то происходит и наша программа не может дальше работать верно. *Отдельный вопрос - по чьей вине: пользователь мог ввести неверные данные или мы могли допустить ошибку, которая не позволяет работать программе при введенных данных.* Хочет ли пользователь нашей программы видеть всякие ошибки типа `ValueError` и разбираться, что же произошло? Конечно же, нет. Пользователю будет гораздо понятнее, если вместо стандартной ошибки написать \"Введено некорректное значение\" или что-то похожее. Поэтому многие типичные ошибки мы хотим \"отлавливать\" самостоятельно, чтобы с ними что-то сделать.\n",
    "\n",
    "Кроме того, когда возникают ошибки, важно их \"записывать\" (корректный термин здесь - логировать), чтобы с ними мог разобраться потом кто-то компетентный. Это еще один повод специальным образом обрабатывать ошибки."
   ]
  },
  {
   "attachments": {},
   "cell_type": "markdown",
   "metadata": {},
   "source": [
    "### Пропустим вопрос \"кто виноват?\" и спросим \"что делать?\"\n",
    "\n",
    "Варианта у нас два: либо предотвращать возможные ошибки, либо устранять проблемы по мере поступления."
   ]
  },
  {
   "attachments": {},
   "cell_type": "markdown",
   "metadata": {},
   "source": [
    "## 1. LBYL\n",
    "\n",
    "Один из возможных способов обрабатывать ошибки - проверять данные на корректность *перед* тем, как что-то с ними делать. \n",
    "\n",
    "Такой подход называется `LBYL` или `Look Before You Leap` (предпочитаю переводить как \"смотри, куда прыгаешь\").\n",
    "\n",
    "То есть прежде, чем сделать что-то, мы проверяем, всё ли в норме. Если не задать все возможные (необходимые) вопросы, то случится что-нибудь плохое.\n",
    "\n",
    "Такой подход не идеален по нескольким причинам (цитируя Alex Martelli \"Python in a Nutshell\"):\n",
    "\n",
    "1) Проверки могут ухудшить читабельность и понятность кода. (А тем более стандартных ситуаций, когда всё и так в порядке)\n",
    "2) Вычисления, необходимые для проверок, могут дублировать большую часть работы самой операции, перед которой мы делаем проверки.\n",
    "3) Программист может легко ошибиться и упустить некоторые необходимые проверки\n",
    "4) Ситуация может измениться между моментом проверки и моментом выполнения операции (примеры - `os.path.exists` или `Queue.full`)\n",
    "\n",
    "Пример (очевидно, надуманный, но показывающий общий антипаттерн):"
   ]
  },
  {
   "cell_type": "code",
   "execution_count": 16,
   "metadata": {},
   "outputs": [],
   "source": [
    "def print_object(some_object):\n",
    "    # Проверяем, что объект можно распечатать...\n",
    "    if isinstance(some_object, str):\n",
    "        print(some_object)\n",
    "    elif isinstance(some_object, dict):\n",
    "        print(some_object)\n",
    "    elif isinstance(some_object, list):\n",
    "        print(some_object)\n",
    "    # и еще 97 elif'ов...\n",
    "    else:\n",
    "        print(\"Нельзя распечатать\")\n"
   ]
  },
  {
   "attachments": {},
   "cell_type": "markdown",
   "metadata": {},
   "source": [
    "А это всего лишь простая функция, проверяющая, можно ли распечатать объект. Попытка проверить все условия, в которых возникает ошибка, как будто бы заведомо обречена на провал (так еще и код становится уродливым и нечитабельным). \n",
    "\n",
    "Поэтому мы переходим ко второму подходу, свойственному в основном `Python` (потому что во многих других языках (в основном компилируемых) написание исключений сильно влияет на производительность, а потому считается скорее плохой практикой)."
   ]
  },
  {
   "attachments": {},
   "cell_type": "markdown",
   "metadata": {},
   "source": [
    "## 2. EAFP\n",
    "\n",
    "`Easier to Ask for Forgiveness than Permission` - \"проще просить прощения, чем разрешения\". \n",
    "\n",
    "Идея проста - сначала пробуем что-то сделать, а если не получается - начинаем извиняться и пытаемся разобраться.\n",
    "\n",
    "Прошлый код может быть переписан так:"
   ]
  },
  {
   "cell_type": "code",
   "execution_count": 17,
   "metadata": {},
   "outputs": [],
   "source": [
    "def print_object(some_object):\n",
    "    # Проверяем, что объект можно распечатать\n",
    "    try:\n",
    "        printable = str(some_object)\n",
    "        print(printable)\n",
    "    except TypeError:\n",
    "        print(\"Нельзя распечатать\")\n"
   ]
  },
  {
   "attachments": {},
   "cell_type": "markdown",
   "metadata": {},
   "source": [
    "Более того, предусмотрена конструкция с `else`, которая позволяет написать еще более качественный код:"
   ]
  },
  {
   "cell_type": "code",
   "execution_count": 18,
   "metadata": {},
   "outputs": [],
   "source": [
    "def print_object(some_object):\n",
    "    # Проверяем, что объект можно распечатать\n",
    "    try:\n",
    "        printable = str(some_object)\n",
    "    except TypeError:\n",
    "        print(\"unprintable object\")\n",
    "    else:\n",
    "        print(printable)\n"
   ]
  },
  {
   "attachments": {},
   "cell_type": "markdown",
   "metadata": {},
   "source": [
    "*Заметка про улучшение кода. Наша проверка подразумевала именно возможность конвертации объекта в строку, но что если проблема бы возникла именно в помент вызова `print`? (ну мало ли)*\n",
    "\n",
    "Теперь, `print` будет вызвана только если ошибки не возникло (и если проблема именно в вызове `print`, то ошибка выскочит как обычно)."
   ]
  },
  {
   "attachments": {},
   "cell_type": "markdown",
   "metadata": {},
   "source": [
    "## 3. А что с производительностью?"
   ]
  },
  {
   "attachments": {},
   "cell_type": "markdown",
   "metadata": {},
   "source": [
    "Прежде, чем переходить к деталям применения исключений, убедимся в том, что их использование допустимо в чувствительном к производительности коде.\n",
    "\n",
    "\n",
    "Чтобы измерить влияние на производительность, нам необходимо измерить две (с половиной) вещи:\n",
    "1) Накладные расходы на `try` блок, который никогда не выкидывает исключение\n",
    "2) Накладные расходы на обработку исключения против эквивалентного кода без использования исключений\n",
    "\n",
    "    а) Когда исключения случаются часто\n",
    "    \n",
    "    б) Когда исключения случаются редко"
   ]
  },
  {
   "attachments": {},
   "cell_type": "markdown",
   "metadata": {},
   "source": [
    "Для тестов будем использовать стандартную библиотеку `timeit`. \n",
    "\n",
    "Официальная документация [timeit](https://docs.python.org/3/library/timeit.html) подсказывает, что минимальное время, которое должен исполняться код для репрезентативных результатов, равно 0.2 секунды, поэтому повторяем действия необходимое количество раз.\n",
    "\n",
    "Еще один момент: в `Timer.repeat` мы используем минимальное время выполнения из всех прогонов. Почему так, хотя казалось бы надо посчитать среднее время и стандартное отклонение?  Потому что часто время, которое больше минимального, связано не с различной скоростью выполнения кода, а с другими процессами в компьютере, которые могут влиять на время выполнения. Так что берем минимум.\n",
    "\n",
    "Из документации:\n",
    "\n",
    "> Note: it's tempting to calculate mean and standard deviation from the result vector and report these. However, this is not very useful. In a typical case, the lowest value gives a lower bound for how fast your machine can run the given code snippet; higher values in the result vector are typically not caused by variability in Python's speed, but by other processes interfering with your timing accuracy. So the min() of the result is probably the only number you should be interested in. After that, you should look at the entire vector and apply common sense rather than statistics."
   ]
  },
  {
   "attachments": {},
   "cell_type": "markdown",
   "metadata": {},
   "source": [
    "### 3.1 Тест 1\n",
    "Проверим накладные расходы на блок `try`, который никогда не использует конструкцию `except`.\n",
    "\n",
    "Код ниже просто увеличивает счетчик на 1 двумя способами: без `try-except` и с ним. "
   ]
  },
  {
   "cell_type": "code",
   "execution_count": 3,
   "metadata": {},
   "outputs": [
    {
     "name": "stdout",
     "output_type": "stream",
     "text": [
      "Используя if:\n",
      "      Среднее время выполнения: 1.867625600018073e-08\n",
      "      \n",
      "Используя exception: \n",
      "      Среднее время выполнения: 2.1865148000069895e-08\n",
      "      \n"
     ]
    }
   ],
   "source": [
    "SETUP = \"counter = 0\"\n",
    "\n",
    "LOOP_IF = \"\"\"\n",
    "counter += 1\n",
    "\"\"\"\n",
    "\n",
    "LOOP_EXCEPT = \"\"\"\n",
    "try:\n",
    "    counter += 1\n",
    "except:\n",
    "    pass\n",
    "\"\"\"\n",
    "\n",
    "import timeit\n",
    "number_of_iterations = 10**8\n",
    "\n",
    "if_time = timeit.Timer(LOOP_IF, setup=SETUP)\n",
    "except_time = timeit.Timer(LOOP_EXCEPT, setup=SETUP)\n",
    "\n",
    "min_if_time = min(if_time.repeat(number=number_of_iterations))\n",
    "min_except_time = min(except_time.repeat(number=number_of_iterations))\n",
    "\n",
    "print(f\"\"\"Используя if:\n",
    "      Среднее время выполнения: {min_if_time / number_of_iterations}\n",
    "      \"\"\")\n",
    "print(f\"\"\"Используя exception: \n",
    "      Среднее время выполнения: {min_except_time / number_of_iterations}\n",
    "      \"\"\")\n"
   ]
  },
  {
   "attachments": {},
   "cell_type": "markdown",
   "metadata": {},
   "source": [
    "Разница минимальна (порядка $3 \\cdot 10^{-9}$ секунд на моей машине), но `try` стабильно медленнее."
   ]
  },
  {
   "attachments": {},
   "cell_type": "markdown",
   "metadata": {},
   "source": [
    "### 3.2 Тест 2\n",
    "\n",
    "Теперь сравним проверку с помощью `if` и конструкцию `try-except`, которая возникает с заданной вероятностью. \n",
    "\n",
    "Возьмем файл `words.txt`, который в `linux` обычно лежит в `/usr/share/dict/words` (он используется для спеллчекинга), из него возьмем определенный процент слов (это отношение хранится в переменной `percentage`) и создадим словарь. Вхождения в этот словарь и будем проверять: в первом случае - условием, а во втором - с помощью `try`. \n",
    "\n",
    "Получается, в зависимости от `percentage`, мы будем попадать в конструкцию `except` с заданной вероятностью ($1 - $`percentage`). "
   ]
  },
  {
   "cell_type": "code",
   "execution_count": 5,
   "metadata": {},
   "outputs": [
    {
     "name": "stdout",
     "output_type": "stream",
     "text": [
      "Используя if: \n",
      "      Среднее время выполнения: 3.203243200026918e-07\n",
      "      \n",
      "Используя exception: \n",
      "      Среднее время выполнения: 7.090981699991972e-07\n",
      "      \n"
     ]
    }
   ],
   "source": [
    "import timeit\n",
    "\n",
    "SETUP = \"\"\"\n",
    "import random\n",
    "with open('./textfiles/words.txt', 'r') as fp:\n",
    "    words = [word.strip() for word in fp.readlines()]\n",
    "percentage = int(len(words) * 0.1)\n",
    "my_dict = dict([(w, w) for w in random.sample(words, percentage)])\n",
    "counter = 0\n",
    "\"\"\"\n",
    "\n",
    "LOOP_IF = \"\"\"\n",
    "word = random.choice(words)\n",
    "if word in my_dict:\n",
    "    counter += len(my_dict[word])\n",
    "\"\"\"\n",
    "\n",
    "LOOP_EXCEPT = \"\"\"\n",
    "word = random.choice(words)\n",
    "try:\n",
    "    counter += len(my_dict[word])\n",
    "except KeyError:\n",
    "    pass\n",
    "\"\"\"\n",
    "\n",
    "num_of_iters_test_2 = 10**7\n",
    "\n",
    "if_time = timeit.Timer(LOOP_IF, setup=SETUP)\n",
    "except_time = timeit.Timer(LOOP_EXCEPT, setup=SETUP)\n",
    "min_if_time_test_2 = min(if_time.repeat(number=num_of_iters_test_2))\n",
    "min_except_time_test_2 = min(except_time.repeat(number=num_of_iters_test_2))\n",
    "\n",
    "print(f\"\"\"Используя if: \n",
    "      Среднее время выполнения: {min_if_time_test_2 / num_of_iters_test_2}\n",
    "      \"\"\")\n",
    "print(f\"\"\"Используя exception: \n",
    "      Среднее время выполнения: {min_except_time_test_2 / num_of_iters_test_2}\n",
    "      \"\"\")"
   ]
  },
  {
   "attachments": {},
   "cell_type": "markdown",
   "metadata": {},
   "source": [
    "Разница получилась двукратная. *Какой ужас, исключения вдважды медленнее!* \n",
    "\n",
    "Секундочку. Это $10^7$ повторов в цикле с шансом 90% вызвать исключение. Да, они немного медленнее, но будет ли хоть одна реальная ситуация, вызывающая исключения с таким шансом? Нет. Если наш код будет в 90% падать с исключением, то разумнее его переписать так, чтобы исключения не возникали настолько часто. \n",
    "\n",
    "А если шанс уменьшить до, например, 20%, то мы снова получим исчезающе малую разницу (на моей машине она равна $7 \\cdot 10^{-8}$). \n",
    "\n",
    "Такая разница не важная никому (а если кому-то и важна, то этот человек зря читает данный текст, потому что подходящее чтиво для него - это \"Язык программирования С\" Ритчи и Кернигана)."
   ]
  },
  {
   "attachments": {},
   "cell_type": "markdown",
   "metadata": {},
   "source": [
    "#### Итог тестов - исключения замедляют выполнение кода на пренебрежительно маленькую величину."
   ]
  },
  {
   "attachments": {},
   "cell_type": "markdown",
   "metadata": {},
   "source": [
    "## 4. Как применять `try-except`?\n"
   ]
  },
  {
   "attachments": {},
   "cell_type": "markdown",
   "metadata": {},
   "source": [
    "### 4.1 Пишите конкретные ошибки:\n",
    "\n",
    "Конструкция с `except:` допустима, но это **не лучшая практика**."
   ]
  },
  {
   "attachments": {},
   "cell_type": "markdown",
   "metadata": {},
   "source": [
    "#### Сравним:\n",
    "\n",
    "Первый код перенаправляет ВСЕ ошибки в except и без отдельных команд не разберёшь, в чем дело. Такое бывает нужно, но это плохая практика."
   ]
  },
  {
   "cell_type": "code",
   "execution_count": 21,
   "metadata": {},
   "outputs": [
    {
     "name": "stdout",
     "output_type": "stream",
     "text": [
      "Без понятия, что пошло не так\n"
     ]
    }
   ],
   "source": [
    "try:\n",
    "    some_digit = int(input())\n",
    "except:\n",
    "    print('Без понятия, что пошло не так')"
   ]
  },
  {
   "attachments": {},
   "cell_type": "markdown",
   "metadata": {},
   "source": [
    "Второй код отлавливает конкретную ошибку и отдельно с ней работает. Замечу, что если хочется всё же выкинуть ошибку, то можно воспользоваться `raise`."
   ]
  },
  {
   "cell_type": "code",
   "execution_count": 22,
   "metadata": {},
   "outputs": [
    {
     "name": "stdout",
     "output_type": "stream",
     "text": [
      "Невозможно конвертировать введенную строку в int\n"
     ]
    },
    {
     "ename": "ValueError",
     "evalue": "invalid literal for int() with base 10: 'g'",
     "output_type": "error",
     "traceback": [
      "\u001b[1;31m---------------------------------------------------------------------------\u001b[0m",
      "\u001b[1;31mValueError\u001b[0m                                Traceback (most recent call last)",
      "Cell \u001b[1;32mIn[22], line 2\u001b[0m\n\u001b[0;32m      1\u001b[0m \u001b[39mtry\u001b[39;00m:\n\u001b[1;32m----> 2\u001b[0m     some_digit \u001b[39m=\u001b[39m \u001b[39mint\u001b[39;49m(\u001b[39minput\u001b[39;49m())\n\u001b[0;32m      3\u001b[0m \u001b[39mexcept\u001b[39;00m \u001b[39mValueError\u001b[39;00m:\n\u001b[0;32m      4\u001b[0m     \u001b[39mprint\u001b[39m(\u001b[39m'\u001b[39m\u001b[39mНевозможно конвертировать введенную строку в int\u001b[39m\u001b[39m'\u001b[39m)\n",
      "\u001b[1;31mValueError\u001b[0m: invalid literal for int() with base 10: 'g'"
     ]
    }
   ],
   "source": [
    "try:\n",
    "    some_digit = int(input())\n",
    "except ValueError:\n",
    "    print('Невозможно конвертировать введенную строку в int')\n",
    "    raise"
   ]
  },
  {
   "attachments": {},
   "cell_type": "markdown",
   "metadata": {},
   "source": [
    "### 4.2 В блоке `try` пишите только то, что может выкинуть ошибку. \n",
    "\n",
    "Для остального используйте `else`.\n",
    "\n",
    "Для того, что сделать нужно вне зависимости от того, возникла ли ошибка, используйте блок `finally`.\n",
    "\n",
    "`except`'ов может быть несколько."
   ]
  },
  {
   "cell_type": "code",
   "execution_count": 12,
   "metadata": {},
   "outputs": [
    {
     "name": "stdout",
     "output_type": "stream",
     "text": [
      "На ноль делить нельзя\n",
      "ВСЕ ЗАВЕРШИЛОСЬ\n"
     ]
    }
   ],
   "source": [
    "a = input(\"Введите число: \")\n",
    "b = input(\"Введите второе число: \")\n",
    "try:\n",
    "    result = int(a) / int(b)\n",
    "except ValueError:\n",
    "    print(\"Невозможно конвертировать в int. Введите целые числа.\")\n",
    "except ZeroDivisionError:\n",
    "    print(\"На ноль делить нельзя\")\n",
    "else:\n",
    "    print(result)\n",
    "finally:\n",
    "    print(\"ВСЕ ЗАВЕРШИЛОСЬ\")\n"
   ]
  },
  {
   "attachments": {},
   "cell_type": "markdown",
   "metadata": {},
   "source": [
    "## 5. Ссылки\n",
    "\n",
    "Официальная документация: https://docs.python.org/3/tutorial/errors.html\n",
    "\n",
    "Хорошая статья, из которой взяты тесты производительности:\n",
    "https://jeffknupp.com/blog/2013/02/06/write-cleaner-python-use-exceptions/\n",
    "\n",
    "Простенький материал с примерами:\n",
    "https://pythonchik.ru/osnovy/python-try-except\n",
    "\n",
    "Чуть более подробный материал: https://academy.yandex.ru/handbook/python/article/model-isklyuchenij-python-try-except-else-finally-moduli\n",
    "\n",
    "Хорошее видео кратко про принцип EAFP: https://www.youtube.com/watch?v=f-GFxTlqD2Q\n",
    "\n",
    "Более подробное видео об исключениях (подробнее, чем мое изложение): https://www.youtube.com/watch?v=89wpfOAgrCk"
   ]
  }
 ],
 "metadata": {
  "kernelspec": {
   "display_name": "Python 3",
   "language": "python",
   "name": "python3"
  },
  "language_info": {
   "codemirror_mode": {
    "name": "ipython",
    "version": 3
   },
   "file_extension": ".py",
   "mimetype": "text/x-python",
   "name": "python",
   "nbconvert_exporter": "python",
   "pygments_lexer": "ipython3",
   "version": "3.11.3"
  },
  "orig_nbformat": 4
 },
 "nbformat": 4,
 "nbformat_minor": 2
}
