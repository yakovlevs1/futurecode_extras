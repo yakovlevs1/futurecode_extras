{
 "cells": [
  {
   "attachments": {},
   "cell_type": "markdown",
   "metadata": {},
   "source": [
    "# Файлы."
   ]
  },
  {
   "attachments": {},
   "cell_type": "markdown",
   "metadata": {},
   "source": [
    "## 0. Мотивация\n",
    "Данные, с которыми мы работаем, так или иначе должны где-то храниться. Один из вариантов их хранения - записывать в различные файлы. Сегодня мы будем работать с .txt файлами, потому что текстовую информацию проще воспринимать. Отдельные форматы, например, JSON, считываются немного иначе, но это выходит за рамки нашего рассмотрения вопроса."
   ]
  },
  {
   "attachments": {},
   "cell_type": "markdown",
   "metadata": {},
   "source": [
    "## 1. Чтение файлов"
   ]
  },
  {
   "attachments": {},
   "cell_type": "markdown",
   "metadata": {},
   "source": [
    "### 1.1 Два способа открыть файл"
   ]
  },
  {
   "attachments": {},
   "cell_type": "markdown",
   "metadata": {},
   "source": [
    "В `Python` есть встроенная функция `open`, которая позволяет удобно работать с текстовыми файлами.\n",
    "\n",
    "Документация по ней: https://docs.python.org/3/library/functions.html#open"
   ]
  },
  {
   "attachments": {},
   "cell_type": "markdown",
   "metadata": {},
   "source": [
    "Рассмотрим простейший пример (файл words.txt содержит очень много англоязычных слов для спеллчекинга):"
   ]
  },
  {
   "cell_type": "code",
   "execution_count": 2,
   "metadata": {},
   "outputs": [
    {
     "name": "stdout",
     "output_type": "stream",
     "text": [
      "<class '_io.TextIOWrapper'>\n",
      "235886\n"
     ]
    }
   ],
   "source": [
    "my_file = open(\"./textfiles/words.txt\")\n",
    "print(type(my_file))\n",
    "print(len(my_file.readlines()))\n",
    "my_file.close()"
   ]
  },
  {
   "attachments": {},
   "cell_type": "markdown",
   "metadata": {},
   "source": [
    "Функция `open` возвращает объект, который мы можем считывать различными способами.\n",
    "\n",
    " Сами способы обсудим чуть ниже, а пока важно отметить - **мы обязаны закрыть файл после использования**. Иначе возникнут утечки памяти, сам файл невозможно будет использовать до завершения программы и так далее.\n",
    "\n",
    "\n",
    "Конечно, мы можем про это забыть. А еще в процессе может возникнуть ошибка или что-то непредвиденное. Поэтому обычно пишутся конструкции `try-except-finally`, в которых в `finally` файл непременно закрывается. Нам каждый раз лень делать таким образом, поэтому используем иной способ.\n",
    "\n",
    "Будем использовать `менеджер контекста`. Объяснение того, как именно это работает, выходит за рамки материала данного курса, так что предлагаю просто принять \"правила игры\": внутри менеджера контекста мы можем свободно работать с файлом, вне его - файл закрыт. Синтаксис в примере ниже:"
   ]
  },
  {
   "cell_type": "code",
   "execution_count": 16,
   "metadata": {},
   "outputs": [
    {
     "name": "stdout",
     "output_type": "stream",
     "text": [
      "A\n",
      "a\n",
      "aa\n",
      "aal\n"
     ]
    }
   ],
   "source": [
    "with open(\"./textfiles/words.txt\") as my_file:\n",
    "    print(my_file.read(10))"
   ]
  },
  {
   "attachments": {},
   "cell_type": "markdown",
   "metadata": {},
   "source": [
    "### 1.2 Абсолютный и относительный пути"
   ]
  },
  {
   "attachments": {},
   "cell_type": "markdown",
   "metadata": {},
   "source": [
    "Вы можете заметить, что именно я отправляю в функцию `open` для открытия файла. Это путь к самому файлу в виде строки (`str`).\n",
    "\n",
    "Путь может быть одного из двух форматов - *абсолютным* (полный путь по файловой системе до файла) или *относительным* (путь до читаемого файла от файла с кодом, который исполняется)\n",
    "\n",
    "Примеры:"
   ]
  },
  {
   "cell_type": "code",
   "execution_count": 17,
   "metadata": {},
   "outputs": [
    {
     "name": "stdout",
     "output_type": "stream",
     "text": [
      "A\n",
      "a\n",
      "aa\n",
      "aal\n",
      "____________________________\n",
      "A\n",
      "a\n",
      "aa\n",
      "aal\n"
     ]
    }
   ],
   "source": [
    "# Относительный путь. Обратите внимание на точку в начале - она означает, что нужно смотреть в той же папке, что и файл с кодом.\n",
    "# Две точки бы означали необходимость \"подняться\" выше по файловой системе и так далее\n",
    "with open(\"./textfiles/words.txt\") as my_file:\n",
    "    print(my_file.read(10))\n",
    "\n",
    "print(\"____________________________\\n\")\n",
    "\n",
    "# Заметьте, что я использую raw-строку, потому что backslash \\ - это спецсимвол и\n",
    "# почти всегда строки с ним не работают как мы хотим, когда мы указываем путь в windows\n",
    "# Именно для того, чтобы он игнорировался как спецсимвол, и делается raw-строка\n",
    "with open(r\"C:\\MEGA\\Школа\\Теоретический материал к занятиям\\Модуль 3\\textfiles\\words.txt\") as my_file:\n",
    "    print(my_file.read(10))"
   ]
  },
  {
   "attachments": {},
   "cell_type": "markdown",
   "metadata": {},
   "source": [
    "### 1.3 Кодировки"
   ]
  },
  {
   "attachments": {},
   "cell_type": "markdown",
   "metadata": {},
   "source": [
    "Отлично. Давайте попробуем прочитать первые 10 строк аналогичного words.txt словаря, но с русскими словами."
   ]
  },
  {
   "cell_type": "code",
   "execution_count": 18,
   "metadata": {},
   "outputs": [
    {
     "name": "stdout",
     "output_type": "stream",
     "text": [
      "-РґРµ\n",
      "-РєР°\n",
      "-Р»РёР±Рѕ\n",
      "-РЅРёР±СѓРґСЊ\n",
      "-СЃ\n",
      "-С‚Р°РєРё\n",
      "-С‚Рѕ\n",
      "Р°\n",
      "Р°-РєРѕРЅС‚Рѕ\n",
      "Р°-Р»СЏ\n"
     ]
    }
   ],
   "source": [
    "lines_needed = 10\n",
    "\n",
    "with open(\"./textfiles/russian.txt\") as rus_file:\n",
    "    for _ in range(lines_needed):\n",
    "        print(rus_file.readline(), end=\"\")"
   ]
  },
  {
   "attachments": {},
   "cell_type": "markdown",
   "metadata": {},
   "source": [
    "Кажется, что-то пошло не так. Дело в кодировке. `Python` использует стандартную кодировку системы. Проверим ее:"
   ]
  },
  {
   "cell_type": "code",
   "execution_count": 19,
   "metadata": {},
   "outputs": [
    {
     "name": "stdout",
     "output_type": "stream",
     "text": [
      "cp1251\n"
     ]
    }
   ],
   "source": [
    "import locale\n",
    "\n",
    "print(locale.getencoding())"
   ]
  },
  {
   "attachments": {},
   "cell_type": "markdown",
   "metadata": {},
   "source": [
    "`cp1251` - стандартная кодировка для русскоязычной Windows 10. Как видно, её использование не позволяет нам нормально прочитать файл."
   ]
  },
  {
   "attachments": {},
   "cell_type": "markdown",
   "metadata": {},
   "source": [
    "Используем параметр `encoding` для функции `open`"
   ]
  },
  {
   "cell_type": "code",
   "execution_count": 1,
   "metadata": {},
   "outputs": [
    {
     "name": "stdout",
     "output_type": "stream",
     "text": [
      "-РґРµ\n",
      "-РєР°\n",
      "-Р»РёР±Рѕ\n",
      "-РЅРёР±СѓРґСЊ\n",
      "-СЃ\n",
      "-С‚Р°РєРё\n",
      "-С‚Рѕ\n",
      "Р°\n",
      "Р°-РєРѕРЅС‚Рѕ\n",
      "Р°-Р»СЏ\n",
      "____________________________\n",
      "-де\n",
      "-ка\n",
      "-либо\n",
      "-нибудь\n",
      "-с\n",
      "-таки\n",
      "-то\n",
      "а\n",
      "а-конто\n",
      "а-ля\n"
     ]
    }
   ],
   "source": [
    "lines_needed = 10\n",
    "\n",
    "with open(\"./textfiles/russian.txt\") as rus_file:\n",
    "    for _ in range(lines_needed):\n",
    "        print(rus_file.readline(), end=\"\")\n",
    "\n",
    "print(\"____________________________\")\n",
    "\n",
    "with open(\"./textfiles/russian.txt\", encoding=\"utf-8\") as rus_file:\n",
    "    for _ in range(lines_needed):\n",
    "        print(rus_file.readline(), end=\"\")"
   ]
  },
  {
   "attachments": {},
   "cell_type": "markdown",
   "metadata": {},
   "source": [
    "На самом деле, происходящее зависело от кодировки самого файла. Создадим еще один, но в кодировке `cp1251`:"
   ]
  },
  {
   "cell_type": "code",
   "execution_count": 4,
   "metadata": {},
   "outputs": [
    {
     "name": "stdout",
     "output_type": "stream",
     "text": [
      "-де\n",
      "-ка\n",
      "-либо\n",
      "-нибудь\n",
      "-с\n",
      "-таки\n",
      "-то\n",
      "а\n",
      "а-конто\n",
      "а-ля\n"
     ]
    }
   ],
   "source": [
    "lines_needed = 10\n",
    "\n",
    "# Не указываем кодировку => используется стандартная\n",
    "with open(\"./textfiles/russian_in_cp1251.txt\") as rus_file:\n",
    "    for _ in range(lines_needed):\n",
    "        print(rus_file.readline(), end=\"\")"
   ]
  },
  {
   "attachments": {},
   "cell_type": "markdown",
   "metadata": {},
   "source": [
    "Вывод:\n",
    "\n",
    "Чтобы информация из нашего текстового файла правильно считывалась, нужно синхронизировать кодировки файла и функции `open` любым способом: либо изначально создавать файл в нужной кодировке, либо отправить название кодировки файла в качестве параметра `encoding` функции `open`."
   ]
  },
  {
   "attachments": {},
   "cell_type": "markdown",
   "metadata": {},
   "source": [
    "## 2. Методы чтения файла\n"
   ]
  },
  {
   "attachments": {},
   "cell_type": "markdown",
   "metadata": {},
   "source": [
    "### 2.1 \"Постепенное\" чтение"
   ]
  },
  {
   "cell_type": "markdown",
   "metadata": {},
   "source": [
    "\n",
    "\n",
    "`Python` запоминает, где мы остановились, когда считывали файл частично. \n",
    "\n",
    "Два самых популярных способа считать частично информацию из файла:\n",
    "\n",
    "1) `f.read(<число>)` - считать заданное количество символов\n",
    "\n",
    "2) `f.readline()` - считать очередную строку"
   ]
  },
  {
   "cell_type": "code",
   "execution_count": 22,
   "metadata": {},
   "outputs": [
    {
     "name": "stdout",
     "output_type": "stream",
     "text": [
      "first print: \n",
      "     Не знаю, кем я кажусь миру, но сам себе я кажусь ребёнком, который, играя на морском берегу,\n",
      "\n",
      "second print: \n",
      "     нашёл несколько камешков поглаже и раковин попестрее, чем удавалось другим,\n",
      "\n",
      "third print (after seek(0)): \n",
      "     Не знаю, кем я кажусь миру, но сам себе я кажусь ребёнком, который, играя на морском берегу,\n",
      "\n",
      "read(17) (after seek(0) again): \n",
      "     Не знаю, кем я ка\n"
     ]
    }
   ],
   "source": [
    "with open(\"./textfiles/some_text_file.txt\", encoding=\"utf-8\") as f:\n",
    "    # Читаем первую строку\n",
    "    print(\"first print: \\n    \", f.readline())\n",
    "    # Читаем вторую и так далее.\n",
    "    print(\"second print: \\n    \", f.readline())\n",
    "\n",
    "    # Перемещаем \"указатель\" чтения на какой-либо символ (0 - начало файла)\n",
    "    f.seek(0)\n",
    "    print(\"third print (after seek(0)): \\n    \", f.readline())\n",
    "\n",
    "    # Читаем отдельные символы\n",
    "    f.seek(0)\n",
    "    print(\"read(17) (after seek(0) again): \\n    \", f.read(17))"
   ]
  },
  {
   "attachments": {},
   "cell_type": "markdown",
   "metadata": {},
   "source": [
    "### 2.2 Читаем файл целиком\n",
    "\n",
    "`read()` прочитает весь файл и вернет многострочную строку"
   ]
  },
  {
   "cell_type": "code",
   "execution_count": 23,
   "metadata": {},
   "outputs": [
    {
     "name": "stdout",
     "output_type": "stream",
     "text": [
      "Не знаю, кем я кажусь миру, но сам себе я кажусь ребёнком, который, играя на морском берегу,\n",
      "нашёл несколько камешков поглаже и раковин попестрее, чем удавалось другим,\n",
      "в то время как неизмеримый океан истины расстилался неисследованным перед моим взором.\n",
      "\n",
      "Исаак Ньютон\n"
     ]
    }
   ],
   "source": [
    "with open(\"./textfiles/some_text_file.txt\", encoding=\"utf-8\") as f:\n",
    "    print(f.read())"
   ]
  },
  {
   "attachments": {},
   "cell_type": "markdown",
   "metadata": {},
   "source": [
    "`readlines()` прочитает весь файл и вернет список из строк (`list[str]`) (каждая отдельная строка исходного файла - это элемент списка)"
   ]
  },
  {
   "cell_type": "code",
   "execution_count": 24,
   "metadata": {},
   "outputs": [
    {
     "name": "stdout",
     "output_type": "stream",
     "text": [
      "['Не знаю, кем я кажусь миру, но сам себе я кажусь ребёнком, который, играя на морском берегу,\\n', 'нашёл несколько камешков поглаже и раковин попестрее, чем удавалось другим,\\n', 'в то время как неизмеримый океан истины расстилался неисследованным перед моим взором.\\n', '\\n', 'Исаак Ньютон']\n"
     ]
    }
   ],
   "source": [
    "with open(\"./textfiles/some_text_file.txt\", encoding=\"utf-8\") as f:\n",
    "    print(f.readlines())"
   ]
  },
  {
   "attachments": {},
   "cell_type": "markdown",
   "metadata": {},
   "source": [
    "Заметьте, символы переноса строк `\\n` внутри файла читаются вместе со строками. Но при использовании `print` эти символы будут учитываться:"
   ]
  },
  {
   "cell_type": "code",
   "execution_count": 2,
   "metadata": {},
   "outputs": [
    {
     "name": "stdout",
     "output_type": "stream",
     "text": [
      "Не знаю, кем я кажусь миру, но сам себе я кажусь ребёнком, который, играя на морском берегу,\n",
      "нашёл несколько камешков поглаже и раковин попестрее, чем удавалось другим,\n",
      "в то время как неизмеримый океан истины расстилался неисследованным перед моим взором.\n",
      "\n",
      "Исаак Ньютон"
     ]
    }
   ],
   "source": [
    "with open(\"./textfiles/some_text_file.txt\", encoding=\"utf-8\") as f:\n",
    "    lines = f.readlines()\n",
    "    for line in lines:\n",
    "        print(line, end=\"\")"
   ]
  },
  {
   "attachments": {},
   "cell_type": "markdown",
   "metadata": {},
   "source": [
    "## 3. Режимы открытия файлов\n"
   ]
  },
  {
   "attachments": {},
   "cell_type": "markdown",
   "metadata": {},
   "source": [
    "\n",
    "Очевидно, что файлы можно не только считывать, но и записывать в них что-то. Но для этого надо при вызове `open` указать специальный параметр - режим открытия файла (`mode`). По умолчанию мы открываем файлы в режиме чтения.\n",
    "\n",
    "Все возможные режимы открытия файлов перечислены в описании функции [`open`](https://docs.python.org/3/library/functions.html#open)"
   ]
  },
  {
   "cell_type": "code",
   "execution_count": 3,
   "metadata": {},
   "outputs": [
    {
     "name": "stdout",
     "output_type": "stream",
     "text": [
      "Первый раз читаем файл: \n",
      "\n",
      "Если что-то не сделано до конца - оно не сделано вообще.\n",
      "Карл Фридрих Гаусс\n",
      "\n",
      "\n",
      "Второй раз читаем файл: \n",
      "\n",
      "LKGBHFKLJGHBLKJDFHBGLJKDBFGK\n",
      "\n",
      "LJBDFLKJGHBLJDRBGJIBGRTUIOYG*O#$\n",
      "\n",
      "G*O$#*B$#@UYVB$U@#\n",
      "\n",
      "\n",
      "\n",
      "\n",
      "\n",
      "krehbtguioervbtu83b487berubygfer\n"
     ]
    }
   ],
   "source": [
    "with open(\"./textfiles/testfile.txt\", mode=\"r\", encoding=\"utf-8\") as f_in:\n",
    "    print(\"Первый раз читаем файл: \\n\")\n",
    "    prev_text = f_in.read()\n",
    "    print(prev_text)\n",
    "\n",
    "text = \"\"\"LKGBHFKLJGHBLKJDFHBGLJKDBFGK\n",
    "\n",
    "LJBDFLKJGHBLJDRBGJIBGRTUIOYG*O#$\n",
    "\n",
    "G*O$#*B$#@UYVB$U@#\\n\\n\\n\\n\\n\\nkrehbtguioervbtu83b487berubygfer\"\"\"\n",
    "\n",
    "with open(\"./textfiles/testfile.txt\", mode=\"w\", encoding=\"utf-8\") as f_out:\n",
    "    f_out.write(text)\n",
    "\n",
    "with open(\"./textfiles/testfile.txt\", mode=\"r\", encoding=\"utf-8\") as f_in:\n",
    "    print(\"\\n\\nВторой раз читаем файл: \\n\")\n",
    "    print(f_in.read())"
   ]
  },
  {
   "attachments": {},
   "cell_type": "markdown",
   "metadata": {},
   "source": [
    "Как видим, после нашей записи, исходный текст файла стёрся. Это свойство режима `'w'` или `'w+'`.\n",
    "\n",
    "Чтобы этого избежать, используем `'a'` для чистой дозаписи или `'r+'` для чтения и дозаписи:"
   ]
  },
  {
   "cell_type": "code",
   "execution_count": 6,
   "metadata": {},
   "outputs": [
    {
     "name": "stdout",
     "output_type": "stream",
     "text": [
      "Первый раз читаем файл: \n",
      "\n",
      "От любой эпохи, от любой формы правления в истории остается только культурный слой.\n",
      "Не остается следов от политических интриг, экономических неурядиц, смут, злодейств, войн...\n",
      "Остаются пирамиды, храмы, живописные полотна, литературные произведения, музыка...\n",
      "Мы читаем книги, слушаем музыку, смотрим живопись и составляем представление об эпохе.\n",
      "Ведь кто бы что ныне ни говорил с больших трибун, а кроме культурного слоя, от нас ничего не останется.\n",
      "\n",
      "Алексей Рыбников\n",
      "\n",
      "\n",
      "Второй раз читаем файл: \n",
      "\n",
      "От любой эпохи, от любой формы правления в истории остается только культурный слой.\n",
      "Не остается следов от политических интриг, экономических неурядиц, смут, злодейств, войн...\n",
      "Остаются пирамиды, храмы, живописные полотна, литературные произведения, музыка...\n",
      "Мы читаем книги, слушаем музыку, смотрим живопись и составляем представление об эпохе.\n",
      "Ведь кто бы что ныне ни говорил с больших трибун, а кроме культурного слоя, от нас ничего не останется.\n",
      "\n",
      "Алексей Рыбниковэтот\n",
      "текст\n",
      "\n",
      "\n",
      "я\n",
      "\n",
      "хочу добавить в свой файл\n"
     ]
    }
   ],
   "source": [
    "with open(\"./textfiles/testfile.txt\", mode=\"r\", encoding=\"utf-8\") as f_in:\n",
    "    print(\"Первый раз читаем файл: \\n\")\n",
    "    prev_text = f_in.read()\n",
    "    print(prev_text)\n",
    "\n",
    "text = \"\"\"этот\n",
    "текст\n",
    "\n",
    "\n",
    "я\n",
    "\n",
    "хочу добавить в свой файл\"\"\"\n",
    "\n",
    "with open(\"./textfiles/testfile.txt\", mode=\"a\", encoding=\"utf-8\") as f_out:\n",
    "    f_out.write(text)\n",
    "\n",
    "with open(\"./textfiles/testfile.txt\", mode=\"r\", encoding=\"utf-8\") as f_in:\n",
    "    print(\"\\n\\nВторой раз читаем файл: \\n\")\n",
    "    print(f_in.read())"
   ]
  }
 ],
 "metadata": {
  "kernelspec": {
   "display_name": "Python 3",
   "language": "python",
   "name": "python3"
  },
  "language_info": {
   "codemirror_mode": {
    "name": "ipython",
    "version": 3
   },
   "file_extension": ".py",
   "mimetype": "text/x-python",
   "name": "python",
   "nbconvert_exporter": "python",
   "pygments_lexer": "ipython3",
   "version": "3.11.3"
  },
  "orig_nbformat": 4
 },
 "nbformat": 4,
 "nbformat_minor": 2
}
