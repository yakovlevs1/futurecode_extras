{
 "cells": [
  {
   "cell_type": "markdown",
   "metadata": {
    "id": "iCafq4fwgd6t"
   },
   "source": [
    "# **Урок 2.2 Списки. Методы списков**"
   ]
  },
  {
   "cell_type": "markdown",
   "metadata": {
    "id": "xkFoATNDqRSY"
   },
   "source": [
    "## **1. Списки**"
   ]
  },
  {
   "cell_type": "markdown",
   "metadata": {
    "id": "UjETqnP2g0dV"
   },
   "source": [
    "**Список (list)** — это упорядоченный набор объектов, хранящихся в одной переменной. В отличие от массивов в других языках, у списков нет никаких ограничений на тип переменных, поэтому в них могут храниться разные объекты, в том числе и другие коллекции. \n",
    "Значения, входящие в список, называются элементами.\n",
    "\n",
    "Пример списка:"
   ]
  },
  {
   "cell_type": "code",
   "execution_count": 33,
   "metadata": {
    "ExecuteTime": {
     "end_time": "2023-02-02T13:57:50.071797Z",
     "start_time": "2023-02-02T13:57:50.068794Z"
    },
    "id": "BdhjRpTRfg2i"
   },
   "outputs": [
    {
     "name": "stdout",
     "output_type": "stream",
     "text": [
      "[9, 1, 2]\n"
     ]
    }
   ],
   "source": [
    "a0 = [9]\n",
    "a0 += [1, 2]\n",
    "print(a0)\n",
    "a = [\"Ivan\", 9, 8.41, True, [1, 2, 5]]\n",
    "b = [['Anna', 4.4], ['Georg', 4.2]] # cписок внутри другого списка называют вложенным."
   ]
  },
  {
   "cell_type": "markdown",
   "metadata": {
    "id": "dUhbCbxLinFj"
   },
   "source": [
    "Есть несколько способов создать новый список:\n",
    "1. простейший из них — заключить элементы в квадратные скобки, `[` и `]`:"
   ]
  },
  {
   "cell_type": "code",
   "execution_count": null,
   "metadata": {
    "id": "Z5TY97r_ipzb"
   },
   "outputs": [],
   "source": [
    "a = ['list', 'tuple', 'dict', 'set']"
   ]
  },
  {
   "cell_type": "code",
   "execution_count": null,
   "metadata": {
    "id": "iVAJa6Ppoh-W"
   },
   "outputs": [],
   "source": [
    "b = [10, 20, 30, 40]"
   ]
  },
  {
   "cell_type": "markdown",
   "metadata": {
    "id": "Rpnc6CDPir2R"
   },
   "source": [
    "2. инициировать новый список пустым списком `[]` или функцией list(), а затем добавить элементы с помощью сложения (см. пример):\n"
   ]
  },
  {
   "cell_type": "code",
   "execution_count": null,
   "metadata": {
    "id": "pZg9Z_UQit1F"
   },
   "outputs": [],
   "source": [
    "empty = []"
   ]
  },
  {
   "cell_type": "code",
   "execution_count": null,
   "metadata": {
    "id": "FrfvXumZix96"
   },
   "outputs": [],
   "source": [
    "empty = list()"
   ]
  },
  {
   "cell_type": "code",
   "execution_count": null,
   "metadata": {
    "id": "RowGXFv5izCj"
   },
   "outputs": [],
   "source": [
    "my_list = [None] * 10"
   ]
  },
  {
   "cell_type": "code",
   "execution_count": 3,
   "metadata": {
    "ExecuteTime": {
     "end_time": "2023-02-02T13:13:29.514543Z",
     "start_time": "2023-02-02T13:13:29.511946Z"
    },
    "scrolled": false
   },
   "outputs": [
    {
     "name": "stdout",
     "output_type": "stream",
     "text": [
      "[0, 0, 0, 0, 0, 0, 0, 0, 0, 0]\n"
     ]
    }
   ],
   "source": [
    "aaa = [0]*10\n",
    "print(aaa)"
   ]
  },
  {
   "cell_type": "markdown",
   "metadata": {
    "id": "gXJA-oqNlaYU"
   },
   "source": [
    "3. вернуть с помощью строкового метода `split()`:"
   ]
  },
  {
   "cell_type": "code",
   "execution_count": 6,
   "metadata": {
    "ExecuteTime": {
     "end_time": "2023-02-02T13:15:03.495408Z",
     "start_time": "2023-02-02T13:15:03.492613Z"
    },
    "id": "UYhwCVueluje",
    "scrolled": true
   },
   "outputs": [
    {
     "name": "stdout",
     "output_type": "stream",
     "text": [
      "['I', 'like', 'Python']\n"
     ]
    }
   ],
   "source": [
    "my_list = 'I like Python'.split()\n",
    "print(my_list)"
   ]
  },
  {
   "cell_type": "code",
   "execution_count": 7,
   "metadata": {
    "ExecuteTime": {
     "end_time": "2023-02-02T13:16:17.555144Z",
     "start_time": "2023-02-02T13:16:14.861696Z"
    },
    "id": "GPTYNraRlkAn"
   },
   "outputs": [
    {
     "name": "stdout",
     "output_type": "stream",
     "text": [
      "d.lkfjnglkdhngh kldhgkl hbdkfg khdfgk bdklfgb kdhfgk lhdkfg hd\n",
      "['d.lkfjnglkdhngh', 'kldhgkl', 'hbdkfg', 'khdfgk', 'bdklfgb', 'kdhfgk', 'lhdkfg', 'hd']\n"
     ]
    }
   ],
   "source": [
    "my_list = input().split()\n",
    "print(my_list)"
   ]
  },
  {
   "cell_type": "code",
   "execution_count": 13,
   "metadata": {
    "ExecuteTime": {
     "end_time": "2023-02-02T13:20:32.503345Z",
     "start_time": "2023-02-02T13:20:32.501118Z"
    }
   },
   "outputs": [
    {
     "name": "stdout",
     "output_type": "stream",
     "text": [
      "[0, 1, 4, 9, 16, 25, 36, 49, 64, 81]\n"
     ]
    }
   ],
   "source": [
    "a = []\n",
    "for i in range(10):\n",
    "    a.append(i**2)\n",
    "print(a)"
   ]
  },
  {
   "cell_type": "code",
   "execution_count": 16,
   "metadata": {
    "ExecuteTime": {
     "end_time": "2023-02-02T13:26:12.506302Z",
     "start_time": "2023-02-02T13:26:12.503930Z"
    }
   },
   "outputs": [
    {
     "name": "stdout",
     "output_type": "stream",
     "text": [
      "[0, 1, 2, 3, 4, 5, 6, 7, 8, 9]\n",
      "[0, 1, 4, 9, 16, 25, 36, 49, 64, 81]\n"
     ]
    }
   ],
   "source": [
    "a = [x for x in range(10)]\n",
    "print(a)\n",
    "b = [x**2 for x in a]\n",
    "print(b)"
   ]
  },
  {
   "cell_type": "markdown",
   "metadata": {
    "id": "OXpyF11am3D8"
   },
   "source": [
    "### **Внимание!**\n",
    "**Операция a = b (если a и b списки) не приведёт к созданию нового списка, а только нового указателя на старый список! Так как список - изменяемый объект**"
   ]
  },
  {
   "cell_type": "code",
   "execution_count": 10,
   "metadata": {
    "ExecuteTime": {
     "end_time": "2023-02-01T12:20:33.963549Z",
     "start_time": "2023-02-01T12:20:33.961107Z"
    }
   },
   "outputs": [
    {
     "name": "stdout",
     "output_type": "stream",
     "text": [
      "[1, 2, 3, 4] [1, 2, 3, 4]\n",
      "[11, 2, 3, 4] [11, 2, 3, 4]\n"
     ]
    }
   ],
   "source": [
    "a = [1, 2, 3, 4]\n",
    "b = a\n",
    "print(a, b)\n",
    "a[0] += 10\n",
    "print(a, b)"
   ]
  },
  {
   "cell_type": "markdown",
   "metadata": {
    "id": "NMbL7356qZ3r"
   },
   "source": [
    "## **2. Доступ к элементам. Индексы и срезы списков**"
   ]
  },
  {
   "cell_type": "markdown",
   "metadata": {
    "id": "IBdNz7y0quSK"
   },
   "source": [
    "Чтобы обратиться к конкретному элементу списка, используется тот же механизм, что и для строк (оператор `[]`). Нумерация элементов начинается с нуля."
   ]
  },
  {
   "cell_type": "code",
   "execution_count": 17,
   "metadata": {
    "ExecuteTime": {
     "end_time": "2023-02-02T13:32:32.757236Z",
     "start_time": "2023-02-02T13:32:32.754261Z"
    },
    "id": "SNiAjrW9nKlD"
   },
   "outputs": [
    {
     "name": "stdout",
     "output_type": "stream",
     "text": [
      "['list', 'tuple', 'dict', 'set']\n",
      "list\n",
      "set\n"
     ]
    }
   ],
   "source": [
    "a = ['list', 'tuple', 'dict', 'set']\n",
    "print(a)\n",
    "print(a[0])\n",
    "print(a[-1]) # если индекс отрицательный, то счет идет с конца списка"
   ]
  },
  {
   "cell_type": "markdown",
   "metadata": {
    "id": "PFUHtwMJtAZV"
   },
   "source": [
    "В качестве индекса можно использовать любое целочисленное выражение:"
   ]
  },
  {
   "cell_type": "code",
   "execution_count": null,
   "metadata": {
    "id": "gpZAxMoUtBhr"
   },
   "outputs": [],
   "source": [
    "numbers = [17, 123]\n",
    "numbers[9-8]"
   ]
  },
  {
   "cell_type": "markdown",
   "metadata": {
    "id": "--T55F2Qtflz"
   },
   "source": [
    "Списки - изменяемый тип данных, поэтому можно перезаписать любой элемент списка с помощью присваивания:"
   ]
  },
  {
   "cell_type": "code",
   "execution_count": null,
   "metadata": {
    "id": "f-Mbu6RLtTS0"
   },
   "outputs": [],
   "source": [
    "a = ['list', 'tuple', 'dict', 'set']\n",
    "a[3] = 'frozenset'\n",
    "print(a)"
   ]
  },
  {
   "cell_type": "markdown",
   "metadata": {
    "id": "Y0UfyNGitz1A"
   },
   "source": [
    "При попытке обратиться к несуществующему индексу, возникнет ошибка."
   ]
  },
  {
   "cell_type": "code",
   "execution_count": null,
   "metadata": {
    "colab": {
     "base_uri": "https://localhost:8080/",
     "height": 166
    },
    "id": "t1CIDt7Ot2nk",
    "outputId": "d310b78e-c739-429e-8810-0597c3df4a36"
   },
   "outputs": [
    {
     "ename": "IndexError",
     "evalue": "ignored",
     "output_type": "error",
     "traceback": [
      "\u001b[0;31m---------------------------------------------------------------------------\u001b[0m",
      "\u001b[0;31mIndexError\u001b[0m                                Traceback (most recent call last)",
      "\u001b[0;32m<ipython-input-5-84c1e027215d>\u001b[0m in \u001b[0;36m<module>\u001b[0;34m\u001b[0m\n\u001b[0;32m----> 1\u001b[0;31m \u001b[0ma\u001b[0m\u001b[0;34m[\u001b[0m\u001b[0;36m6\u001b[0m\u001b[0;34m]\u001b[0m\u001b[0;34m\u001b[0m\u001b[0;34m\u001b[0m\u001b[0m\n\u001b[0m",
      "\u001b[0;31mIndexError\u001b[0m: list index out of range"
     ]
    }
   ],
   "source": [
    "a[6]"
   ]
  },
  {
   "cell_type": "markdown",
   "metadata": {
    "id": "_fNW7oGvBI4i"
   },
   "source": [
    "Из списков можно формировать срезы `my_list[start:stop:step]`, как из строк. Используя срез, можно изменить несколько элементов сразу:"
   ]
  },
  {
   "cell_type": "code",
   "execution_count": 9,
   "metadata": {
    "colab": {
     "base_uri": "https://localhost:8080/"
    },
    "id": "4W-ihLyWUG2E",
    "outputId": "65be30d5-e8dc-4230-f026-e51496eee0a1"
   },
   "outputs": [
    {
     "name": "stdout",
     "output_type": "stream",
     "text": [
      "['Inna', 'Vasya', 'Petya']\n",
      "['Olga', 'Sasha', 'Inna']\n"
     ]
    }
   ],
   "source": [
    "friends = [\"Olga\", \"Sasha\", \"Inna\", \"Vasya\", \"Petya\", \"Alla\"]\n",
    "print(friends[2:5])\n",
    "print(friends[:3])"
   ]
  },
  {
   "cell_type": "code",
   "execution_count": 11,
   "metadata": {
    "colab": {
     "base_uri": "https://localhost:8080/"
    },
    "id": "DcIstb26UTvx",
    "outputId": "4729c121-2043-4667-d904-32b416ab9412"
   },
   "outputs": [
    {
     "name": "stdout",
     "output_type": "stream",
     "text": [
      "['Olga', 'John', 'Inna', 'Vasya', 'Petya', 'Alla']\n",
      "['Olga', 'John', 'Hanna', 'Anna', 'Petya', 'Alla']\n"
     ]
    }
   ],
   "source": [
    "# заменить значение в середине списка\n",
    "friends[1] = \"John\"\n",
    "print(friends)\n",
    "friends[2:4] = [\"Hanna\", \"Anna\"]\n",
    "print(friends)"
   ]
  },
  {
   "cell_type": "code",
   "execution_count": 12,
   "metadata": {
    "colab": {
     "base_uri": "https://localhost:8080/"
    },
    "id": "lXUlS-trWkO6",
    "outputId": "e9073401-07ae-4990-b949-ccfceca686a5"
   },
   "outputs": [
    {
     "name": "stdout",
     "output_type": "stream",
     "text": [
      "['Olga', 'John', 'Hanna', 'Anna', 'Petya']\n",
      "['Hanna', 'Anna', 'Petya']\n"
     ]
    }
   ],
   "source": [
    "# удалить значение\n",
    "del(friends[5]) # удалим 'Alla'\n",
    "print(friends)\n",
    "del(friends[0:2])\n",
    "print(friends)"
   ]
  },
  {
   "cell_type": "markdown",
   "metadata": {
    "id": "JUAdZWkWBtax"
   },
   "source": [
    "### Пример 1.\n",
    "Составим список из первых 10 четных натуральных чисел. Заменим третий элемент этого списка на число 100. Выделим из списка каждый второй элемент"
   ]
  },
  {
   "cell_type": "code",
   "execution_count": 18,
   "metadata": {
    "ExecuteTime": {
     "end_time": "2023-02-02T13:35:44.497981Z",
     "start_time": "2023-02-02T13:35:44.494946Z"
    },
    "id": "vCmsBNcvB2HK"
   },
   "outputs": [
    {
     "name": "stdout",
     "output_type": "stream",
     "text": [
      "[0, 2, 4, 100, 8, 10, 12, 14, 16, 18]\n",
      "Элементы списка с четными индексами: [0, 4, 8, 12, 16]\n"
     ]
    }
   ],
   "source": [
    "even = [0, 2, 4, 6, 8, 10, 12, 14, 16, 18]\n",
    "even[3] = 100\n",
    "print(even)\n",
    "print(f'Элементы списка с четными индексами: {even[::2]}')"
   ]
  },
  {
   "cell_type": "markdown",
   "metadata": {
    "id": "qyQedAmSyfZ_"
   },
   "source": [
    "### Пример 2.\n",
    "Вводится строка из чисел, отделенных знаком ';'. Составим список из этих чисел. "
   ]
  },
  {
   "cell_type": "code",
   "execution_count": 11,
   "metadata": {
    "ExecuteTime": {
     "end_time": "2023-02-01T12:25:44.408272Z",
     "start_time": "2023-02-01T12:25:35.912212Z"
    },
    "colab": {
     "base_uri": "https://localhost:8080/"
    },
    "id": "Gvd1kwkPy6FV",
    "outputId": "8a337d36-1aa7-4b5a-acfc-8f2795e3d670"
   },
   "outputs": [
    {
     "name": "stdout",
     "output_type": "stream",
     "text": [
      "1;2;3;45;67;8\n",
      "список с элементами в виде текста ['1', '2', '3', '45', '67', '8']\n",
      "1\n",
      "1\n",
      "2\n",
      "2\n",
      "3\n",
      "3\n",
      "45\n",
      "45\n",
      "67\n",
      "67\n",
      "8\n",
      "8\n",
      "список с элементами в виде чисел [1, 2, 3, 45, 67, 8]\n"
     ]
    }
   ],
   "source": [
    "n = input().split(';')\n",
    "print(f'список с элементами в виде текста {n}')\n",
    "for i in range(len(n)): # преобразуем их в числа int.\n",
    "    print(n[i])\n",
    "    n[i] = int(n[i])\n",
    "    print(n[i])\n",
    "print(f'список с элементами в виде чисел {n}')    "
   ]
  },
  {
   "cell_type": "markdown",
   "metadata": {
    "id": "4Ca6WTPY5RpY"
   },
   "source": [
    "### Пример 3.\n",
    "Составим список из элементов списка n, меньше 10."
   ]
  },
  {
   "cell_type": "code",
   "execution_count": 13,
   "metadata": {
    "colab": {
     "base_uri": "https://localhost:8080/"
    },
    "id": "RFc4lzo26FT5",
    "outputId": "b75d8b95-bb7a-4318-ed88-82021fb21a6a"
   },
   "outputs": [
    {
     "name": "stdout",
     "output_type": "stream",
     "text": [
      "[1, 3, 0, 3]\n"
     ]
    }
   ],
   "source": [
    "n = [1, 3, 69, 0, 45, 3]\n",
    "n_less_10 = []\n",
    "for elem in n:\n",
    "    if elem < 10:\n",
    "        n_less_10.append(elem)\n",
    "print(n_less_10)"
   ]
  },
  {
   "cell_type": "code",
   "execution_count": 58,
   "metadata": {
    "ExecuteTime": {
     "end_time": "2023-02-01T15:00:46.645251Z",
     "start_time": "2023-02-01T15:00:46.642734Z"
    }
   },
   "outputs": [
    {
     "name": "stdout",
     "output_type": "stream",
     "text": [
      "[1, 3, 0, 3]\n"
     ]
    }
   ],
   "source": [
    "n = [1, 3, 69, 0, 45, 3]\n",
    "n_less_10 = [elem for elem in n if elem < 10]\n",
    "print(n_less_10)"
   ]
  },
  {
   "cell_type": "markdown",
   "metadata": {
    "id": "rNkHArbQ7IgI"
   },
   "source": [
    "### Пример 4.\n",
    "Составим список из квадратов элементов списка n."
   ]
  },
  {
   "cell_type": "code",
   "execution_count": 14,
   "metadata": {
    "colab": {
     "base_uri": "https://localhost:8080/"
    },
    "id": "tzS0AIzi7Slk",
    "outputId": "439fa9de-194e-4bce-e4ae-6ea5e22e947e"
   },
   "outputs": [
    {
     "name": "stdout",
     "output_type": "stream",
     "text": [
      "[1, 9, 4761, 0, 2025, 9]\n"
     ]
    }
   ],
   "source": [
    "n = [1, 3, 69, 0, 45, 3]\n",
    "n_squared = []\n",
    "for elem in n:\n",
    "    n_squared += [elem ** 2]\n",
    "print(n_squared) "
   ]
  },
  {
   "cell_type": "code",
   "execution_count": 26,
   "metadata": {
    "ExecuteTime": {
     "end_time": "2023-02-02T13:46:48.495247Z",
     "start_time": "2023-02-02T13:46:48.492867Z"
    }
   },
   "outputs": [
    {
     "name": "stdout",
     "output_type": "stream",
     "text": [
      "[1, 2, 3] [1, 2, 3]\n",
      "[2, 2, 3] [1, 2, 3]\n",
      "[]\n"
     ]
    }
   ],
   "source": [
    "a = [1, 2, 3]\n",
    "b = a.copy()\n",
    "print(a, b)\n",
    "a[0] += 1\n",
    "print(a, b)"
   ]
  },
  {
   "cell_type": "markdown",
   "metadata": {
    "id": "LJtXhNUwZnkJ"
   },
   "source": [
    "## **3. Методы списков**\n",
    "**append** добавляет элемент в конец списка\n",
    "\n",
    "**copy** возвращает копию списка\n",
    "\n",
    "**clear** удаляет все элементы из списка\n",
    "\n",
    "**count(x)** возвращает число элементов, равных $x$ в списке\n",
    "\n",
    "**extend(x)** добавляет список $x$ в конец списка\n",
    "\n",
    "**index(x)** возвращает номер первого вхождения $x$ в список, можно указать с какого по какой номер в списке искать $x$ (как в find у строк)\n",
    "\n",
    "**insert(i, x)** вставляет в список на место $i$ элемент $x$\n",
    "\n",
    "**pop(i)** возвращает элемент списка и удаляет его из списка\n",
    "\n",
    "**remove(x)** удаляет первое вхождение элемента $x$ из списка\n",
    "\n",
    "**reverse** разврачивает список задом-наперед\n",
    "\n",
    "**sort** сортирует список\n",
    "\n",
    "\n",
    "\n",
    "---\n",
    "\n",
    "**del** удаляет элемент(ы) из списка\n",
    "\n",
    "**min** возвращает минимальный элемент списка\n",
    "\n",
    "**max** возвращает максимальный элемент списка\n",
    "\n",
    "---\n",
    "\n",
    "**join()** превращает список в строку (элементы должны быть типа str)"
   ]
  },
  {
   "cell_type": "code",
   "execution_count": 40,
   "metadata": {
    "ExecuteTime": {
     "end_time": "2023-02-02T14:06:18.030870Z",
     "start_time": "2023-02-02T14:06:18.028433Z"
    }
   },
   "outputs": [
    {
     "name": "stdout",
     "output_type": "stream",
     "text": [
      "[2, 2, 3, 4, 5, 6]\n"
     ]
    }
   ],
   "source": [
    "a = [1, 2, 1, 2, 3, 4, 5, 6]\n",
    "b = [x for x in a if x != 1]\n",
    "print(b)"
   ]
  },
  {
   "cell_type": "code",
   "execution_count": 27,
   "metadata": {
    "ExecuteTime": {
     "end_time": "2023-02-02T13:47:30.193467Z",
     "start_time": "2023-02-02T13:47:30.190563Z"
    },
    "scrolled": true
   },
   "outputs": [
    {
     "name": "stdout",
     "output_type": "stream",
     "text": [
      "[10, 4, 6, 3, 2, 1]\n",
      "[1, 2, 3, 4, 6, 10]\n"
     ]
    }
   ],
   "source": [
    "a = [1, 2, 3, 6, 4, 10]\n",
    "a.reverse()\n",
    "print(a)\n",
    "a.sort()\n",
    "print(a)"
   ]
  },
  {
   "cell_type": "code",
   "execution_count": 38,
   "metadata": {
    "ExecuteTime": {
     "end_time": "2023-02-02T14:02:19.248694Z",
     "start_time": "2023-02-02T14:02:19.245691Z"
    }
   },
   "outputs": [
    {
     "name": "stdout",
     "output_type": "stream",
     "text": [
      "[['Anna', 4.4], ['Georg', 4.2]]\n",
      "[1, 2, 3, 4]\n"
     ]
    }
   ],
   "source": [
    "a = [1, 2, 3, 4]\n",
    "del(a[3])\n",
    "print(b)\n",
    "\n",
    "a = [1, 2, 3, 4, 4]\n",
    "a.remove(4)\n",
    "print(a)"
   ]
  },
  {
   "cell_type": "code",
   "execution_count": 17,
   "metadata": {
    "ExecuteTime": {
     "end_time": "2023-02-01T12:34:48.306433Z",
     "start_time": "2023-02-01T12:34:48.224373Z"
    }
   },
   "outputs": [
    {
     "ename": "TypeError",
     "evalue": "'<' not supported between instances of 'str' and 'int'",
     "output_type": "error",
     "traceback": [
      "\u001b[1;31m---------------------------------------------------------------------------\u001b[0m",
      "\u001b[1;31mTypeError\u001b[0m                                 Traceback (most recent call last)",
      "Cell \u001b[1;32mIn [17], line 1\u001b[0m\n\u001b[1;32m----> 1\u001b[0m \u001b[38;5;28mprint\u001b[39m(\u001b[38;5;28;43mmin\u001b[39;49m\u001b[43m(\u001b[49m\u001b[38;5;241;43m1\u001b[39;49m\u001b[43m,\u001b[49m\u001b[43m \u001b[49m\u001b[38;5;124;43m'\u001b[39;49m\u001b[38;5;124;43ma\u001b[39;49m\u001b[38;5;124;43m'\u001b[39;49m\u001b[43m)\u001b[49m)\n",
      "\u001b[1;31mTypeError\u001b[0m: '<' not supported between instances of 'str' and 'int'"
     ]
    }
   ],
   "source": []
  },
  {
   "cell_type": "markdown",
   "metadata": {
    "id": "oB1cBAImaHco"
   },
   "source": [
    "### Добавить элемент в конец списка (**append()**)"
   ]
  },
  {
   "cell_type": "code",
   "execution_count": 30,
   "metadata": {
    "ExecuteTime": {
     "end_time": "2023-02-02T13:51:24.743778Z",
     "start_time": "2023-02-02T13:51:24.741414Z"
    },
    "colab": {
     "base_uri": "https://localhost:8080/"
    },
    "id": "A4IjG9ymZrr4",
    "outputId": "2ad12715-0257-4c03-bd93-2867d1a0d454"
   },
   "outputs": [
    {
     "name": "stdout",
     "output_type": "stream",
     "text": [
      "['Olga', 'Sasha', 'Inna', 'Vasya', 'Petya', 'Alla', 'Olga']\n",
      "['Olga', 'Sasha', 'Inna', 'Vasya', 'Petya', 'Alla', 'Olga', ['Alex', 'Dima'], 'Alex', 'Dima']\n"
     ]
    }
   ],
   "source": [
    "friends = [\"Olga\", \"Sasha\", \"Inna\", \"Vasya\", \"Petya\", \"Alla\"]\n",
    "friends.append('Olga')\n",
    "print(friends)\n",
    "friends.append(['Alex', 'Dima']) # при добавлении списка или строки в конец , добавляется, как один элемент\n",
    "print(friends)"
   ]
  },
  {
   "cell_type": "markdown",
   "metadata": {
    "id": "85_xN6Nya1r8"
   },
   "source": [
    "### Добавить второй список в конец первого (**extend()**)"
   ]
  },
  {
   "cell_type": "code",
   "execution_count": 22,
   "metadata": {
    "colab": {
     "base_uri": "https://localhost:8080/"
    },
    "id": "24PzQ54hbEi8",
    "outputId": "042a9915-2916-480a-fea1-c0269d577da0"
   },
   "outputs": [
    {
     "name": "stdout",
     "output_type": "stream",
     "text": [
      "['Olga', 'Sasha', 'Inna', 'Vasya', 'Petya', 'Alla', 'Olga', ['Alex', 'Dima'], 1, 2, 3, 4, 5]\n"
     ]
    }
   ],
   "source": [
    "numbers = [1, 2, 3, 4, 5]\n",
    "friends.extend(numbers)\n",
    "print(friends)"
   ]
  },
  {
   "cell_type": "markdown",
   "metadata": {
    "id": "AaK8zFrJbtks"
   },
   "source": [
    "### Добавить элемент в середину списка (**insert()**)"
   ]
  },
  {
   "cell_type": "code",
   "execution_count": 23,
   "metadata": {
    "colab": {
     "base_uri": "https://localhost:8080/"
    },
    "id": "heYCebGGb9nf",
    "outputId": "6fe8c84c-6bbb-4964-909b-eaa4f2decc11"
   },
   "outputs": [
    {
     "name": "stdout",
     "output_type": "stream",
     "text": [
      "['Olga', 'Kelly', 'Sasha', 'Inna', 'Vasya', 'Petya', 'Alla', 'Olga', ['Alex', 'Dima'], 1, 2, 3, 4, 5]\n"
     ]
    }
   ],
   "source": [
    "friends.insert(1, \"Kelly\")\n",
    "print(friends)"
   ]
  },
  {
   "cell_type": "markdown",
   "metadata": {
    "id": "L0yDwTJjcK31"
   },
   "source": [
    "### Удалить первое вхождение элемента из списка (**remove()**)"
   ]
  },
  {
   "cell_type": "code",
   "execution_count": 24,
   "metadata": {
    "colab": {
     "base_uri": "https://localhost:8080/"
    },
    "id": "ZB-zh-f8cVi6",
    "outputId": "be935620-ddd5-4c95-ce71-96e4a0883c51"
   },
   "outputs": [
    {
     "name": "stdout",
     "output_type": "stream",
     "text": [
      "['Kelly', 'Sasha', 'Inna', 'Vasya', 'Petya', 'Alla', 'Olga', ['Alex', 'Dima'], 1, 2, 3, 4, 5]\n"
     ]
    }
   ],
   "source": [
    "friends.remove(\"Olga\")\n",
    "print(friends)"
   ]
  },
  {
   "cell_type": "markdown",
   "metadata": {
    "id": "y65x1fdRczYm"
   },
   "source": [
    "### Очистить список (**clear()**)"
   ]
  },
  {
   "cell_type": "code",
   "execution_count": 25,
   "metadata": {
    "colab": {
     "base_uri": "https://localhost:8080/"
    },
    "id": "31y5eKQYc8FW",
    "outputId": "01d6d337-1944-4f13-e9fb-8fc06104b428"
   },
   "outputs": [
    {
     "name": "stdout",
     "output_type": "stream",
     "text": [
      "[]\n"
     ]
    }
   ],
   "source": [
    "friends.clear()\n",
    "print(friends)"
   ]
  },
  {
   "cell_type": "markdown",
   "metadata": {
    "id": "LKqw74uMdO0y"
   },
   "source": [
    "### Вернуть элемент, удалив его из списка (**pop()**)"
   ]
  },
  {
   "cell_type": "code",
   "execution_count": 31,
   "metadata": {
    "ExecuteTime": {
     "end_time": "2023-02-02T13:53:10.070210Z",
     "start_time": "2023-02-02T13:53:10.068070Z"
    },
    "colab": {
     "base_uri": "https://localhost:8080/"
    },
    "id": "h7Ss0q16dd4m",
    "outputId": "717230ab-256d-4e30-f48a-85e487fa6f13"
   },
   "outputs": [
    {
     "name": "stdout",
     "output_type": "stream",
     "text": [
      "Inna\n",
      "['Olga', 'Sasha', 'Vasya', 'Petya', 'Alla']\n"
     ]
    }
   ],
   "source": [
    "friends = [\"Olga\", \"Sasha\", \"Inna\", \"Vasya\", \"Petya\", \"Alla\"]\n",
    "name = friends.pop(2)\n",
    "print(name)\n",
    "print(friends)"
   ]
  },
  {
   "cell_type": "markdown",
   "metadata": {
    "id": "IAJ-x4kRdqDp"
   },
   "source": [
    "### Узнать позицию элемента (**index()**)"
   ]
  },
  {
   "cell_type": "code",
   "execution_count": 28,
   "metadata": {
    "colab": {
     "base_uri": "https://localhost:8080/"
    },
    "id": "PxPrjJuId2eG",
    "outputId": "abbd2717-1b25-48fb-84db-77ca1d6d3efa"
   },
   "outputs": [
    {
     "data": {
      "text/plain": [
       "1"
      ]
     },
     "execution_count": 28,
     "metadata": {},
     "output_type": "execute_result"
    }
   ],
   "source": [
    "friends.index(\"Inna\")"
   ]
  },
  {
   "cell_type": "markdown",
   "metadata": {
    "id": "lCWJMTpkd9Oe"
   },
   "source": [
    "### Частота упоминания элемента (**count()**)"
   ]
  },
  {
   "cell_type": "code",
   "execution_count": 29,
   "metadata": {
    "colab": {
     "base_uri": "https://localhost:8080/"
    },
    "id": "e-Z0kAuFeFP2",
    "outputId": "2953ecb5-4404-495f-b50a-fb3ace3c3730"
   },
   "outputs": [
    {
     "data": {
      "text/plain": [
       "0"
      ]
     },
     "execution_count": 29,
     "metadata": {},
     "output_type": "execute_result"
    }
   ],
   "source": [
    "friends.count(\"Sasha\")"
   ]
  },
  {
   "cell_type": "markdown",
   "metadata": {
    "id": "Trdoj-aBeaRS"
   },
   "source": [
    "### Отсортировать список (**sort()**)\n",
    "\n",
    "Для сортировки списка в Python есть два способа: стандартная функция <b>sorted</b>, которая возвращает новый список, полученный сортировкой исходного, и метод списка <b>.sort()</b>, который сортирует in-place (не возвращает новый список, а изменяет исходный). "
   ]
  },
  {
   "cell_type": "code",
   "execution_count": 30,
   "metadata": {
    "colab": {
     "base_uri": "https://localhost:8080/"
    },
    "id": "8X9lbHZYeHtg",
    "outputId": "17ca7267-7815-491a-b420-572abbb5c847"
   },
   "outputs": [
    {
     "name": "stdout",
     "output_type": "stream",
     "text": [
      "['Alla', 'Inna', 'Olga', 'Petya', 'Vasya']\n",
      "['Vasya', 'Petya', 'Olga', 'Inna', 'Alla']\n"
     ]
    }
   ],
   "source": [
    "friends.sort()\n",
    "print(friends)\n",
    "friends.sort(reverse = True) # по убыванию\n",
    "print(friends)"
   ]
  },
  {
   "cell_type": "markdown",
   "metadata": {
    "id": "5DnDWay_exQK"
   },
   "source": [
    "### Развернуть список (**reverse()**)"
   ]
  },
  {
   "cell_type": "code",
   "execution_count": 31,
   "metadata": {
    "colab": {
     "base_uri": "https://localhost:8080/"
    },
    "id": "3tmAZB-Ce41Z",
    "outputId": "34da548e-0763-4f12-a6fa-7552c2c3676c"
   },
   "outputs": [
    {
     "name": "stdout",
     "output_type": "stream",
     "text": [
      "[9, 8, 7, 6, 5, 4, 3, 2, 1]\n"
     ]
    }
   ],
   "source": [
    "n = [1, 2, 3, 4, 5, 6, 7, 8, 9]\n",
    "n.reverse()\n",
    "print(n)"
   ]
  },
  {
   "cell_type": "markdown",
   "metadata": {
    "id": "amhl_-_RfIh4"
   },
   "source": [
    "### Скопировать список(**copy()**)"
   ]
  },
  {
   "cell_type": "code",
   "execution_count": 32,
   "metadata": {
    "colab": {
     "base_uri": "https://localhost:8080/"
    },
    "id": "76gSdaYIfOtB",
    "outputId": "e6c1072e-0e35-4b4a-d350-0da8586eab8a"
   },
   "outputs": [
    {
     "name": "stdout",
     "output_type": "stream",
     "text": [
      "['Vasya', 'Petya', 'Olga', 'Inna', 'Alla']\n"
     ]
    }
   ],
   "source": [
    "friends2 = friends.copy()\n",
    "print(friends2)"
   ]
  },
  {
   "cell_type": "markdown",
   "metadata": {
    "id": "BkWKfQ8if0MC"
   },
   "source": [
    "### Превратить список в строку (**join()**)"
   ]
  },
  {
   "cell_type": "code",
   "execution_count": 33,
   "metadata": {
    "colab": {
     "base_uri": "https://localhost:8080/"
    },
    "id": "GPPmKBjDf--0",
    "outputId": "98f6c0d3-bb4d-4193-d750-cb56a80ffe84"
   },
   "outputs": [
    {
     "name": "stdout",
     "output_type": "stream",
     "text": [
      "Vasya-Petya-Olga-Inna-Alla\n"
     ]
    }
   ],
   "source": [
    "s = \"-\".join(friends)\n",
    "print(s)"
   ]
  },
  {
   "cell_type": "markdown",
   "metadata": {
    "id": "JsQ9cSZig3ij"
   },
   "source": [
    "## **4. Списочные выражения**"
   ]
  },
  {
   "cell_type": "markdown",
   "metadata": {
    "id": "goVCtHCAj2dq"
   },
   "source": [
    "Для создания списка, заполненного одинаковыми элементами, можно использовать оператор повторения списка, например:"
   ]
  },
  {
   "cell_type": "code",
   "execution_count": 55,
   "metadata": {
    "ExecuteTime": {
     "end_time": "2023-02-01T14:49:16.914618Z",
     "start_time": "2023-02-01T14:49:16.912202Z"
    }
   },
   "outputs": [
    {
     "name": "stdout",
     "output_type": "stream",
     "text": [
      "[0, 1, 4, 9, 16, 25, 36, 49, 64, 81]\n"
     ]
    }
   ],
   "source": [
    "a = []\n",
    "for i in range(10):\n",
    "    a.append(i**2)\n",
    "print(a)"
   ]
  },
  {
   "cell_type": "code",
   "execution_count": 57,
   "metadata": {
    "ExecuteTime": {
     "end_time": "2023-02-01T14:50:00.803467Z",
     "start_time": "2023-02-01T14:50:00.800789Z"
    }
   },
   "outputs": [
    {
     "name": "stdout",
     "output_type": "stream",
     "text": [
      "[0, 1, 4, 9, 16, 25, 36, 49, 64, 81]\n"
     ]
    }
   ],
   "source": [
    "a = [x**2 for x in range(10)]\n",
    "print(a)"
   ]
  },
  {
   "cell_type": "markdown",
   "metadata": {
    "id": "0rGE9GxVkMPI"
   },
   "source": [
    "Для генерации списков из неповторяющихся элементов в Python имеется удобная синтаксическая конструкция — **списочное выражение** (list comprehension). Она позволяет создавать элементы списка в цикле for, не записывая цикл целиком.\n",
    "\n",
    "> **[выражение for переменная in список]**,  где\n",
    "\n",
    "*переменная* — идентификатор некоторой переменной, \n",
    "\n",
    "*список* — список значений, который принимает данная переменная (как правило, полученный при помощи функции range), \n",
    "\n",
    "*выражение* — некоторое выражение, которым будут заполнены элементы списка, как правило, зависящее от использованной в генераторе переменной.\n",
    "\n",
    "Вот несколько примеров использования генераторов:\n",
    "> [i ** 2 for i in range(5)]\n",
    "\n",
    "В списочном выражении можно использовать список вместо range:\n",
    "\n",
    ">[i * 2 for i in ['a', 'ba', 'abc']]\n",
    "\n",
    "Можно использовать вложенные циклы и условный оператор:\n",
    "\n",
    ">[i + j for i in [1, 4, 5] for j in range(6) if i + j < 8]\n",
    "\n",
    "Можно создать список на основе какого-нибудь другого перечислимого типа с помощью функции list(),  например\n",
    "\n",
    ">[i for i in list('absdf')]\n",
    "\n",
    "создает список ['a', 'b', 's', 'd', 'f']."
   ]
  },
  {
   "cell_type": "code",
   "execution_count": 8,
   "metadata": {
    "ExecuteTime": {
     "end_time": "2023-02-01T12:16:27.023499Z",
     "start_time": "2023-02-01T12:16:27.020197Z"
    }
   },
   "outputs": [
    {
     "name": "stdout",
     "output_type": "stream",
     "text": [
      "[0, 1, 4, 9, 16]\n",
      "[0, 1, 4, 9, 16]\n"
     ]
    }
   ],
   "source": [
    "a = [i ** 2 for i in range(5)]\n",
    "print(a)\n",
    "b = []\n",
    "for i in range(5):\n",
    "    b.append(i**2)\n",
    "print(b)"
   ]
  },
  {
   "cell_type": "code",
   "execution_count": 9,
   "metadata": {
    "ExecuteTime": {
     "end_time": "2023-02-01T12:17:35.809728Z",
     "start_time": "2023-02-01T12:17:35.806726Z"
    }
   },
   "outputs": [
    {
     "name": "stdout",
     "output_type": "stream",
     "text": [
      "['aa', 'baba', 'abcabc']\n"
     ]
    }
   ],
   "source": [
    "a = [i * 2 for i in ['a', 'ba', 'abc']]\n",
    "print(a)"
   ]
  },
  {
   "cell_type": "markdown",
   "metadata": {
    "id": "dzLMPJAnmRhP"
   },
   "source": [
    "Вот так можно получить список, заполненный случайными числами от 1 до 9 (используя функцию randint из модуля random):"
   ]
  },
  {
   "cell_type": "code",
   "execution_count": 36,
   "metadata": {
    "colab": {
     "base_uri": "https://localhost:8080/"
    },
    "id": "wTIhod2zoYAa",
    "outputId": "909bc4d6-c18c-4085-b0e7-0e3673a0f11c"
   },
   "outputs": [
    {
     "name": "stdout",
     "output_type": "stream",
     "text": [
      "[4, 2, 9, 4, 3]\n"
     ]
    }
   ],
   "source": [
    "from random import randint\n",
    "a = [randint(1, 9) for i in range(5)]\n",
    "print(a)"
   ]
  },
  {
   "cell_type": "markdown",
   "metadata": {
    "id": "OnYVNoZkwPRt"
   },
   "source": [
    "А в этом примере список будет состоять из строк, считанных со стандартного ввода: сначала нужно ввести число элементов списка (это значение будет использовано в качестве аргумента функции range), потом — заданное количество строк:"
   ]
  },
  {
   "cell_type": "code",
   "execution_count": 40,
   "metadata": {
    "colab": {
     "base_uri": "https://localhost:8080/"
    },
    "id": "uUjlU4gPoOmH",
    "outputId": "63e5885f-2ab5-4ff8-a34f-1c0ff6456127"
   },
   "outputs": [
    {
     "name": "stdout",
     "output_type": "stream",
     "text": [
      "3\n",
      "1\n",
      "2\n",
      "3\n",
      "['1', '2', '3']\n"
     ]
    }
   ],
   "source": [
    "a = [input() for i in range(int(input()))]\n",
    "print(a)"
   ]
  },
  {
   "cell_type": "markdown",
   "metadata": {
    "id": "_u2jlp2twWDX"
   },
   "source": [
    "### Создать список квадратов целых нечетных чисел (способ 1)"
   ]
  },
  {
   "cell_type": "code",
   "execution_count": null,
   "metadata": {
    "id": "WDI6crPFph4H"
   },
   "outputs": [],
   "source": [
    "a = []\n",
    "for i in range(10):\n",
    "  if i % 2 != 0:\n",
    "    a.append(i ** 2)\n",
    "print(a)"
   ]
  },
  {
   "cell_type": "markdown",
   "metadata": {
    "id": "9yJ6c-t8wZvZ"
   },
   "source": [
    "### Тот же пример, но с использованием списочного выражения (способ 2):"
   ]
  },
  {
   "cell_type": "code",
   "execution_count": null,
   "metadata": {
    "id": "cvz354i2o_VP"
   },
   "outputs": [],
   "source": [
    "a = [i ** 2 for i in range(10) if i % 2 != 0]\n",
    "print(a)"
   ]
  },
  {
   "cell_type": "markdown",
   "metadata": {
    "id": "XgAadBOjwxCv"
   },
   "source": [
    "### Пример 5.\n",
    "Найдем номер последнего вхождения числа 3 в список [1, 2, 3, 4, 3, 6, 3, 7]\n",
    "\n"
   ]
  },
  {
   "cell_type": "code",
   "execution_count": 42,
   "metadata": {
    "colab": {
     "base_uri": "https://localhost:8080/"
    },
    "id": "VFSg16UNw10j",
    "outputId": "30b40ff9-2793-44a3-f2df-0075740fa62d"
   },
   "outputs": [
    {
     "name": "stdout",
     "output_type": "stream",
     "text": [
      "6\n"
     ]
    }
   ],
   "source": [
    "a = [1, 2, 3, 4, 3, 6, 3, 7]\n",
    "a_end = a.copy() # не используем присваивание, так как это создает новый указатель на список, а не физическую копию!\n",
    "a_end.reverse()\n",
    "i = a_end.index(3)\n",
    "i = len(a) - i - 1\n",
    "print(i)"
   ]
  },
  {
   "cell_type": "markdown",
   "metadata": {
    "id": "6y25-Bzgmc_x"
   },
   "source": [
    "### Пример 6. \n",
    "Составим список из НОД натуральных чисел от 2 до 6 включительно, первое число меньше второго. Элементами списка будут списки, состоящие из чисел и их НОД."
   ]
  },
  {
   "cell_type": "code",
   "execution_count": 43,
   "metadata": {
    "id": "G_QL7WfHrJPB"
   },
   "outputs": [],
   "source": [
    "from math import gcd"
   ]
  },
  {
   "cell_type": "code",
   "execution_count": 51,
   "metadata": {
    "colab": {
     "base_uri": "https://localhost:8080/"
    },
    "id": "gn3LDyubnNMp",
    "outputId": "be5536ca-c660-47df-d2b2-c3047dee1ddd"
   },
   "outputs": [
    {
     "data": {
      "text/plain": [
       "[[2, 3, 1],\n",
       " [2, 4, 2],\n",
       " [2, 5, 1],\n",
       " [2, 6, 2],\n",
       " [3, 4, 1],\n",
       " [3, 5, 1],\n",
       " [3, 6, 3],\n",
       " [4, 5, 1],\n",
       " [4, 6, 2],\n",
       " [5, 6, 1]]"
      ]
     },
     "execution_count": 51,
     "metadata": {},
     "output_type": "execute_result"
    }
   ],
   "source": [
    "gcd_2_6 = [[i, j, gcd(i, j)] for i in range(2, 7) for j in range(i + 1, 7)]\n",
    "gcd_2_6"
   ]
  },
  {
   "cell_type": "markdown",
   "metadata": {
    "id": "KwE5TURanelg"
   },
   "source": [
    "### Пример 7.\n",
    "Добавим в список gcd_2_6 элемент [5, 7], затем найдем номер вхождения [3, 6] и удалим этот элемент."
   ]
  },
  {
   "cell_type": "code",
   "execution_count": 52,
   "metadata": {
    "colab": {
     "base_uri": "https://localhost:8080/"
    },
    "id": "koWAXGC7OMCC",
    "outputId": "b6a57f31-26a2-4fab-d0c4-e8c87ae0700a",
    "scrolled": false
   },
   "outputs": [
    {
     "name": "stdout",
     "output_type": "stream",
     "text": [
      "6\n"
     ]
    },
    {
     "data": {
      "text/plain": [
       "[[2, 3, 1],\n",
       " [2, 4, 2],\n",
       " [2, 5, 1],\n",
       " [2, 6, 2],\n",
       " [3, 4, 1],\n",
       " [3, 5, 1],\n",
       " [4, 5, 1],\n",
       " [4, 6, 2],\n",
       " [5, 6, 1],\n",
       " [5, 7, 1]]"
      ]
     },
     "execution_count": 52,
     "metadata": {},
     "output_type": "execute_result"
    }
   ],
   "source": [
    "gcd_2_6.append([5, 7, gcd(5, 7)])\n",
    "i = gcd_2_6.index([3, 6, gcd(3, 6)])\n",
    "print(i)\n",
    "del gcd_2_6[i]\n",
    "gcd_2_6"
   ]
  },
  {
   "cell_type": "code",
   "execution_count": null,
   "metadata": {},
   "outputs": [],
   "source": []
  },
  {
   "cell_type": "code",
   "execution_count": 2,
   "metadata": {
    "ExecuteTime": {
     "end_time": "2023-02-07T09:06:16.476728Z",
     "start_time": "2023-02-07T09:06:14.758826Z"
    },
    "scrolled": true
   },
   "outputs": [
    {
     "name": "stdout",
     "output_type": "stream",
     "text": [
      "У меня живет кошка, кошка милая, игривая и очень пушистая. Мы забрали кошку из приюта, когда кошке было 3 месяца. Любимая игра кошки - запрыгивать на шкаф.\n",
      "У меня живет Алёнка, Алёнка милая, игривая и очень пушистая. Мы забрали Алёнку из приюта, когда Алёнке было 3 месяца. Любимая игра Алёнки - запрыгивать на шкаф.\n"
     ]
    }
   ],
   "source": [
    "s = input()\n",
    "\"\"\"\n",
    "    Заметим, что и \"кошка\", и \"Алёнка\" - существительные женского рода первого числа с одинаковыми окончаниями,\n",
    "    поэтому падежные окончания во всех падежах у них будут одинаковы, то есть можно просто заменить \"корни\" этих слов\n",
    "\"\"\"\n",
    "s = s.replace('кошк', 'Алёнк')\n",
    "print(s)"
   ]
  },
  {
   "cell_type": "code",
   "execution_count": 10,
   "metadata": {
    "ExecuteTime": {
     "end_time": "2023-02-07T09:30:31.103769Z",
     "start_time": "2023-02-07T09:30:30.299254Z"
    }
   },
   "outputs": [
    {
     "name": "stdout",
     "output_type": "stream",
     "text": [
      "14a5+4zzz+175boom5+1024=0\n",
      "['a5', 'zzz', 'boom5']\n"
     ]
    }
   ],
   "source": [
    "s = input()\n",
    "eq = s.split('+')\n",
    "del(eq[len(eq)-1])\n",
    "ans = []\n",
    "for a in eq:\n",
    "    for i in range(len(a)):\n",
    "        if a[i].isalpha():\n",
    "            ans.append(a[i:])\n",
    "            break\n",
    "print(ans)"
   ]
  },
  {
   "cell_type": "code",
   "execution_count": 11,
   "metadata": {
    "ExecuteTime": {
     "end_time": "2023-02-07T10:00:55.287960Z",
     "start_time": "2023-02-07T10:00:54.702594Z"
    }
   },
   "outputs": [
    {
     "name": "stdout",
     "output_type": "stream",
     "text": [
      "BACBBCAAABAABBCBCCABACCAAABCCBACACBCCCBBCACBACBBABBAACCABAACCBACABCCA\n",
      "3\n"
     ]
    }
   ],
   "source": [
    "s = input()\n",
    "maximum = 0\n",
    "tmp = 0\n",
    "for i in range(len(s)):\n",
    "    if s[i] == 'C':\n",
    "        tmp += 1\n",
    "        maximum = max(maximum, tmp)\n",
    "    else:\n",
    "        tmp = 0\n",
    "print(maximum)"
   ]
  },
  {
   "cell_type": "code",
   "execution_count": null,
   "metadata": {},
   "outputs": [],
   "source": [
    "s = input()\n",
    "c = 'C'\n",
    "while c in s:  # ищем CC, потом CCC и т.д\n",
    "    c += 'C'\n",
    "print(len(c) - 1)  # минус 1, чтобы убрать лишнюю (последнюю добавленную С)"
   ]
  },
  {
   "cell_type": "code",
   "execution_count": null,
   "metadata": {},
   "outputs": [],
   "source": [
    "s = input()\n",
    "maximum = 0\n",
    "tmp = 0\n",
    "for i in range(len(s)):\n",
    "    if s[i] in 'BCDF':\n",
    "        tmp += 1\n",
    "        maximum = max(maximum, tmp)\n",
    "    else:\n",
    "        tmp = 0\n",
    "print(maximum)"
   ]
  },
  {
   "cell_type": "code",
   "execution_count": 12,
   "metadata": {
    "ExecuteTime": {
     "end_time": "2023-02-07T10:14:00.405733Z",
     "start_time": "2023-02-07T10:13:51.066700Z"
    }
   },
   "outputs": [
    {
     "name": "stdout",
     "output_type": "stream",
     "text": [
      "Москва\n",
      "Архангельск\n",
      "Тула\\\n",
      "Тула\\\n"
     ]
    }
   ],
   "source": [
    "s1 = input()\n",
    "s2 = input()\n",
    "while s1[-1].lower() == s2[0].lower():\n",
    "    s1 = s2\n",
    "    s2 = input()\n",
    "print(s2)"
   ]
  },
  {
   "cell_type": "code",
   "execution_count": 16,
   "metadata": {
    "ExecuteTime": {
     "end_time": "2023-02-07T10:32:57.647503Z",
     "start_time": "2023-02-07T10:32:45.209147Z"
    }
   },
   "outputs": [
    {
     "name": "stdout",
     "output_type": "stream",
     "text": [
      "6\n",
      "Москва\n",
      "Калуга\n",
      "Орск\n",
      "Орск\n",
      "Омск\n",
      "Омск\n",
      "4\n"
     ]
    }
   ],
   "source": [
    "sities = [input() for i in range(int(input()))]\n",
    "count = 0\n",
    "for i in sities:\n",
    "    if sities.count(i) > 1:\n",
    "        count += 1\n",
    "print(count)"
   ]
  },
  {
   "cell_type": "code",
   "execution_count": null,
   "metadata": {},
   "outputs": [],
   "source": []
  }
 ],
 "metadata": {
  "colab": {
   "provenance": []
  },
  "kernelspec": {
   "display_name": "Python 3 (ipykernel)",
   "language": "python",
   "name": "python3"
  },
  "language_info": {
   "codemirror_mode": {
    "name": "ipython",
    "version": 3
   },
   "file_extension": ".py",
   "mimetype": "text/x-python",
   "name": "python",
   "nbconvert_exporter": "python",
   "pygments_lexer": "ipython3",
   "version": "3.11.0"
  },
  "latex_envs": {
   "LaTeX_envs_menu_present": true,
   "autoclose": false,
   "autocomplete": true,
   "bibliofile": "biblio.bib",
   "cite_by": "apalike",
   "current_citInitial": 1,
   "eqLabelWithNumbers": true,
   "eqNumInitial": 1,
   "hotkeys": {
    "equation": "Ctrl-E",
    "itemize": "Ctrl-I"
   },
   "labels_anchors": false,
   "latex_user_defs": false,
   "report_style_numbering": false,
   "user_envs_cfg": false
  }
 },
 "nbformat": 4,
 "nbformat_minor": 1
}
