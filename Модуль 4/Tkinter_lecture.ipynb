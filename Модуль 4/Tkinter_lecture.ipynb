{
 "cells": [
  {
   "attachments": {},
   "cell_type": "markdown",
   "metadata": {},
   "source": [
    "# 0. Мотивация\n",
    "\n",
    "Графические интерфейсы - круто и прикольно, не всем удобно работать в консоли. Попробовать самостоятельно реализовать что-то подобное - весело\n"
   ]
  },
  {
   "attachments": {},
   "cell_type": "markdown",
   "metadata": {},
   "source": [
    "# 1. Фреймворки\n",
    "\n",
    "Перечислить наиболее популярные, преимущества и недостатки (кроссплатформенность, удобство разработки, поддержка комьюнити, etc)\n",
    "\n",
    "`Tkinter` не увеличивает список зависимостей нашего проекта и по стандарту идёт вместе с python, что является преимуществом. Плюс он довольно простой в использовании, хотя и выглядит... плохо."
   ]
  },
  {
   "attachments": {},
   "cell_type": "markdown",
   "metadata": {},
   "source": [
    "# 2. Виджеты\n",
    "\n",
    "Все, что мы будем располагать в нашем GUI является *виджетом*\n",
    "\n",
    "Базовый виджет - экземпляр класса `Tk`. В самых простых интерфейсах будем располагать всё на нём. \n",
    "\n",
    "`root.title(str)` - задать название приложению\n",
    "\n",
    "`root.geometry(\"axb+c+d\")` - создать окно a на b в координатах (c; d) относительно левого верхнего угла экрана"
   ]
  },
  {
   "cell_type": "code",
   "execution_count": null,
   "metadata": {},
   "outputs": [],
   "source": [
    "import tkinter as tk\n",
    "\n",
    "root = tk.Tk()\n",
    "root.title(\"First GUI\")\n",
    "root.geometry(\"500x700+900+150\")"
   ]
  },
  {
   "attachments": {},
   "cell_type": "markdown",
   "metadata": {},
   "source": [
    "## 2.0 Способы расположить элементы\n",
    "\n",
    "Далее мы будем создавать различные виджеты, но создать экземпляр класса и расположить (дать команду отобразить) его на нашем окне GUI - разные вещи. Поэтому для каждого виджета будем вызывать метод, который и будет его отображать. Варианта у нас три:\n"
   ]
  },
  {
   "attachments": {},
   "cell_type": "markdown",
   "metadata": {},
   "source": [
    "### 2.0.1 `place(x=, y=)`\n",
    "\n",
    "Относительно левого верхнего угла приложения размещает виджет по координатам (x; y). Привязка происходит к одной конкретной точке, что может быть неудобно (современные интерфейсы работают иначе)\n"
   ]
  },
  {
   "attachments": {},
   "cell_type": "markdown",
   "metadata": {},
   "source": [
    "### 2.0.2 `grid(row=, column=)`\n",
    "\n",
    "Grid с англ. - сетка, собственно по сетке элементы и размещает. \n",
    "\n",
    "Достаточно указать ряд и колонку, и все отобразится. Удобно, когда необходимо аккуратно по сетке расположить несколько однотипных элементов (самый простой пример - калькулятор с его кнопками).\n",
    "\n",
    "Обычно используется не на основном окне (`Tk()`), а на объектах типа `Frame`.\n",
    "\n",
    "*Замечание*: если у один объект расположить с параметрами row=1, column=0, а второй с параметрами row=999, column=0, то они все равно будут ровно друг под другом, то есть разность чисел роли не играет, важен лишь относительный порядок."
   ]
  },
  {
   "cell_type": "code",
   "execution_count": null,
   "metadata": {},
   "outputs": [],
   "source": [
    "buttonframe = tk.Frame(root, background=\"grey\")\n",
    "buttonframe.columnconfigure(0, weight=1)\n",
    "buttonframe.columnconfigure(1, weight=2)\n",
    "buttonframe.columnconfigure(2, weight=1)\n",
    "\n",
    "btn1 = tk.Button(buttonframe, text=\"Button 1\")\n",
    "btn1.grid(row=0, column=0, sticky=tk.W + tk.E)\n",
    "btn2 = tk.Button(buttonframe, text=\"Button 2\")\n",
    "btn2.grid(row=0, column=1, sticky=tk.W + tk.E)\n",
    "btn3 = tk.Button(buttonframe, text=\"Button 3\")\n",
    "btn3.grid(row=0, column=2, sticky=tk.W + tk.E)\n",
    "btn4 = tk.Button(buttonframe, text=\"Button 4\")\n",
    "btn4.grid(row=1, column=0, sticky=tk.W + tk.E)\n",
    "btn5 = tk.Button(buttonframe, text=\"Button 5\")\n",
    "btn5.grid(row=1, column=1, sticky=tk.W + tk.E)\n",
    "btn6 = tk.Button(buttonframe, text=\"Button 6\")\n",
    "btn6.grid(row=1, column=2, sticky=tk.W + tk.E)\n",
    "\n",
    "buttonframe.pack(fill=\"both\")"
   ]
  },
  {
   "attachments": {},
   "cell_type": "markdown",
   "metadata": {},
   "source": [
    "\n",
    "### 2.0.3 `pack(padx=, pady=)`\n",
    "\n",
    "Один из самых удобных способов. Располагает виджет по центру окна с сохранением этой позиции (то есть при растяжениях и сжатиях элемент все равно будет находиться по центру, в отличие от `place`).\n",
    "\n",
    "Параметры `padx` и `pady` задают \"рамки\" относительно границ окна, которые всегда будут свободны (проще посжимать окно и понять, как работает, чем объяснять словами)"
   ]
  },
  {
   "attachments": {},
   "cell_type": "markdown",
   "metadata": {},
   "source": [
    "## 2.1 Label\n",
    "\n",
    "Обычный текст.\n",
    "\n",
    "Полезные параметры: `font` - шрифт (рекомендую использовать экземпляр класса `Font` из `tkinter.font`, но можно задать и строкой/кортежем), `foreground` и `background` - цвета (указываются в виде строк - английских названий цветов) текста и бэкграунда."
   ]
  },
  {
   "cell_type": "code",
   "execution_count": null,
   "metadata": {},
   "outputs": [],
   "source": [
    "base_label = tk.Label(root, text=\"Hello World\")\n",
    "base_label.pack(padx=10, pady=10)\n",
    "\n",
    "my_label = tk.Label(\n",
    "    root,\n",
    "    text=\"Hello World\",\n",
    "    font=(\"Arial\", 20, \"bold\"),\n",
    "    foreground=\"red\",\n",
    "    background=\"grey\",\n",
    ")\n",
    "my_label.pack(padx=10, pady=10)"
   ]
  },
  {
   "attachments": {},
   "cell_type": "markdown",
   "metadata": {},
   "source": [
    "## 2.2 Text\n",
    "\n",
    "Текстбокс заданной высоты и ширины. Обычное поле для ввода текста. Нажатие Enter переносит строку, скроллить можно бесконечно.\n",
    "\n",
    "Полезные параметры: лучше всегда задавать ширину (`width`) и высоту (`height`, количество строк, которое отображается), шрифт `font` задается по тем же правилам, что и ранее. Аналогично же работают `background` и `foreground` - задают цвета текста и бэкграунда. `selectbackground` и `selectforeground` отвечают за те же цвета, но только когда текст выделен.\n",
    "\n",
    "можно использовать метод `focus`, чтобы при запуске приложения можно было сразу набирать текст."
   ]
  },
  {
   "cell_type": "code",
   "execution_count": null,
   "metadata": {},
   "outputs": [],
   "source": [
    "textbox = tk.Text(root, height=2, width=20, font=\"Arial 20 italic\", fg=\"blue\", bg=\"red\", selectbackground=\"blue\", selectforeground=\"red\")\n",
    "textbox.pack()\n",
    "textbox.focus()"
   ]
  },
  {
   "attachments": {},
   "cell_type": "markdown",
   "metadata": {},
   "source": [
    "## 2.3 Entry\n",
    "\n",
    "Тоже поле для текста, но состоящее только из одной строки без возможности переноса нажатием Enter. Все знакомы с этим виджетом, потому что он повсеместно: ввод логина/пароля или любых данных - это ввод именно в `Entry`.\n",
    "\n",
    "Параметры текста аналогичны `Text`, больше нет высоты. Добавился параметр `show`, в который можно передать строку, например, чтобы вместо пароля при вводе отображались звездочки. "
   ]
  },
  {
   "cell_type": "code",
   "execution_count": null,
   "metadata": {},
   "outputs": [],
   "source": [
    "login_entry = tk.Entry(root, font=(\"Arial\", 20), selectbackground=\"red\", selectforeground=\"green\")\n",
    "login_entry.pack(padx=10, pady=10)\n",
    "\n",
    "psw_entry = tk.Entry(\n",
    "    root,\n",
    "    font=(\"Arial\", 20),\n",
    "    show=\"*\",\n",
    ")\n",
    "psw_entry.pack(padx=10, pady=10)"
   ]
  },
  {
   "attachments": {},
   "cell_type": "markdown",
   "metadata": {},
   "source": [
    "У `Entry` есть метод `get`, позволяющий получить введенные данные в виде строки. Примеры см. где-то в файлах с кодом"
   ]
  },
  {
   "attachments": {},
   "cell_type": "markdown",
   "metadata": {},
   "source": [
    "## 2.4 Button"
   ]
  },
  {
   "attachments": {},
   "cell_type": "markdown",
   "metadata": {},
   "source": [
    "Теперь самое веселое - кнопки. Кнопка - область в графическом интерфейсе, которая предназначена для регистрации нажатий. \n",
    "\n",
    "Параметры текста и шрифта аналогичны прошлым виджетам, добавить могу только про параметры `activeforeground` и `activebackground` - это цвета кнопки и текста на ней в момент, когда она нажата.\n",
    "\n",
    "Естественно, тыкаем мы на кнопки ради того, чтобы что-то произошло. Для этого нужно отправить *ссылку на функцию* в параметр `command`. Функция, которую мы отправляем, и определяет функционал нашей кнопки."
   ]
  },
  {
   "cell_type": "code",
   "execution_count": null,
   "metadata": {},
   "outputs": [],
   "source": [
    "def click_button():\n",
    "    print(\"Button clicked\")\n",
    "\n",
    "my_button = tk.Button(\n",
    "    root,\n",
    "    text=\"PRESS\",\n",
    "    font=some_font,\n",
    "    bg=\"pink\",\n",
    "    fg=\"grey\",\n",
    "    activebackground=\"blue\",\n",
    "    activeforeground=\"red\",\n",
    "    command=click_button,\n",
    ")\n",
    "my_button.pack(padx=10, pady=10)\n"
   ]
  },
  {
   "attachments": {},
   "cell_type": "markdown",
   "metadata": {},
   "source": [
    "## 2.5 Checkbutton"
   ]
  },
  {
   "attachments": {},
   "cell_type": "markdown",
   "metadata": {},
   "source": [
    "## 2.6 Метод bind и хоткеи"
   ]
  },
  {
   "attachments": {},
   "cell_type": "markdown",
   "metadata": {},
   "source": [
    "## Et cetera\n",
    "\n",
    "Radiobutton, Canvas, working with images"
   ]
  },
  {
   "attachments": {},
   "cell_type": "markdown",
   "metadata": {},
   "source": [
    "# Ссылки\n",
    "\n",
    "https://www.pythonguis.com/tutorials/python-classes/\n",
    "\n",
    "https://softwareengineering.stackexchange.com/questions/213935/why-use-classes-when-programming-a-tkinter-gui-in-python\n",
    "\n",
    "https://edu.anarcho-copy.org/Programming%20Languages/Python/tkinter-gui-programming-example.pdf\n"
   ]
  }
 ],
 "metadata": {
  "kernelspec": {
   "display_name": "Python 3",
   "language": "python",
   "name": "python3"
  },
  "language_info": {
   "codemirror_mode": {
    "name": "ipython",
    "version": 3
   },
   "file_extension": ".py",
   "mimetype": "text/x-python",
   "name": "python",
   "nbconvert_exporter": "python",
   "pygments_lexer": "ipython3",
   "version": "3.11.3"
  },
  "orig_nbformat": 4
 },
 "nbformat": 4,
 "nbformat_minor": 2
}
