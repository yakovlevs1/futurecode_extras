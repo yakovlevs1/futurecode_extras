{
 "cells": [
  {
   "cell_type": "markdown",
   "metadata": {},
   "source": [
    "# Занятие 2. Конструкции управления потоком: условия"
   ]
  },
  {
   "cell_type": "markdown",
   "metadata": {},
   "source": [
    "## if - проверка условия"
   ]
  },
  {
   "cell_type": "markdown",
   "metadata": {},
   "source": [
    "Условный оператор используется, когда некая часть программы должна быть выполнена, только если верно какое-либо условие. Для записи условного оператора используются ключевые слова if и else («если», «иначе»), двоеточие и  отступ в четыре пробела."
   ]
  },
  {
   "cell_type": "code",
   "execution_count": 9,
   "metadata": {
    "ExecuteTime": {
     "end_time": "2022-11-17T13:11:39.054684Z",
     "start_time": "2022-11-17T13:11:38.005189Z"
    }
   },
   "outputs": [
    {
     "name": "stdout",
     "output_type": "stream",
     "text": [
      "3\n",
      "конец\n"
     ]
    }
   ],
   "source": [
    "n = int(input())\n",
    "if n % 2 == 0:\n",
    "    print('четное')\n",
    "print('конец')"
   ]
  },
  {
   "cell_type": "code",
   "execution_count": 12,
   "metadata": {
    "ExecuteTime": {
     "end_time": "2022-11-17T13:13:07.890713Z",
     "start_time": "2022-11-17T13:13:06.840413Z"
    }
   },
   "outputs": [
    {
     "name": "stdout",
     "output_type": "stream",
     "text": [
      "3\n",
      "нечетное\n",
      "Конец\n"
     ]
    }
   ],
   "source": [
    "n = int(input())\n",
    "if n % 2 == 0:\n",
    "    print('четное')\n",
    "    if n == 10:\n",
    "        print(10)\n",
    "else:\n",
    "    print('нечетное')\n",
    "\n",
    "print('Конец')"
   ]
  },
  {
   "cell_type": "code",
   "execution_count": 14,
   "metadata": {
    "ExecuteTime": {
     "end_time": "2022-11-17T13:15:49.077602Z",
     "start_time": "2022-11-17T13:15:49.075536Z"
    }
   },
   "outputs": [
    {
     "name": "stdout",
     "output_type": "stream",
     "text": [
      "Условие выполнено!\n"
     ]
    }
   ],
   "source": [
    "company = \"my.com\"\n",
    "\n",
    "if \"my\" in company:\n",
    "    print(\"Условие выполнено!\")"
   ]
  },
  {
   "cell_type": "markdown",
   "metadata": {},
   "source": [
    "Команда in позволяет проверить, что одна строка находится внутри другой. В таком случае обычно говорят, что одна строка является подстрокой для другой."
   ]
  },
  {
   "cell_type": "code",
   "execution_count": 15,
   "metadata": {
    "ExecuteTime": {
     "end_time": "2022-11-17T13:17:23.308311Z",
     "start_time": "2022-11-17T13:17:23.306250Z"
    }
   },
   "outputs": [
    {
     "name": "stdout",
     "output_type": "stream",
     "text": [
      "Условие выполнено!\n"
     ]
    }
   ],
   "source": [
    "company = \"example.net\"\n",
    "\n",
    "if \"my\" in company or company.endswith(\".net\"):\n",
    "    print(\"Условие выполнено!\")"
   ]
  },
  {
   "cell_type": "markdown",
   "metadata": {},
   "source": [
    "## if - else "
   ]
  },
  {
   "cell_type": "markdown",
   "metadata": {},
   "source": [
    "Оператор else позволяет выполнить какой-либо код, если условие в блоке if не выполнилось:"
   ]
  },
  {
   "cell_type": "code",
   "execution_count": 3,
   "metadata": {},
   "outputs": [
    {
     "name": "stdout",
     "output_type": "stream",
     "text": [
      "Условие не выполнено!\n"
     ]
    }
   ],
   "source": [
    "company = \"google.com\"\n",
    "\n",
    "if \"my\" in company:\n",
    "    print(\"Условие выполнено!\")\n",
    "else:\n",
    "    print(\"Условие не выполнено!\")"
   ]
  },
  {
   "cell_type": "markdown",
   "metadata": {},
   "source": [
    "## if - elif - else"
   ]
  },
  {
   "cell_type": "markdown",
   "metadata": {},
   "source": [
    "Оператор elif используется, когда нужно проверить несколько разных условий друг за другом:    "
   ]
  },
  {
   "cell_type": "markdown",
   "metadata": {},
   "source": [
    "elif — это короткая запись для «else: if». Если не пользоваться короткой записью, if пришлось бы писать на отдельной строчке и с отступом (а все, что внутри этого if, — с дополнительным отступом). Это не очень удобно, и elif избавляет от такой необходимости."
   ]
  },
  {
   "cell_type": "code",
   "execution_count": 18,
   "metadata": {
    "ExecuteTime": {
     "end_time": "2022-11-17T13:19:47.540322Z",
     "start_time": "2022-11-17T13:19:47.537248Z"
    }
   },
   "outputs": [
    {
     "name": "stdout",
     "output_type": "stream",
     "text": [
      "Подстрока не найдена\n",
      "Подстрока не найдена\n"
     ]
    }
   ],
   "source": [
    "company = \"goole.com\"\n",
    "\n",
    "if \"my\" in company:\n",
    "    print(\"Подстрока my найдена\")\n",
    "elif \"google\" in company:\n",
    "    print(\"Подстрока google найдена\")\n",
    "else:\n",
    "    print(\"Подстрока не найдена\")\n",
    "\n",
    "#классика\n",
    "if \"my\" in company:\n",
    "    print(\"Подстрока my найдена\")\n",
    "else:\n",
    "    if \"google\" in company:\n",
    "        print(\"Подстрока google найдена\")\n",
    "    else:\n",
    "        print(\"Подстрока не найдена\")"
   ]
  },
  {
   "cell_type": "markdown",
   "metadata": {},
   "source": [
    "## Аналог тернарного оператора"
   ]
  },
  {
   "cell_type": "code",
   "execution_count": 5,
   "metadata": {},
   "outputs": [
    {
     "name": "stdout",
     "output_type": "stream",
     "text": [
      "Argentina\n"
     ]
    }
   ],
   "source": [
    "score_1 = 5\n",
    "score_2 = 0\n",
    "\n",
    "if score_1 > score_2:\n",
    "    winner = \"Argentina\"\n",
    "elif score_1 == score_2:\n",
    "    winner = 'Ничья'\n",
    "else:\n",
    "    winner = \"Jamaica\"\n",
    "\n",
    "winner = \"Argentina\" if score_1 > score_2 else \"Jamaica\"\n",
    "\n",
    "print(winner)"
   ]
  },
  {
   "cell_type": "markdown",
   "metadata": {},
   "source": [
    "## Применение на практике"
   ]
  },
  {
   "cell_type": "code",
   "execution_count": null,
   "metadata": {},
   "outputs": [],
   "source": [
    "import random\n",
    "\n",
    "number = random.randint(0, 100)\n",
    "\n",
    "while True:\n",
    "    answer = input('Угадайте число: ')\n",
    "    if answer == \"\" or answer == \"exit\":\n",
    "        print(\"Выход из программы\")\n",
    "        break\n",
    "\n",
    "    answer = int(answer)\n",
    "    \n",
    "    if answer == number:\n",
    "        print('Верно!')\n",
    "        break\n",
    "\n",
    "    elif answer < number:\n",
    "        print('Загаданное число больше')\n",
    "    else:\n",
    "        print('Загаданное число меньше')"
   ]
  },
  {
   "cell_type": "code",
   "execution_count": 7,
   "metadata": {
    "ExecuteTime": {
     "end_time": "2022-11-16T12:38:40.755920Z",
     "start_time": "2022-11-16T12:38:38.694431Z"
    }
   },
   "outputs": [
    {
     "name": "stdout",
     "output_type": "stream",
     "text": [
      "5\n",
      "5\n",
      "Оба щенка весит 5 килограмм\n"
     ]
    }
   ],
   "source": [
    "A = int(input())\n",
    "B = int(input())\n",
    "if A > B:\n",
    "    print('Бобик')\n",
    "elif A == B:\n",
    "    print('Оба щенка весит', A, 'килограмм')\n",
    "else:\n",
    "    print('Тузик')"
   ]
  },
  {
   "cell_type": "code",
   "execution_count": 8,
   "metadata": {
    "ExecuteTime": {
     "end_time": "2022-11-16T13:08:56.957878Z",
     "start_time": "2022-11-16T13:08:52.804807Z"
    }
   },
   "outputs": [
    {
     "name": "stdout",
     "output_type": "stream",
     "text": [
      "клавиатура\n",
      "ДА\n"
     ]
    }
   ],
   "source": [
    "s = input()\n",
    "if len(s) % 2 == 0 and len(s) >= 10:\n",
    "    print('ДА')\n",
    "else:\n",
    "    print('НЕТ')"
   ]
  },
  {
   "cell_type": "code",
   "execution_count": 33,
   "metadata": {
    "ExecuteTime": {
     "end_time": "2022-11-17T15:10:32.252908Z",
     "start_time": "2022-11-17T15:10:31.473317Z"
    }
   },
   "outputs": [
    {
     "name": "stdout",
     "output_type": "stream",
     "text": [
      "13\n",
      "бита\n"
     ]
    }
   ],
   "source": [
    "n = int(input())\n",
    "l = n % 10\n",
    "if l == 1:\n",
    "    if n % 100 == 11:\n",
    "        print('битов')\n",
    "    else:\n",
    "        print('бит')\n",
    "elif l == 2 or l == 3 or l == 4:\n",
    "    if n % 100 == 12 or n % 100 == 13 or n % 100 == 14:\n",
    "        print('битов')\n",
    "    else:\n",
    "        print('бита')\n",
    "elif l == 5 or l == 6 or l == 7 or l == 8 or l == 9 or l == 0:\n",
    "    print('битов')"
   ]
  },
  {
   "cell_type": "code",
   "execution_count": 11,
   "metadata": {
    "ExecuteTime": {
     "end_time": "2022-11-16T13:15:26.672475Z",
     "start_time": "2022-11-16T13:15:24.117593Z"
    }
   },
   "outputs": [
    {
     "name": "stdout",
     "output_type": "stream",
     "text": [
      "Программирование\n"
     ]
    }
   ],
   "source": [
    "s = input()\n",
    "if s == \"Информатика\" or s == \"Программирование\":\n",
    "    pass\n",
    "else:\n",
    "    print('Куплена')"
   ]
  },
  {
   "cell_type": "markdown",
   "metadata": {},
   "source": [
    "Заканчивается на 5, 6, 7, 8, 9, 0 -> битов\n",
    "\n",
    "Заканчивается на 1, кроме 11 -> бит\n",
    "\n",
    "Заканчивается на 2, 3, 4, кроме 12, 13, 14 -> бита\n"
   ]
  },
  {
   "cell_type": "code",
   "execution_count": 17,
   "metadata": {
    "ExecuteTime": {
     "end_time": "2022-11-16T14:14:31.252251Z",
     "start_time": "2022-11-16T14:14:30.503780Z"
    },
    "scrolled": true
   },
   "outputs": [
    {
     "name": "stdout",
     "output_type": "stream",
     "text": [
      "12\n",
      "битов\n"
     ]
    }
   ],
   "source": [
    "n = int(input())\n",
    "last_one = n % 10\n",
    "last_two = n % 100\n",
    "if last_two == 11 or last_two == 12 or last_two == 13 or last_two == 14:\n",
    "    print('битов')\n",
    "elif last_one == 1:\n",
    "    print('бит')\n",
    "elif (last_one == 2 or last_one == 3 or last_one == 4):\n",
    "    print('бита')\n",
    "else:\n",
    "    print('битов')"
   ]
  },
  {
   "cell_type": "code",
   "execution_count": 36,
   "metadata": {
    "ExecuteTime": {
     "end_time": "2022-11-17T15:20:35.459544Z",
     "start_time": "2022-11-17T15:20:34.919686Z"
    }
   },
   "outputs": [
    {
     "name": "stdout",
     "output_type": "stream",
     "text": [
      "31\n",
      "бит\n"
     ]
    }
   ],
   "source": [
    "n = int(input())\n",
    "last_one = n % 10\n",
    "last_two = n % 100\n",
    "if last_two in [11, 12, 13, 14]:\n",
    "    print('битов')\n",
    "elif last_one in [5, 6, 7, 8, 9, 0]:\n",
    "    print('битов')\n",
    "elif last_one in [2, 3, 4]:\n",
    "    print('бита')\n",
    "else:\n",
    "    print('бит')"
   ]
  },
  {
   "cell_type": "code",
   "execution_count": null,
   "metadata": {},
   "outputs": [],
   "source": []
  }
 ],
 "metadata": {
  "kernelspec": {
   "display_name": "Python 3 (ipykernel)",
   "language": "python",
   "name": "python3"
  },
  "language_info": {
   "codemirror_mode": {
    "name": "ipython",
    "version": 3
   },
   "file_extension": ".py",
   "mimetype": "text/x-python",
   "name": "python",
   "nbconvert_exporter": "python",
   "pygments_lexer": "ipython3",
   "version": "3.11.0"
  },
  "latex_envs": {
   "LaTeX_envs_menu_present": true,
   "autoclose": false,
   "autocomplete": true,
   "bibliofile": "biblio.bib",
   "cite_by": "apalike",
   "current_citInitial": 1,
   "eqLabelWithNumbers": true,
   "eqNumInitial": 1,
   "hotkeys": {
    "equation": "Ctrl-E",
    "itemize": "Ctrl-I"
   },
   "labels_anchors": false,
   "latex_user_defs": false,
   "report_style_numbering": false,
   "user_envs_cfg": false
  }
 },
 "nbformat": 4,
 "nbformat_minor": 4
}
