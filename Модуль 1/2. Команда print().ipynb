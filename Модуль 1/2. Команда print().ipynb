{
 "cells": [
  {
   "cell_type": "markdown",
   "metadata": {},
   "source": [
    "# Занятие 2. Команда print()"
   ]
  },
  {
   "cell_type": "markdown",
   "metadata": {},
   "source": [
    "## 1. Команда print()"
   ]
  },
  {
   "cell_type": "markdown",
   "metadata": {},
   "source": [
    "Для вывода на экран используется функция print().<br> \n",
    "Внутри круглых скобок через запятую указывается то, что необходимо вывести на экран. Если это текст, обрамляем его кавычками - одинарными, или двойными. Главное, чтобы текст начинался и заканчивался кавычками одного типа. Команда <b>print</b> записывается только строчными буквами, другое написание недопустимо, так как в Python строчные и заглавные буквы различны. Так же не следует использовать пробелы перед открывающейся скобкой, так как это противоречит стандарту <b>PEP8</b>."
   ]
  },
  {
   "cell_type": "code",
   "execution_count": 3,
   "metadata": {},
   "outputs": [
    {
     "name": "stdout",
     "output_type": "stream",
     "text": [
      "Hello, Python!\n"
     ]
    }
   ],
   "source": [
    "# Напишем простейшую программу. На экран будет выведена строка Hello, Python\n",
    "print('Hello, Python!')"
   ]
  },
  {
   "cell_type": "code",
   "execution_count": 8,
   "metadata": {},
   "outputs": [
    {
     "name": "stdout",
     "output_type": "stream",
     "text": [
      "Hello, Python!\n"
     ]
    }
   ],
   "source": [
    "# Немного изменим программу: \n",
    "print('Hello,', 'Python!')\n",
    "# В данном случае мы внутри команды указали две строки. Каждую заключили в кавычки и разделили запятой."
   ]
  },
  {
   "cell_type": "markdown",
   "metadata": {},
   "source": [
    "<b>Обратите внимание:</b> после запятой согласно стандарту <b>PEP8</b> обязательно нужно добавлять пробел."
   ]
  },
  {
   "cell_type": "markdown",
   "metadata": {},
   "source": [
    "## 2. Именованные аргументы print()"
   ]
  },
  {
   "cell_type": "markdown",
   "metadata": {},
   "source": [
    "Из прошлого примера видно, что функция print при выводе разделяет аргументы пробелами, а в конце переходит на новую строчку.Но это не всегда удобно.\n",
    "Для тонкой настройки вывода у функции print существуют необязательные именованные аргументы <b>sep=''</b>, <b>end=''</b>"
   ]
  },
  {
   "cell_type": "code",
   "execution_count": 7,
   "metadata": {},
   "outputs": [
    {
     "name": "stdout",
     "output_type": "stream",
     "text": [
      "Help on built-in function print in module builtins:\n",
      "\n",
      "print(...)\n",
      "    print(value, ..., sep=' ', end='\\n', file=sys.stdout, flush=False)\n",
      "    \n",
      "    Prints the values to a stream, or to sys.stdout by default.\n",
      "    Optional keyword arguments:\n",
      "    file:  a file-like object (stream); defaults to the current sys.stdout.\n",
      "    sep:   string inserted between values, default a space.\n",
      "    end:   string appended after the last value, default a newline.\n",
      "    flush: whether to forcibly flush the stream.\n",
      "\n"
     ]
    }
   ],
   "source": [
    "# С помощью команды help можно посмотреть информацию об интересующей функции:\n",
    "help(print)"
   ]
  },
  {
   "cell_type": "markdown",
   "metadata": {},
   "source": [
    "Таким образом, значения именованных аргументов функции print по умолчанию такие: print(..., sep=' ', end='\\n')."
   ]
  },
  {
   "cell_type": "markdown",
   "metadata": {},
   "source": [
    "<b>sep</b> — разделитель аргументов (по умолчанию пробел) и <b>end</b> — то, что выводится после вывода всех аргументов (по умолчанию символ начала новой строки). Например, если end сделать пустой строкой, то print не перейдет на новую строчку, и следующий print продолжит вывод прямо на этой же строке."
   ]
  },
  {
   "cell_type": "code",
   "execution_count": 14,
   "metadata": {},
   "outputs": [
    {
     "name": "stdout",
     "output_type": "stream",
     "text": [
      "Привет!\n"
     ]
    }
   ],
   "source": [
    "print('При', end='')\n",
    "print('вет!')"
   ]
  },
  {
   "cell_type": "code",
   "execution_count": 15,
   "metadata": {},
   "outputs": [
    {
     "name": "stdout",
     "output_type": "stream",
     "text": [
      "Раз--два--три\n"
     ]
    }
   ],
   "source": [
    "print('Раз', 'два', 'три', sep='--')"
   ]
  },
  {
   "cell_type": "markdown",
   "metadata": {},
   "source": [
    "<b>Обратите внимание:</b> знак = здесь не выполняет никакого присваивания, переменных end и sep не появляется.\n",
    "Согласно стандарту <b>PEP8</b> пробелы вокруг знака = не используются"
   ]
  },
  {
   "cell_type": "markdown",
   "metadata": {},
   "source": [
    "## 3. Экранирующая последовательность "
   ]
  },
  {
   "cell_type": "markdown",
   "metadata": {},
   "source": [
    "Если внутри кавычек встречается символ \\ — обратная косая черта, обратный слеш, бэкслеш, он вместе с идущим после него символом образует экранирующую последовательность (escape sequence) и воспринимается интерпретатором как единый специальный символ."
   ]
  },
  {
   "cell_type": "markdown",
   "metadata": {},
   "source": [
    "В частности, \\n — символ начала новой строки. Кроме того, \\t — табуляция, \\'  — кавычка, \\\\ — просто бэкслеш. Использование экранирующих последовательностей вместо специальных символов называется их экранированием."
   ]
  },
  {
   "cell_type": "code",
   "execution_count": 13,
   "metadata": {},
   "outputs": [
    {
     "name": "stdout",
     "output_type": "stream",
     "text": [
      "Произведение А.С. Пушкина \"Евгений Онегин\"\n",
      "Произведение А.С. Пушкина 'Евгений Онегин'\n"
     ]
    }
   ],
   "source": [
    "print('Произведение А.С. Пушкина \"Евгений Онегин\"')\n",
    "print('Произведение А.С. Пушкина \\'Евгений Онегин\\'')"
   ]
  },
  {
   "cell_type": "code",
   "execution_count": 20,
   "metadata": {},
   "outputs": [
    {
     "name": "stdout",
     "output_type": "stream",
     "text": [
      "восход\t04:04\n",
      "закат\t20:53\n"
     ]
    }
   ],
   "source": [
    "print('восход\\t04:04\\nзакат\\t20:53')"
   ]
  },
  {
   "cell_type": "code",
   "execution_count": 19,
   "metadata": {},
   "outputs": [
    {
     "name": "stdout",
     "output_type": "stream",
     "text": [
      "print('восход\\t04:04\\nзакат\\t20:53')\n"
     ]
    }
   ],
   "source": [
    "print('print(\\'восход\\\\t04:04\\\\nзакат\\\\t20:53\\')') "
   ]
  },
  {
   "cell_type": "markdown",
   "metadata": {},
   "source": [
    "## 4. \"Cырые\" (r-строки)"
   ]
  },
  {
   "cell_type": "markdown",
   "metadata": {},
   "source": [
    "Если приписать букву r перед открывающей строку кавычкой, бэкслеши будут считаться обычными символами."
   ]
  },
  {
   "cell_type": "code",
   "execution_count": 24,
   "metadata": {},
   "outputs": [
    {
     "name": "stdout",
     "output_type": "stream",
     "text": [
      "Файл на диске c:\\\\\n",
      "Файл на диске c:\\\\\n"
     ]
    }
   ],
   "source": [
    "print(\"Файл на диске c:\\\\\\\\\")\n",
    "print(r\"Файл на диске c:\\\\\")"
   ]
  },
  {
   "cell_type": "markdown",
   "metadata": {},
   "source": [
    "А если открывать и закрывать строку не одной, а тремя кавычками подряд, внутри можно делать обычные переводы строки (внутри одинарных кавычек так делать нельзя)."
   ]
  },
  {
   "cell_type": "code",
   "execution_count": 23,
   "metadata": {},
   "outputs": [
    {
     "name": "stdout",
     "output_type": "stream",
     "text": [
      "Есть всего два типа языков программирования: те, на которые \n",
      "люди всё время ругаются, и те, которые никто не использует.\n",
      "\n",
      "Bjarne Stroustrup\n",
      "\n"
     ]
    }
   ],
   "source": [
    "print(\"\"\"Есть всего два типа языков программирования: те, на которые \n",
    "люди всё время ругаются, и те, которые никто не использует.\n",
    "\n",
    "Bjarne Stroustrup\n",
    "\"\"\")"
   ]
  },
  {
   "cell_type": "code",
   "execution_count": null,
   "metadata": {},
   "outputs": [],
   "source": []
  }
 ],
 "metadata": {
  "kernelspec": {
   "display_name": "Python 3 (ipykernel)",
   "language": "python",
   "name": "python3"
  },
  "language_info": {
   "codemirror_mode": {
    "name": "ipython",
    "version": 3
   },
   "file_extension": ".py",
   "mimetype": "text/x-python",
   "name": "python",
   "nbconvert_exporter": "python",
   "pygments_lexer": "ipython3",
   "version": "3.9.7"
  },
  "latex_envs": {
   "LaTeX_envs_menu_present": true,
   "autoclose": false,
   "autocomplete": true,
   "bibliofile": "biblio.bib",
   "cite_by": "apalike",
   "current_citInitial": 1,
   "eqLabelWithNumbers": true,
   "eqNumInitial": 1,
   "hotkeys": {
    "equation": "Ctrl-E",
    "itemize": "Ctrl-I"
   },
   "labels_anchors": false,
   "latex_user_defs": false,
   "report_style_numbering": false,
   "user_envs_cfg": false
  }
 },
 "nbformat": 4,
 "nbformat_minor": 4
}
