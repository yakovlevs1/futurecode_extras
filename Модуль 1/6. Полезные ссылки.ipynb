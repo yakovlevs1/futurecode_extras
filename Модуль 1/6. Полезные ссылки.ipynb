{
 "cells": [
  {
   "cell_type": "markdown",
   "metadata": {},
   "source": [
    "# Полезные ссылки"
   ]
  },
  {
   "cell_type": "markdown",
   "metadata": {},
   "source": [
    "Python – язык с огромной экосистемой. Чтобы помочь вам в этой экосистеме ориентироваться, в этом документе мы постараемся дать некоторые полезные советы и ссылки для начинающих программировать на Python."
   ]
  },
  {
   "cell_type": "markdown",
   "metadata": {},
   "source": [
    "<b>Документация Python 3:</b> https://docs.python.org/3/\n",
    "\n",
    "<b>Интерпретатор языка Python 3 версии </b> https://www.python.org/downloads/\n",
    "    \n",
    "<b>Среда программирования JetBrains PyCharm (Community)</b> https://www.jetbrains.com/pycharm/download/#section=windows\n",
    "\n",
    "<b>Установка анаконды </b> https://www.anaconda.com/download/ - для Windows / Linux / OS"
   ]
  },
  {
   "cell_type": "markdown",
   "metadata": {},
   "source": [
    "При оформлении программ мы будем пользоваться <a href = https://www.python.org/dev/peps/pep-0008/>PEP 8</a> — Python Enhanced Proposal. Это документ, описывающий общепринятый (рекомендуемый) стиль написания программ на языке Python. Документ создан по рекомендациям Гвидо Ван Россума и Барри Уорсо. Ознакомиться с материалами на русском языке можно, например, <a href = https://pep8.ru/doc/pep8/>тут</a>."
   ]
  },
  {
   "cell_type": "markdown",
   "metadata": {},
   "source": [
    "Есть утилита <a href = https://pypi.org/project/autopep8/> autopep8</a>, которая позволяет автоматически приводить код к виду, соответствующему PEP 8."
   ]
  },
  {
   "cell_type": "markdown",
   "metadata": {},
   "source": [
    "Библиотеки, написанные сообществом, находятся на ресурсе PyPI (Python Package Index).\n",
    "\n",
    "Именно с этого ресурса можно устанавливаться внешние пакеты, если устанавливать их с помощью утилиты pip. Хороший способ найти библиотеку для решения той или иной задачи – постараться загуглить ее – часто поиск Google выдает наиболее релевантный вариант. На GitHub есть <a href = https://github.com/vinta/awesome-python>коллекция хороших библиотек</a> для решения всевозможных задач.\n",
    "\n",
    "Большая база вопросов и ответов по Python сосредоточена на ресурсе <a href = https://stackoverflow.com/>Stack Overflow </a> – ее часто выдает поисковик, при поиске решений в непонятных ситуациях.\n",
    "\n",
    "Также есть <a href = https://ru.stackoverflow.com/questions/tagged/python>русскоязычная версия портала stackoverflow</a>, где есть множество вопросов/ответов с тегом \"python\"."
   ]
  },
  {
   "cell_type": "markdown",
   "metadata": {},
   "source": [
    "<b>Хорошие ресурсы для обучения</b> для новичков в Python на русском языке:\n",
    "<ul>\n",
    "    <li><a href = https://pythonworld.ru/samouchitel-python>pythonworld</a></li>\n",
    "    <li><a href = https://pythontutor.ru/>pythontutor</a></li>"
   ]
  },
  {
   "cell_type": "markdown",
   "metadata": {},
   "source": [
    "<b>Книги:</b>\n",
    "\n",
    "<ul>\n",
    "    <li>Марк Саммерфилд - Программирование на Python 3. Подробное руководство</li>\n",
    "    <li>Марк Лутц - Изучаем Python, 4-е издание</li>\n",
    "    <li>Адитья Бхаргава  - Грокаем алгоритмы. Иллюстрированное пособие\n",
    "</ul>\n",
    "\n",
    "Эти книги, особенно вторая, могут показаться тяжелыми для чтения, так как являются очень подробными справочниками по языку Python. Однако в них собраны практически все сведения о языке.    "
   ]
  },
  {
   "cell_type": "code",
   "execution_count": null,
   "metadata": {},
   "outputs": [],
   "source": []
  }
 ],
 "metadata": {
  "kernelspec": {
   "display_name": "Python 3 (ipykernel)",
   "language": "python",
   "name": "python3"
  },
  "language_info": {
   "codemirror_mode": {
    "name": "ipython",
    "version": 3
   },
   "file_extension": ".py",
   "mimetype": "text/x-python",
   "name": "python",
   "nbconvert_exporter": "python",
   "pygments_lexer": "ipython3",
   "version": "3.11.0"
  },
  "latex_envs": {
   "LaTeX_envs_menu_present": true,
   "autoclose": false,
   "autocomplete": true,
   "bibliofile": "biblio.bib",
   "cite_by": "apalike",
   "current_citInitial": 1,
   "eqLabelWithNumbers": true,
   "eqNumInitial": 1,
   "hotkeys": {
    "equation": "Ctrl-E",
    "itemize": "Ctrl-I"
   },
   "labels_anchors": false,
   "latex_user_defs": false,
   "report_style_numbering": false,
   "user_envs_cfg": false
  }
 },
 "nbformat": 4,
 "nbformat_minor": 4
}
